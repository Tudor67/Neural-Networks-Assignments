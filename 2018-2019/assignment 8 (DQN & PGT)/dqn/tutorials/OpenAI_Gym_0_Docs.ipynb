{
 "cells": [
  {
   "cell_type": "markdown",
   "metadata": {},
   "source": [
    "# OpenAI Gym (Docs)\n",
    "https://gym.openai.com/docs/"
   ]
  },
  {
   "cell_type": "markdown",
   "metadata": {},
   "source": [
    "## Setup"
   ]
  },
  {
   "cell_type": "code",
   "execution_count": 1,
   "metadata": {},
   "outputs": [],
   "source": [
    "import gym\n",
    "import matplotlib.pyplot as plt\n",
    "import time\n",
    "\n",
    "%matplotlib inline"
   ]
  },
  {
   "cell_type": "markdown",
   "metadata": {},
   "source": [
    "## Environments"
   ]
  },
  {
   "cell_type": "code",
   "execution_count": 2,
   "metadata": {},
   "outputs": [],
   "source": [
    "def run_env(env_name='CartPole-v0'):\n",
    "    env = gym.make(env_name)\n",
    "    env.reset()\n",
    "    \n",
    "    for t in range(200):\n",
    "        env.render()\n",
    "        _, _, done, _ = env.step(env.action_space.sample())\n",
    "        time.sleep(0.2)\n",
    "        if done:\n",
    "            print(f'episode finished after {t+1} timesteps')\n",
    "            break\n",
    "    \n",
    "    env.close()"
   ]
  },
  {
   "cell_type": "code",
   "execution_count": 3,
   "metadata": {},
   "outputs": [
    {
     "name": "stdout",
     "output_type": "stream",
     "text": [
      "episode finished after 12 timesteps\n"
     ]
    }
   ],
   "source": [
    "run_env('CartPole-v0')"
   ]
  },
  {
   "cell_type": "code",
   "execution_count": 4,
   "metadata": {},
   "outputs": [],
   "source": [
    "run_env('MsPacman-v0')"
   ]
  },
  {
   "cell_type": "code",
   "execution_count": 5,
   "metadata": {},
   "outputs": [
    {
     "name": "stdout",
     "output_type": "stream",
     "text": [
      "episode finished after 200 timesteps\n"
     ]
    }
   ],
   "source": [
    "run_env('MountainCar-v0')"
   ]
  },
  {
   "cell_type": "markdown",
   "metadata": {},
   "source": [
    "## Spaces\n",
    "`Discrete` space allows a fixed range of non-negative numbers;  \n",
    "`Box` space represents an n-dimensional box."
   ]
  },
  {
   "cell_type": "code",
   "execution_count": 6,
   "metadata": {},
   "outputs": [
    {
     "name": "stdout",
     "output_type": "stream",
     "text": [
      "Discrete(2)\n",
      "1\n",
      "\n",
      "Box(4,)\n",
      "[-1.8760126e+00  2.6056100e+38 -2.0891783e-01  1.2074023e+38]\n",
      "[-4.8000002e+00 -3.4028235e+38 -4.1887903e-01 -3.4028235e+38]\n",
      "[4.8000002e+00 3.4028235e+38 4.1887903e-01 3.4028235e+38]\n"
     ]
    }
   ],
   "source": [
    "env = gym.make('CartPole-v0')\n",
    "\n",
    "print(env.action_space)\n",
    "print(env.action_space.sample())\n",
    "print()\n",
    "\n",
    "print(env.observation_space)\n",
    "print(env.observation_space.sample())\n",
    "print(env.observation_space.low)\n",
    "print(env.observation_space.high)\n",
    "\n",
    "env.close()"
   ]
  },
  {
   "cell_type": "code",
   "execution_count": 7,
   "metadata": {},
   "outputs": [
    {
     "name": "stdout",
     "output_type": "stream",
     "text": [
      "space: Discrete(9)\n",
      "space.n: 9\n",
      "space.sample: 8\n",
      "space.contains(0): True\n",
      "space.contains(5): True\n",
      "space.contains(9): False\n"
     ]
    }
   ],
   "source": [
    "space = gym.spaces.Discrete(9)\n",
    "print(f'space: {space}')\n",
    "print(f'space.n: {space.n}')\n",
    "print(f'space.sample: {space.sample()}')\n",
    "print(f'space.contains(0): {space.contains(0)}')\n",
    "print(f'space.contains(5): {space.contains(5)}')\n",
    "print(f'space.contains(9): {space.contains(9)}')"
   ]
  },
  {
   "cell_type": "markdown",
   "metadata": {},
   "source": [
    "__Let's play__"
   ]
  },
  {
   "cell_type": "code",
   "execution_count": 8,
   "metadata": {},
   "outputs": [
    {
     "name": "stdout",
     "output_type": "stream",
     "text": [
      "1 False\n",
      "2 False\n",
      "3 False\n",
      "4 False\n",
      "5 False\n",
      "6 False\n",
      "7 False\n",
      "8 False\n",
      "9 True\n"
     ]
    }
   ],
   "source": [
    "env = gym.make('CartPole-v0')\n",
    "env.reset()\n",
    "for t in range(20):\n",
    "    env.render()\n",
    "    _, _, done, _ = env.step(0)\n",
    "    time.sleep(0.4)\n",
    "    print(t+1, done)\n",
    "    if done:\n",
    "        break\n",
    "\n",
    "env.close()"
   ]
  },
  {
   "cell_type": "markdown",
   "metadata": {},
   "source": [
    "## The registry"
   ]
  },
  {
   "cell_type": "code",
   "execution_count": 9,
   "metadata": {
    "scrolled": false
   },
   "outputs": [],
   "source": [
    "#print(gym.envs.registry.all())"
   ]
  },
  {
   "cell_type": "code",
   "execution_count": 10,
   "metadata": {},
   "outputs": [
    {
     "name": "stdout",
     "output_type": "stream",
     "text": [
      "['__class__', '__delattr__', '__dict__', '__dir__', '__doc__', '__eq__', '__format__', '__ge__', '__getattribute__', '__gt__', '__hash__', '__init__', '__init_subclass__', '__le__', '__lt__', '__module__', '__ne__', '__new__', '__reduce__', '__reduce_ex__', '__repr__', '__setattr__', '__sizeof__', '__str__', '__subclasshook__', '__weakref__', '_entry_point', '_env_name', '_kwargs', '_local_only', 'id', 'make', 'max_episode_seconds', 'max_episode_steps', 'nondeterministic', 'reward_threshold', 'tags', 'timestep_limit', 'trials']\n",
      "100\n"
     ]
    }
   ],
   "source": [
    "print(dir(gym.envs.registry.env_specs['Copy-v0']))\n",
    "print(gym.envs.registry.env_specs['Copy-v0'].trials)"
   ]
  }
 ],
 "metadata": {
  "kernelspec": {
   "display_name": "Python 3",
   "language": "python",
   "name": "python3"
  },
  "language_info": {
   "codemirror_mode": {
    "name": "ipython",
    "version": 3
   },
   "file_extension": ".py",
   "mimetype": "text/x-python",
   "name": "python",
   "nbconvert_exporter": "python",
   "pygments_lexer": "ipython3",
   "version": "3.6.7"
  }
 },
 "nbformat": 4,
 "nbformat_minor": 2
}

{
 "cells": [
  {
   "cell_type": "markdown",
   "metadata": {},
   "source": [
    "# DQN (train)\n",
    "https://simoninithomas.github.io/Deep_reinforcement_learning_Course/  \n",
    "https://medium.freecodecamp.org/an-introduction-to-deep-q-learning-lets-play-doom-54d02d8017d8  \n",
    "https://medium.freecodecamp.org/improvements-in-deep-q-learning-dueling-double-dqn-prioritized-experience-replay-and-fixed-58b130cc5682  \n",
    "https://github.com/yandexdataschool/Practical_RL/blob/master/week4_approx_rl/homework_pytorch.ipynb  \n",
    "http://maciejjaskowski.github.io/2016/03/09/space-invaders.html  \n",
    "https://storage.googleapis.com/deepmind-data/assets/papers/DeepMindNature14236Paper.pdf"
   ]
  },
  {
   "cell_type": "markdown",
   "metadata": {},
   "source": [
    "## 1. Setup"
   ]
  },
  {
   "cell_type": "code",
   "execution_count": 1,
   "metadata": {},
   "outputs": [
    {
     "name": "stdout",
     "output_type": "stream",
     "text": [
      "sys.version: 3.6.7 |Anaconda, Inc.| (default, Oct 23 2018, 19:16:44) \n",
      "[GCC 7.3.0]\n",
      "skimage.version: 0.14.1\n",
      "tf.version: 1.11.0\n"
     ]
    }
   ],
   "source": [
    "import config\n",
    "import gym\n",
    "import matplotlib.animation as animation\n",
    "import matplotlib.pyplot as plt\n",
    "import numpy as np\n",
    "import tensorflow as tf\n",
    "import sys\n",
    "\n",
    "from collections import deque\n",
    "from dqn import DQN\n",
    "from preprocessing import *\n",
    "\n",
    "%matplotlib inline\n",
    "%load_ext autoreload\n",
    "%autoreload 2\n",
    "\n",
    "print(f'sys.version: {sys.version}')\n",
    "print(f'skimage.version: {skimage.__version__}')\n",
    "print(f'tf.version: {tf.__version__}')"
   ]
  },
  {
   "cell_type": "markdown",
   "metadata": {},
   "source": [
    "## 2. Look at our env"
   ]
  },
  {
   "cell_type": "code",
   "execution_count": 2,
   "metadata": {},
   "outputs": [
    {
     "name": "stdout",
     "output_type": "stream",
     "text": [
      "Game: Pong-v0\n",
      "A state (in env, not in our dqn) is represented by a frame\n",
      "<class 'numpy.ndarray'> uint8\n",
      "(210, 160, 3)\n"
     ]
    }
   ],
   "source": [
    "env = gym.make(config.GAME_NAME)\n",
    "state = env.reset()\n",
    "print(f'Game: {config.GAME_NAME}')\n",
    "print('A state (in env, not in our dqn) is represented by a frame')\n",
    "print(type(state), state.dtype)\n",
    "print(state.shape)"
   ]
  },
  {
   "cell_type": "code",
   "execution_count": 3,
   "metadata": {},
   "outputs": [
    {
     "name": "stdout",
     "output_type": "stream",
     "text": [
      "Num_Actions: 6\n",
      "0: NOOP\n",
      "1: FIRE\n",
      "2: RIGHT\n",
      "3: LEFT\n",
      "4: RIGHTFIRE\n",
      "5: LEFTFIRE\n"
     ]
    }
   ],
   "source": [
    "print(f'Num_Actions: {env.action_space.n}')\n",
    "action_meanings = env.unwrapped.get_action_meanings()\n",
    "for i in range(env.action_space.n):\n",
    "    print(f'{i}: {action_meanings[i]}')"
   ]
  },
  {
   "cell_type": "markdown",
   "metadata": {},
   "source": [
    "__Look how the rgb frame is preprocessed__"
   ]
  },
  {
   "cell_type": "code",
   "execution_count": 4,
   "metadata": {},
   "outputs": [
    {
     "name": "stdout",
     "output_type": "stream",
     "text": [
      "initial: uint8\n",
      "preprocessed_frame: uint8, [62, 236]\n"
     ]
    },
    {
     "data": {
      "image/png": "[encoded data removed]",
      "text/plain": [
       "<Figure size 432x288 with 2 Axes>"
      ]
     },
     "metadata": {
      "needs_background": "light"
     },
     "output_type": "display_data"
    }
   ],
   "source": [
    "env.reset()\n",
    "rgb_frame, _, _, _ = env.step(1)\n",
    "preprocessed_frame = preprocess_frame(rgb_frame)\n",
    "\n",
    "print(f'initial: {rgb_frame.dtype}')\n",
    "print(f'preprocessed_frame: {preprocessed_frame.dtype}'\n",
    "      f', [{preprocessed_frame.min()}, {preprocessed_frame.max()}]')\n",
    "\n",
    "plt.figure()\n",
    "\n",
    "plt.subplot(1, 2, 1)\n",
    "plt.title(f'initial: {rgb_frame.shape}')\n",
    "plt.axis('off')\n",
    "plt.imshow(rgb_frame)\n",
    "\n",
    "plt.subplot(1, 2, 2)\n",
    "plt.title(f'preprocessed: {preprocessed_frame.shape}')\n",
    "plt.axis('off')\n",
    "plt.imshow(preprocessed_frame, cmap='gray')\n",
    "\n",
    "plt.show()"
   ]
  },
  {
   "cell_type": "markdown",
   "metadata": {},
   "source": [
    "## 3. DQN"
   ]
  },
  {
   "cell_type": "markdown",
   "metadata": {},
   "source": [
    "### CNN architecture\n",
    "1. Conv2d(filters=32, kernel_size=8, strides=4, padding='valid', activation=ReLU)\n",
    "2. Conv2d(filters=64, kernel_size=4, strides=2, padding='valid', activation=ReLU)  \n",
    "2. Conv2d(filters=64, kernel_size=3, strides=1, padding='valid', activation=ReLU) -> Flatten()  \n",
    "3. FC(512, activation=ReLU)\n",
    "4. FC(NUM_ACTIONS, activation=Linear)"
   ]
  },
  {
   "cell_type": "markdown",
   "metadata": {},
   "source": [
    "### Instantiate DQNs: DQN and TargetDQN"
   ]
  },
  {
   "cell_type": "code",
   "execution_count": 5,
   "metadata": {},
   "outputs": [],
   "source": [
    "tf.reset_default_graph()\n",
    "\n",
    "dqn = DQN(action_size=env.action_space.n, dqn_name='DQN')\n",
    "dqn_target = DQN(action_size=env.action_space.n, dqn_name='DQNTarget')"
   ]
  },
  {
   "cell_type": "markdown",
   "metadata": {},
   "source": [
    "## 4. Training"
   ]
  },
  {
   "cell_type": "markdown",
   "metadata": {},
   "source": [
    "### Memory class (for Experience Replay)"
   ]
  },
  {
   "cell_type": "code",
   "execution_count": 6,
   "metadata": {},
   "outputs": [],
   "source": [
    "class Memory:\n",
    "    def __init__(self, max_size):\n",
    "        self.buffer = deque(maxlen=max_size)\n",
    "        \n",
    "    def add(self, experience):\n",
    "        self.buffer.append(experience)\n",
    "        \n",
    "    def sample(self, batch_size):\n",
    "        buffer_size = len(self.buffer)\n",
    "        indices = np.random.choice(np.arange(buffer_size),\n",
    "                                   size=batch_size,\n",
    "                                   replace=False)\n",
    "        experiences_batch = [self.buffer[idx] for idx in indices]\n",
    "        return experiences_batch"
   ]
  },
  {
   "cell_type": "markdown",
   "metadata": {},
   "source": [
    "#### Pre-populate memory by taking random actions and storing each experience (stacked_frames_hwc, action, reward, done)"
   ]
  },
  {
   "cell_type": "code",
   "execution_count": 7,
   "metadata": {},
   "outputs": [],
   "source": [
    "def get_pre_populated_memory(env):\n",
    "    memory = Memory(max_size=config.MEMORY_SIZE)\n",
    "    stacked_frames = None\n",
    "    \n",
    "    # start a new episode\n",
    "    state = env.reset()\n",
    "    _, stacked_frames = stack_frames(stacked_frames, state, is_new_episode=True)\n",
    "\n",
    "    for _ in range(config.PRETRAIN_LENGTH):            \n",
    "        # random action\n",
    "        action = env.action_space.sample() \n",
    "        \n",
    "        # next state\n",
    "        next_state, reward, done, _ = env.step(action)\n",
    "\n",
    "        if done:\n",
    "            # the end of episode (next_state = 0)\n",
    "            next_state = np.zeros(config.STATE_SHAPE, dtype=np.uint8)\n",
    "            stacked_frames_hwc, stacked_frames = stack_frames(stacked_frames, next_state,\n",
    "                                                              is_new_episode=False)\n",
    "\n",
    "            # add experience to memory\n",
    "            memory.add((stacked_frames_hwc, action, reward, done))\n",
    "\n",
    "            # start a new episode\n",
    "            state = env.reset()\n",
    "            _, stacked_frames = stack_frames(stacked_frames, state,\n",
    "                                             is_new_episode=True)\n",
    "        else:\n",
    "            # add experience to memory\n",
    "            stacked_frames_hwc, stacked_frames = stack_frames(stacked_frames, next_state,\n",
    "                                                              is_new_episode=False)\n",
    "            memory.add((stacked_frames_hwc, action, reward, done))\n",
    "    \n",
    "    return memory"
   ]
  },
  {
   "cell_type": "markdown",
   "metadata": {},
   "source": [
    "### Helper function to copy DQN parameters to DQNTarget"
   ]
  },
  {
   "cell_type": "code",
   "execution_count": 8,
   "metadata": {},
   "outputs": [],
   "source": [
    "def update_dqn_target():\n",
    "    from_vars = tf.get_collection(tf.GraphKeys.TRAINABLE_VARIABLES, 'DQN')\n",
    "    to_vars = tf.get_collection(tf.GraphKeys.TRAINABLE_VARIABLES, 'DQNTarget')\n",
    "    \n",
    "    op_holder = []\n",
    "    for from_var, to_var in zip(from_vars, to_vars):\n",
    "        op_holder.append(to_var.assign(from_var))\n",
    "        \n",
    "    return op_holder"
   ]
  },
  {
   "cell_type": "markdown",
   "metadata": {},
   "source": [
    "### DQN (training algorithm)"
   ]
  },
  {
   "cell_type": "code",
   "execution_count": 9,
   "metadata": {},
   "outputs": [],
   "source": [
    "def eps_greedy(sess, state, step):\n",
    "    # eps: exploration probability\n",
    "    # linear decaying for config.DECAY_STEPS (config.EPS_START ---> config.EPS_END)\n",
    "    eps = config.EPS_END\n",
    "    if step <= config.DECAY_STEPS:\n",
    "        eps = config.EPS_START - step * config.DECAY_STEP_LENGTH\n",
    "    \n",
    "    if np.random.rand() < eps:\n",
    "        # exploration with eps probability\n",
    "        action = env.action_space.sample()\n",
    "    else:\n",
    "        # exploitation with (1 - eps) probability\n",
    "        Q = sess.run(dqn.output,\n",
    "                     feed_dict={\n",
    "                         dqn.input_ph: state[np.newaxis]\n",
    "                     })\n",
    "        \n",
    "        action = np.argmax(Q)\n",
    "\n",
    "    return action, eps"
   ]
  },
  {
   "cell_type": "code",
   "execution_count": 10,
   "metadata": {},
   "outputs": [],
   "source": [
    "def dqn_training(dqn, dqn_target):\n",
    "    \n",
    "    # memory for experience replay\n",
    "    memory = get_pre_populated_memory(env)\n",
    "    \n",
    "    # update dqn target op\n",
    "    update_dqn_target_op = update_dqn_target()    \n",
    "    \n",
    "    # to save some ckpts\n",
    "    saver = tf.train.Saver(max_to_keep=30)\n",
    "    \n",
    "    with tf.Session() as sess:\n",
    "        # init tf variables\n",
    "        sess.run(tf.global_variables_initializer())\n",
    "        \n",
    "        # init dqn_target with the same params as dqn\n",
    "        sess.run(update_dqn_target_op)\n",
    "        \n",
    "        step = 0\n",
    "        iters_per_episode = []\n",
    "        reward_per_episode = []\n",
    "        loss_per_iter = []\n",
    "        \n",
    "        for episode in range(1, config.NUM_EPISODES + 1):\n",
    "            episode_step = 0\n",
    "            done = False\n",
    "            stacked_frames = None\n",
    "            episode_rewards = []\n",
    "            \n",
    "            # new episode\n",
    "            state = env.reset()\n",
    "            stacked_frames_hwc, stacked_frames = stack_frames(stacked_frames, state,\n",
    "                                                              is_new_episode=True)\n",
    "            \n",
    "            while not done:\n",
    "                episode_step += 1\n",
    "                step += 1\n",
    "                \n",
    "                # eps-gredy\n",
    "                current_state = stacked_frames_hwc[:,:,-config.STACK_SIZE:]\n",
    "                action, eps = eps_greedy(sess, current_state, step)\n",
    "                \n",
    "                next_state, reward, done, _ = env.step(action)\n",
    "                episode_rewards.append(reward)\n",
    "                \n",
    "                if done:\n",
    "                    # the end of episode (next_state = 0)\n",
    "                    next_state = np.zeros(config.STATE_SHAPE, dtype=np.uint8)\n",
    "                    stacked_frames_hwc, stacked_frames = stack_frames(stacked_frames, next_state,\n",
    "                                                                      is_new_episode=False)\n",
    "                    # add experience to memory\n",
    "                    memory.add((stacked_frames_hwc, action, reward, done))\n",
    "                    \n",
    "                    total_reward = np.sum(episode_rewards)\n",
    "                    reward_per_episode.append(total_reward)\n",
    "                    iters_per_episode.append(episode_step)\n",
    "                    \n",
    "                    print(f'Episode: {episode}, '\n",
    "                          f'Total reward: {total_reward}, '\n",
    "                          f'Epsilon: {eps:.5f}, '\n",
    "                          f'Episode steps: {episode_step}\\n'\n",
    "                          f'Total training steps after {episode} episodes: {step}')\n",
    "                else:\n",
    "                    stacked_frames_hwc, stacked_frames = stack_frames(stacked_frames, next_state,\n",
    "                                                                      is_new_episode=False)\n",
    "                    # add experience to memory\n",
    "                    memory.add((stacked_frames_hwc, action, reward, done))\n",
    "\n",
    "                ### learning part ###\n",
    "                # sample a random batch of experiences from memory\n",
    "                batch = memory.sample(config.BATCH_SIZE)\n",
    "                batch_states = np.array([experience[0][:,:,:-1] for experience in batch]) / 255.\n",
    "                batch_next_states = np.array([experience[0][:,:,1:] for experience in batch]) / 255.\n",
    "                batch_actions = np.array([experience[1] for experience in batch])\n",
    "                batch_rewards = np.array([experience[2] for experience in batch])\n",
    "                batch_dones = np.array([experience[3] for experience in batch])\n",
    "                \n",
    "                # if the episode ends at next_state:\n",
    "                #     Q_target(state) = reward\n",
    "                # else:\n",
    "                #     Q_target(state) = reward + gamma * max(a){Q_next_state}\n",
    "                Q_batch_next_state = sess.run(dqn_target.output,\n",
    "                                              feed_dict={\n",
    "                                                  dqn_target.input_ph: batch_next_states\n",
    "                                              })\n",
    "                \n",
    "                # terminal states => Q value = 0\n",
    "                Q_batch_next_state[batch_dones, :] = 0\n",
    "                \n",
    "                Q_target = batch_rewards + config.GAMMA * np.max(Q_batch_next_state, axis=1)\n",
    "                \n",
    "                loss, _ = sess.run([dqn.loss, dqn.optimization_step],\n",
    "                                   feed_dict={\n",
    "                                       dqn.input_ph: batch_states,\n",
    "                                       dqn.actions_ph: batch_actions,\n",
    "                                       dqn.Q_target_ph: Q_target,\n",
    "                                   })\n",
    "                \n",
    "                loss_per_iter.append(loss)\n",
    "                \n",
    "                if step % config.Q_TARGET_UPDATE_FREQ == 0:\n",
    "                    print('Update parameters of DQNTarget')\n",
    "                    sess.run(update_dqn_target_op)\n",
    "                \n",
    "            if (episode in [1, config.NUM_EPISODES]) or (episode % config.SAVE_EVERY == 0):\n",
    "                saver.save(sess, f'{config.SAVE_PATH}/model_episode_{episode}.ckpt')\n",
    "                print('Model saved')\n",
    "                \n",
    "    return iters_per_episode, reward_per_episode, loss_per_iter"
   ]
  },
  {
   "cell_type": "code",
   "execution_count": 11,
   "metadata": {},
   "outputs": [
    {
     "name": "stdout",
     "output_type": "stream",
     "text": [
      "Episode: 1, Total reward: -20.0, Epsilon: 0.97624, Episode steps: 1200\n",
      "Total training steps after 1 episodes: 1200\n",
      "Model saved\n",
      "Episode: 2, Total reward: -21.0, Epsilon: 0.94894, Episode steps: 1379\n",
      "Total training steps after 2 episodes: 2579\n",
      "Episode: 3, Total reward: -21.0, Epsilon: 0.92656, Episode steps: 1130\n",
      "Total training steps after 3 episodes: 3709\n",
      "Episode: 4, Total reward: -18.0, Epsilon: 0.89781, Episode steps: 1452\n",
      "Total training steps after 4 episodes: 5161\n",
      "Episode: 5, Total reward: -20.0, Epsilon: 0.87292, Episode steps: 1257\n",
      "Total training steps after 5 episodes: 6418\n",
      "Model saved\n",
      "CPU times: user 4min 38s, sys: 4min 42s, total: 9min 20s\n",
      "Wall time: 3min 6s\n"
     ]
    }
   ],
   "source": [
    "%%time\n",
    "!rm -rf $config.SAVE_PATH\n",
    "train_stats = dqn_training(dqn, dqn_target)"
   ]
  },
  {
   "cell_type": "markdown",
   "metadata": {},
   "source": [
    "#### Training stats"
   ]
  },
  {
   "cell_type": "code",
   "execution_count": 12,
   "metadata": {},
   "outputs": [],
   "source": [
    "iters_per_episode, reward_per_episode, loss_per_iter = train_stats"
   ]
  },
  {
   "cell_type": "markdown",
   "metadata": {},
   "source": [
    "#### Some plots"
   ]
  },
  {
   "cell_type": "code",
   "execution_count": 13,
   "metadata": {},
   "outputs": [
    {
     "data": {
      "image/png": "[encoded data removed]",
      "text/plain": [
       "<Figure size 1296x288 with 3 Axes>"
      ]
     },
     "metadata": {
      "needs_background": "light"
     },
     "output_type": "display_data"
    }
   ],
   "source": [
    "episode_range = np.arange(len(iters_per_episode)) + 1\n",
    "iter_range = np.arange(len(loss_per_iter)) + 1\n",
    "\n",
    "plt.figure(figsize=(18, 4))\n",
    "plt.subplot(1, 3, 1)\n",
    "plt.title('Iterations per episode')\n",
    "plt.plot(episode_range, iters_per_episode)\n",
    "plt.ylabel('iterations')\n",
    "plt.xlabel('episode')\n",
    "\n",
    "plt.subplot(1, 3, 2)\n",
    "plt.title('Reward per episode')\n",
    "plt.plot(episode_range, reward_per_episode)\n",
    "plt.ylabel('reward')\n",
    "plt.xlabel('episode')\n",
    "\n",
    "plt.subplot(1, 3, 3)\n",
    "plt.title('Loss')\n",
    "plt.plot(iter_range[::1000] // 1000, loss_per_iter[::1000])\n",
    "plt.ylabel('loss')\n",
    "plt.xlabel('step // 1000')\n",
    "plt.show()"
   ]
  }
 ],
 "metadata": {
  "kernelspec": {
   "display_name": "Python 3",
   "language": "python",
   "name": "python3"
  },
  "language_info": {
   "codemirror_mode": {
    "name": "ipython",
    "version": 3
   },
   "file_extension": ".py",
   "mimetype": "text/x-python",
   "name": "python",
   "nbconvert_exporter": "python",
   "pygments_lexer": "ipython3",
   "version": "3.6.7"
  }
 },
 "nbformat": 4,
 "nbformat_minor": 2
}

{
 "cells": [
  {
   "cell_type": "markdown",
   "metadata": {},
   "source": [
    "## 1. Setup"
   ]
  },
  {
   "cell_type": "code",
   "execution_count": 1,
   "metadata": {},
   "outputs": [],
   "source": [
    "import sys\n",
    "sys.path.append('..')"
   ]
  },
  {
   "cell_type": "code",
   "execution_count": 2,
   "metadata": {},
   "outputs": [],
   "source": [
    "import config\n",
    "import numpy as np\n",
    "import warnings\n",
    "\n",
    "from utils.preprocessing import crop_images_from_dir_and_save_all"
   ]
  },
  {
   "cell_type": "code",
   "execution_count": 3,
   "metadata": {
    "scrolled": true
   },
   "outputs": [],
   "source": [
    "%matplotlib inline\n",
    "%load_ext autoreload\n",
    "%autoreload 2\n",
    "\n",
    "warnings.filterwarnings('ignore')"
   ]
  },
  {
   "cell_type": "code",
   "execution_count": 4,
   "metadata": {},
   "outputs": [],
   "source": [
    "DATASET_PATH = f'../datasets/{config.DATASET_NAME}'"
   ]
  },
  {
   "cell_type": "markdown",
   "metadata": {},
   "source": [
    "## 2. Crop images from dir and save all"
   ]
  },
  {
   "cell_type": "code",
   "execution_count": 5,
   "metadata": {
    "scrolled": false
   },
   "outputs": [],
   "source": [
    "for split_name in ['train', 'val', 'test']:\n",
    "    for backprop_modifier in ['None', 'deconv', 'guided']:\n",
    "        crop_images_from_dir_and_save_all(images_path=f'{DATASET_PATH}/{split_name}'\n",
    "                                                      f'/{split_name}_{backprop_modifier}'\n",
    "                                                      f'_sal_from_patches',\n",
    "                                          save_path=f'{DATASET_PATH}/{split_name}'\n",
    "                                                    f'/{split_name}_{backprop_modifier}'\n",
    "                                                    f'_sal_patches',\n",
    "                                          patch_h=config.INPUT_SHAPE[0],\n",
    "                                          patch_w=config.INPUT_SHAPE[1],\n",
    "                                          img_format='png',\n",
    "                                          append_h_w=False)"
   ]
  }
 ],
 "metadata": {
  "kernelspec": {
   "display_name": "Python 3",
   "language": "python",
   "name": "python3"
  },
  "language_info": {
   "codemirror_mode": {
    "name": "ipython",
    "version": 3
   },
   "file_extension": ".py",
   "mimetype": "text/x-python",
   "name": "python",
   "nbconvert_exporter": "python",
   "pygments_lexer": "ipython3",
   "version": "3.6.7"
  }
 },
 "nbformat": 4,
 "nbformat_minor": 2
}

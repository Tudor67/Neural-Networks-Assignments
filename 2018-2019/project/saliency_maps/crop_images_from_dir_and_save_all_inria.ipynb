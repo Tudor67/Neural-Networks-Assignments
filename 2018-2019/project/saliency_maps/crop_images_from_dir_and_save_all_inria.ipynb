{
 "cells": [
  {
   "cell_type": "markdown",
   "metadata": {},
   "source": [
    "## 1. Setup"
   ]
  },
  {
   "cell_type": "code",
   "execution_count": 1,
   "metadata": {},
   "outputs": [],
   "source": [
    "import sys\n",
    "sys.path.append('..')"
   ]
  },
  {
   "cell_type": "code",
   "execution_count": 2,
   "metadata": {},
   "outputs": [],
   "source": [
    "import config\n",
    "import warnings\n",
    "\n",
    "from utils.preprocessing import crop_images_from_dir_and_save_all"
   ]
  },
  {
   "cell_type": "code",
   "execution_count": 3,
   "metadata": {
    "scrolled": true
   },
   "outputs": [],
   "source": [
    "%matplotlib inline\n",
    "%load_ext autoreload\n",
    "%autoreload 2\n",
    "\n",
    "warnings.filterwarnings('ignore')"
   ]
  },
  {
   "cell_type": "code",
   "execution_count": 4,
   "metadata": {},
   "outputs": [],
   "source": [
    "DATASET_PATH = '../datasets/inria_aerial/subset_chicago'"
   ]
  },
  {
   "cell_type": "markdown",
   "metadata": {},
   "source": [
    "## 2. Crop images from dir and save all"
   ]
  },
  {
   "cell_type": "code",
   "execution_count": 5,
   "metadata": {
    "scrolled": false
   },
   "outputs": [
    {
     "name": "stdout",
     "output_type": "stream",
     "text": [
      "train img\n",
      "train mask\n",
      "train guided_sal\n",
      "train None_sal\n",
      "val img\n",
      "val mask\n",
      "val guided_sal\n",
      "val None_sal\n",
      "test img\n",
      "test mask\n",
      "test guided_sal\n",
      "test None_sal\n"
     ]
    }
   ],
   "source": [
    "for split_name in ['train', 'val', 'test']:\n",
    "    for dir_name in ['img', 'mask', 'guided_sal', 'None_sal']:\n",
    "        print(split_name, dir_name)\n",
    "        crop_images_from_dir_and_save_all(images_path=f'{DATASET_PATH}/{split_name}'\\\n",
    "                                                      f'/{split_name}_{dir_name}_from_patches',\n",
    "                                          save_path=f'{DATASET_PATH}/{split_name}/'\\\n",
    "                                                    f'{split_name}_{dir_name}_patches',\n",
    "                                          patch_h=config.INPUT_SHAPE[0],\n",
    "                                          patch_w=config.INPUT_SHAPE[1],\n",
    "                                          img_format='png')"
   ]
  }
 ],
 "metadata": {
  "kernelspec": {
   "display_name": "Python 3",
   "language": "python",
   "name": "python3"
  },
  "language_info": {
   "codemirror_mode": {
    "name": "ipython",
    "version": 3
   },
   "file_extension": ".py",
   "mimetype": "text/x-python",
   "name": "python",
   "nbconvert_exporter": "python",
   "pygments_lexer": "ipython3",
   "version": "3.6.7"
  }
 },
 "nbformat": 4,
 "nbformat_minor": 2
}

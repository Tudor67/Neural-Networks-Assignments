{
 "cells": [
  {
   "cell_type": "markdown",
   "metadata": {},
   "source": [
    "## 1. Setup"
   ]
  },
  {
   "cell_type": "code",
   "execution_count": 1,
   "metadata": {},
   "outputs": [],
   "source": [
    "import sys\n",
    "sys.path.append('..')"
   ]
  },
  {
   "cell_type": "code",
   "execution_count": 2,
   "metadata": {},
   "outputs": [],
   "source": [
    "import config\n",
    "import warnings\n",
    "\n",
    "from utils.preprocessing import merge_patches_from_dir_and_save_all"
   ]
  },
  {
   "cell_type": "code",
   "execution_count": 3,
   "metadata": {
    "scrolled": true
   },
   "outputs": [],
   "source": [
    "%matplotlib inline\n",
    "%load_ext autoreload\n",
    "%autoreload 2\n",
    "\n",
    "warnings.filterwarnings('ignore')"
   ]
  },
  {
   "cell_type": "code",
   "execution_count": 4,
   "metadata": {},
   "outputs": [
    {
     "name": "stdout",
     "output_type": "stream",
     "text": [
      "../datasets/inria_aerial/subset_chicago\n"
     ]
    }
   ],
   "source": [
    "DATASET_PATH = f'../datasets/{config.DATASET_NAME}'\n",
    "print(DATASET_PATH)"
   ]
  },
  {
   "cell_type": "markdown",
   "metadata": {},
   "source": [
    "## 2. Merge patches from dir and save all"
   ]
  },
  {
   "cell_type": "code",
   "execution_count": 5,
   "metadata": {
    "scrolled": true
   },
   "outputs": [
    {
     "name": "stdout",
     "output_type": "stream",
     "text": [
      "test None\n",
      "test guided\n",
      "val None\n",
      "val guided\n",
      "train None\n",
      "train guided\n"
     ]
    }
   ],
   "source": [
    "for split_name in ['test', 'val', 'train']:\n",
    "    for backprop_modifier in ['None', 'guided']:\n",
    "        print(split_name, backprop_modifier)\n",
    "        patches_path = f'{DATASET_PATH}/{split_name}'\\\n",
    "                       f'/{split_name}_{backprop_modifier}_sal_patches_224_224'\n",
    "        \n",
    "        save_path = f'{DATASET_PATH}/{split_name}'\\\n",
    "                    f'/{split_name}_{backprop_modifier}_sal_from_patches'\n",
    "        \n",
    "        merge_patches_from_dir_and_save_all(patches_path=patches_path,\n",
    "                                            save_path=save_path,\n",
    "                                            img_format='png')"
   ]
  },
  {
   "cell_type": "code",
   "execution_count": 6,
   "metadata": {},
   "outputs": [
    {
     "name": "stdout",
     "output_type": "stream",
     "text": [
      "test img\n",
      "test mask\n",
      "val img\n",
      "val mask\n",
      "train img\n",
      "train mask\n"
     ]
    }
   ],
   "source": [
    "for split_name in ['test', 'val', 'train']:\n",
    "    for sub_dir in ['img', 'mask']:\n",
    "        print(split_name, sub_dir)\n",
    "        patches_path = f'{DATASET_PATH}/{split_name}'\\\n",
    "                       f'/{split_name}_{sub_dir}_patches_for_sal'\n",
    "        \n",
    "        save_path = f'{DATASET_PATH}/{split_name}'\\\n",
    "                    f'/{split_name}_{sub_dir}_from_patches'\n",
    "        \n",
    "        merge_patches_from_dir_and_save_all(patches_path=patches_path,\n",
    "                                            save_path=save_path,\n",
    "                                            img_format='png')"
   ]
  }
 ],
 "metadata": {
  "kernelspec": {
   "display_name": "Python 3",
   "language": "python",
   "name": "python3"
  },
  "language_info": {
   "codemirror_mode": {
    "name": "ipython",
    "version": 3
   },
   "file_extension": ".py",
   "mimetype": "text/x-python",
   "name": "python",
   "nbconvert_exporter": "python",
   "pygments_lexer": "ipython3",
   "version": "3.6.7"
  }
 },
 "nbformat": 4,
 "nbformat_minor": 2
}

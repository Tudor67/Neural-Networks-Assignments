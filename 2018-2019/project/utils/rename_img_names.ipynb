{
 "cells": [
  {
   "cell_type": "code",
   "execution_count": 1,
   "metadata": {},
   "outputs": [],
   "source": [
    "import sys\n",
    "import os\n",
    "\n",
    "from input_output import rename_images_with_uniform_ind_len\n",
    "from pprint import pprint"
   ]
  },
  {
   "cell_type": "code",
   "execution_count": 2,
   "metadata": {},
   "outputs": [
    {
     "name": "stdout",
     "output_type": "stream",
     "text": [
      "['chicago24_5000_5000_00_00.png',\n",
      " 'chicago24_5000_5000_00_01.png',\n",
      " 'chicago24_5000_5000_00_02.png',\n",
      " 'chicago24_5000_5000_00_03.png',\n",
      " 'chicago24_5000_5000_00_04.png',\n",
      " 'chicago24_5000_5000_00_05.png',\n",
      " 'chicago24_5000_5000_00_06.png',\n",
      " 'chicago24_5000_5000_00_07.png',\n",
      " 'chicago24_5000_5000_00_08.png',\n",
      " 'chicago24_5000_5000_00_09.png',\n",
      " 'chicago24_5000_5000_00_10.png',\n",
      " 'chicago24_5000_5000_00_11.png',\n",
      " 'chicago24_5000_5000_00_12.png',\n",
      " 'chicago24_5000_5000_00_13.png',\n",
      " 'chicago24_5000_5000_00_14.png',\n",
      " 'chicago24_5000_5000_00_15.png',\n",
      " 'chicago24_5000_5000_00_16.png',\n",
      " 'chicago24_5000_5000_00_17.png',\n",
      " 'chicago24_5000_5000_00_18.png',\n",
      " 'chicago24_5000_5000_00_19.png',\n",
      " 'chicago24_5000_5000_00_20.png',\n",
      " 'chicago24_5000_5000_00_21.png',\n",
      " 'chicago24_5000_5000_00_22.png',\n",
      " 'chicago24_5000_5000_01_00.png',\n",
      " 'chicago24_5000_5000_01_01.png']\n"
     ]
    }
   ],
   "source": [
    "img_names = sorted(os.listdir('../datasets/inria_aerial/subset_chicago/test/test_guided_sal_patches_224_224'))\n",
    "pprint(img_names[:25])"
   ]
  },
  {
   "cell_type": "code",
   "execution_count": 3,
   "metadata": {},
   "outputs": [],
   "source": [
    "dataset_path = '../datasets/inria_aerial/subset_chicago'"
   ]
  },
  {
   "cell_type": "code",
   "execution_count": 4,
   "metadata": {},
   "outputs": [
    {
     "name": "stdout",
     "output_type": "stream",
     "text": [
      "../datasets/inria_aerial/subset_chicago/test/test_img_patches_for_sal \n",
      "\n",
      "../datasets/inria_aerial/subset_chicago/test/test_mask_patches_for_sal \n",
      "\n",
      "../datasets/inria_aerial/subset_chicago/test/test_guided_sal_patches_224_224 \n",
      "\n",
      "../datasets/inria_aerial/subset_chicago/test/test_None_sal_patches_224_224 \n",
      "\n",
      "../datasets/inria_aerial/subset_chicago/val/val_img_patches_for_sal \n",
      "\n",
      "../datasets/inria_aerial/subset_chicago/val/val_mask_patches_for_sal \n",
      "\n",
      "../datasets/inria_aerial/subset_chicago/val/val_guided_sal_patches_224_224 \n",
      "\n",
      "../datasets/inria_aerial/subset_chicago/val/val_None_sal_patches_224_224 \n",
      "\n",
      "../datasets/inria_aerial/subset_chicago/train/train_img_patches_for_sal \n",
      "\n",
      "../datasets/inria_aerial/subset_chicago/train/train_mask_patches_for_sal \n",
      "\n",
      "../datasets/inria_aerial/subset_chicago/train/train_guided_sal_patches_224_224 \n",
      "\n",
      "../datasets/inria_aerial/subset_chicago/train/train_None_sal_patches_224_224 \n",
      "\n"
     ]
    }
   ],
   "source": [
    "for split_name in ['test', 'val', 'train']:\n",
    "    for dir_name in [f'img_patches_for_sal',\n",
    "                        f'mask_patches_for_sal',\n",
    "                        f'guided_sal_patches_224_224',\n",
    "                        f'None_sal_patches_224_224']:\n",
    "        dir_path = f'{dataset_path}/{split_name}/{split_name}_{dir_name}'\n",
    "        print(dir_path, '\\n')\n",
    "        \n",
    "        rename_images_with_uniform_ind_len(dir_path)"
   ]
  },
  {
   "cell_type": "code",
   "execution_count": 5,
   "metadata": {},
   "outputs": [
    {
     "name": "stdout",
     "output_type": "stream",
     "text": [
      "['chicago24_5000_5000_00_00.png',\n",
      " 'chicago24_5000_5000_00_01.png',\n",
      " 'chicago24_5000_5000_00_02.png',\n",
      " 'chicago24_5000_5000_00_03.png',\n",
      " 'chicago24_5000_5000_00_04.png',\n",
      " 'chicago24_5000_5000_00_05.png',\n",
      " 'chicago24_5000_5000_00_06.png',\n",
      " 'chicago24_5000_5000_00_07.png',\n",
      " 'chicago24_5000_5000_00_08.png',\n",
      " 'chicago24_5000_5000_00_09.png',\n",
      " 'chicago24_5000_5000_00_10.png',\n",
      " 'chicago24_5000_5000_00_11.png',\n",
      " 'chicago24_5000_5000_00_12.png',\n",
      " 'chicago24_5000_5000_00_13.png',\n",
      " 'chicago24_5000_5000_00_14.png',\n",
      " 'chicago24_5000_5000_00_15.png',\n",
      " 'chicago24_5000_5000_00_16.png',\n",
      " 'chicago24_5000_5000_00_17.png',\n",
      " 'chicago24_5000_5000_00_18.png',\n",
      " 'chicago24_5000_5000_00_19.png',\n",
      " 'chicago24_5000_5000_00_20.png',\n",
      " 'chicago24_5000_5000_00_21.png',\n",
      " 'chicago24_5000_5000_00_22.png',\n",
      " 'chicago24_5000_5000_01_00.png',\n",
      " 'chicago24_5000_5000_01_01.png']\n"
     ]
    }
   ],
   "source": [
    "pprint(sorted(os.listdir('../datasets/inria_aerial/subset_chicago/test/test_img_patches_for_sal'))[:25])"
   ]
  }
 ],
 "metadata": {
  "kernelspec": {
   "display_name": "Python 3",
   "language": "python",
   "name": "python3"
  },
  "language_info": {
   "codemirror_mode": {
    "name": "ipython",
    "version": 3
   },
   "file_extension": ".py",
   "mimetype": "text/x-python",
   "name": "python",
   "nbconvert_exporter": "python",
   "pygments_lexer": "ipython3",
   "version": "3.6.7"
  }
 },
 "nbformat": 4,
 "nbformat_minor": 2
}

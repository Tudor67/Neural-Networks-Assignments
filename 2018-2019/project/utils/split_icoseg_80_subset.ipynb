{
 "cells": [
  {
   "cell_type": "markdown",
   "metadata": {},
   "source": [
    "## Setup"
   ]
  },
  {
   "cell_type": "code",
   "execution_count": 1,
   "metadata": {},
   "outputs": [],
   "source": [
    "from dataset_utils import *"
   ]
  },
  {
   "cell_type": "code",
   "execution_count": 2,
   "metadata": {},
   "outputs": [],
   "source": [
    "%matplotlib inline\n",
    "%load_ext autoreload\n",
    "%autoreload 2"
   ]
  },
  {
   "cell_type": "code",
   "execution_count": 3,
   "metadata": {},
   "outputs": [],
   "source": [
    "ICOSEG_SUBSET_80_PATH = '../datasets/icoseg/subset_80'"
   ]
  },
  {
   "cell_type": "markdown",
   "metadata": {},
   "source": [
    "## Image names"
   ]
  },
  {
   "cell_type": "code",
   "execution_count": 4,
   "metadata": {},
   "outputs": [
    {
     "name": "stdout",
     "output_type": "stream",
     "text": [
      "['1403964539_08e241e595', '2803871935_1d11cbef12']\n",
      "['2804661662_d9fbb323f9', '2802722747_0e32525511']\n"
     ]
    }
   ],
   "source": [
    "img_list = create_img_list_from_dir(ICOSEG_SUBSET_80_PATH)\n",
    "train, val, test = split_dataset(img_list, train_size=50, val_size=10, test_size=20, random_seed=67)\n",
    "\n",
    "print(train[:2])\n",
    "print(test[:2])"
   ]
  },
  {
   "cell_type": "code",
   "execution_count": 5,
   "metadata": {},
   "outputs": [],
   "source": [
    "write_img_list(train, f'{ICOSEG_SUBSET_80_PATH}/train.txt')\n",
    "write_img_list(val, f'{ICOSEG_SUBSET_80_PATH}/val.txt')\n",
    "write_img_list(test, f'{ICOSEG_SUBSET_80_PATH}/test.txt')"
   ]
  },
  {
   "cell_type": "code",
   "execution_count": 6,
   "metadata": {},
   "outputs": [
    {
     "name": "stdout",
     "output_type": "stream",
     "text": [
      "20\n",
      "['2804661662_d9fbb323f9', '2802722747_0e32525511', '2809059340_f5c5236bb2', '2804705252_3e963ffee6', '2805956765_61c5b403a0', '2665230176_04c50a28e7', '2805938889_c07192f63f', '2808213027_528dce87f7', '583859675_f585a0a3ff', '2601103364_8a0c355a0c', '2825410126_0532b171dc', '2804702776_05c23ff5bf', '2601087522_6b182e50e5', '2600999392_81df2c3baa', '2600221691_528280b36a', '2600169273_203ece0ed7', '2806864316_280cfed19d', '2911242168_537d2aa161', '2805921839_ba138a9231', '2806827678_7c649e51f9']\n"
     ]
    }
   ],
   "source": [
    "test = read_img_list(f'{ICOSEG_SUBSET_80_PATH}/test.txt')\n",
    "print(len(test))\n",
    "print(test)"
   ]
  },
  {
   "cell_type": "markdown",
   "metadata": {},
   "source": [
    "## Images"
   ]
  },
  {
   "cell_type": "code",
   "execution_count": 7,
   "metadata": {},
   "outputs": [
    {
     "name": "stdout",
     "output_type": "stream",
     "text": [
      "uint8\n",
      "(375, 500, 3)\n",
      "(500, 324, 3)\n",
      "(334, 500, 3)\n"
     ]
    }
   ],
   "source": [
    "train, val, test = load_icoseg_subset_80()\n",
    "train_images, train_masks = train\n",
    "val_images, val_masks = val\n",
    "test_images, test_masks = test\n",
    "\n",
    "print(val_images[0].dtype)\n",
    "print(val_images[0].shape)\n",
    "print(val_images[3].shape)\n",
    "print(val_images[5].shape)"
   ]
  }
 ],
 "metadata": {
  "kernelspec": {
   "display_name": "Python 3",
   "language": "python",
   "name": "python3"
  },
  "language_info": {
   "codemirror_mode": {
    "name": "ipython",
    "version": 3
   },
   "file_extension": ".py",
   "mimetype": "text/x-python",
   "name": "python",
   "nbconvert_exporter": "python",
   "pygments_lexer": "ipython3",
   "version": "3.6.7"
  }
 },
 "nbformat": 4,
 "nbformat_minor": 2
}

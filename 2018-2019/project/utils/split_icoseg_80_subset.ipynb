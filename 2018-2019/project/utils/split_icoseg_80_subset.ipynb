{
 "cells": [
  {
   "cell_type": "code",
   "execution_count": 1,
   "metadata": {},
   "outputs": [],
   "source": [
    "from dataset_utils import *"
   ]
  },
  {
   "cell_type": "code",
   "execution_count": 2,
   "metadata": {},
   "outputs": [],
   "source": [
    "%matplotlib inline\n",
    "%load_ext autoreload\n",
    "%autoreload 2"
   ]
  },
  {
   "cell_type": "code",
   "execution_count": 3,
   "metadata": {},
   "outputs": [],
   "source": [
    "ICOSEG_SUBSET_80_PATH = '../datasets/icoseg/subset_80'"
   ]
  },
  {
   "cell_type": "code",
   "execution_count": 4,
   "metadata": {},
   "outputs": [
    {
     "name": "stdout",
     "output_type": "stream",
     "text": [
      "['1403964539_08e241e595', '2803871935_1d11cbef12']\n",
      "['2804661662_d9fbb323f9', '2802722747_0e32525511']\n"
     ]
    }
   ],
   "source": [
    "img_list = create_img_list_from_dir(ICOSEG_SUBSET_80_PATH)\n",
    "train, val, test = split_dataset(img_list, train_size=50, val_size=10, test_size=20, random_seed=67)\n",
    "\n",
    "print(train[:2])\n",
    "print(test[:2])"
   ]
  },
  {
   "cell_type": "code",
   "execution_count": 5,
   "metadata": {},
   "outputs": [],
   "source": [
    "write_img_list(train, f'{ICOSEG_SUBSET_80_PATH}/train.txt')\n",
    "write_img_list(val, f'{ICOSEG_SUBSET_80_PATH}/val.txt')\n",
    "write_img_list(test, f'{ICOSEG_SUBSET_80_PATH}/test.txt')"
   ]
  }
 ],
 "metadata": {
  "kernelspec": {
   "display_name": "Python 3",
   "language": "python",
   "name": "python3"
  },
  "language_info": {
   "codemirror_mode": {
    "name": "ipython",
    "version": 3
   },
   "file_extension": ".py",
   "mimetype": "text/x-python",
   "name": "python",
   "nbconvert_exporter": "python",
   "pygments_lexer": "ipython3",
   "version": "3.6.7"
  }
 },
 "nbformat": 4,
 "nbformat_minor": 2
}

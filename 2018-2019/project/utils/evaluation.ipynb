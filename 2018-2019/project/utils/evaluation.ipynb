{
 "cells": [
  {
   "cell_type": "markdown",
   "metadata": {},
   "source": [
    "## 1. Setup"
   ]
  },
  {
   "cell_type": "code",
   "execution_count": 1,
   "metadata": {},
   "outputs": [],
   "source": [
    "import evaluation\n",
    "import matplotlib.pyplot as plt\n",
    "import numpy as np\n",
    "import os\n",
    "import skimage\n",
    "import warnings\n",
    "\n",
    "from dataset_utils import load_dataset_split"
   ]
  },
  {
   "cell_type": "code",
   "execution_count": 2,
   "metadata": {
    "scrolled": true
   },
   "outputs": [],
   "source": [
    "%matplotlib inline\n",
    "%load_ext autoreload\n",
    "%autoreload 2\n",
    "\n",
    "#warnings.filterwarnings('ignore')"
   ]
  },
  {
   "cell_type": "code",
   "execution_count": 3,
   "metadata": {},
   "outputs": [],
   "source": [
    "ICOSEG_SUBSET_80_PATH = '../datasets/icoseg/subset_80'"
   ]
  },
  {
   "cell_type": "markdown",
   "metadata": {},
   "source": [
    "## 2. Load val split"
   ]
  },
  {
   "cell_type": "code",
   "execution_count": 4,
   "metadata": {},
   "outputs": [
    {
     "name": "stdout",
     "output_type": "stream",
     "text": [
      "(512, 512) float64 0.0 1.0\n"
     ]
    }
   ],
   "source": [
    "val_images, val_masks, img_names = load_dataset_split(ICOSEG_SUBSET_80_PATH, 'val')\n",
    "\n",
    "mask = val_masks[0]\n",
    "print(mask.shape, mask.dtype, mask.min(), mask.max())"
   ]
  },
  {
   "cell_type": "markdown",
   "metadata": {},
   "source": [
    "## 3. Jaccard similarity coefficient (JSC - also known as Intersection over Union)\n",
    "The __*Jaccard index*__ can be expressed in terms of true positives (__*TP*__), false positives (__*FP*__) and false negatives (__FN__) as:  \n",
    "__jaccard(A, B) = iou(A, B) = TP / (TP + FP + FN)__"
   ]
  },
  {
   "cell_type": "markdown",
   "metadata": {},
   "source": [
    "## 4. Dice similarity coefficient (DSC - also known as $F_1$-score)\n",
    "The __*Dice coefficient*__ can be expressed in terms of true positives (__*TP*__), false positives (__*FP*__) and false negatives (__FN__) as:  \n",
    "__dice(A, B) = 2TP / (2TP + FP + FN)__"
   ]
  },
  {
   "cell_type": "markdown",
   "metadata": {},
   "source": [
    "## 5. Some tests"
   ]
  },
  {
   "cell_type": "markdown",
   "metadata": {},
   "source": [
    "### Test 1"
   ]
  },
  {
   "cell_type": "code",
   "execution_count": 5,
   "metadata": {},
   "outputs": [
    {
     "name": "stdout",
     "output_type": "stream",
     "text": [
      "Jaccard: 1, (expected: 1)\n",
      "Dice: 1, (expected: 1)\n"
     ]
    }
   ],
   "source": [
    "a = [[0, 0, 0],\n",
    "     [0, 0, 0]]\n",
    "b = [[0, 0, 0],\n",
    "     [0, 0, 0]]\n",
    "print(f'Jaccard: {evaluation.jaccard(a, b)}, (expected: {1})')\n",
    "print(f'Dice: {evaluation.dice(a, b)}, (expected: {1})')"
   ]
  },
  {
   "cell_type": "markdown",
   "metadata": {},
   "source": [
    "### Test 2"
   ]
  },
  {
   "cell_type": "code",
   "execution_count": 6,
   "metadata": {},
   "outputs": [
    {
     "name": "stdout",
     "output_type": "stream",
     "text": [
      "Jaccard: 0.0, (expected: 0)\n",
      "Dice: 0.0, (expected: 0)\n"
     ]
    }
   ],
   "source": [
    "a = [[0, 0, 0],\n",
    "     [0, 0, 0]]\n",
    "b = [[1, 1, 1],\n",
    "     [1, 1, 1]]\n",
    "print(f'Jaccard: {evaluation.jaccard(a, b)}, (expected: {0})')\n",
    "print(f'Dice: {evaluation.dice(a, b)}, (expected: {0})')"
   ]
  },
  {
   "cell_type": "markdown",
   "metadata": {},
   "source": [
    "### Test 3"
   ]
  },
  {
   "cell_type": "code",
   "execution_count": 7,
   "metadata": {},
   "outputs": [
    {
     "name": "stdout",
     "output_type": "stream",
     "text": [
      "Jaccard: 0.0, (expected: 0)\n",
      "Dice: 0.0, (expected: 0)\n"
     ]
    }
   ],
   "source": [
    "a = [[1, 1, 1],\n",
    "     [1, 1, 1]]\n",
    "b = [[0, 0, 0],\n",
    "     [0, 0, 0]]\n",
    "print(f'Jaccard: {evaluation.jaccard(a, b)}, (expected: {0})')\n",
    "print(f'Dice: {evaluation.dice(a, b)}, (expected: {0})')"
   ]
  },
  {
   "cell_type": "markdown",
   "metadata": {},
   "source": [
    "### Test 4"
   ]
  },
  {
   "cell_type": "code",
   "execution_count": 8,
   "metadata": {},
   "outputs": [
    {
     "name": "stdout",
     "output_type": "stream",
     "text": [
      "Jaccard: 1.0, (expected: 1)\n",
      "Dice: 1.0, (expected: 1)\n"
     ]
    }
   ],
   "source": [
    "a = [[1, 1, 1],\n",
    "     [1, 1, 1]]\n",
    "b = [[1, 1, 1],\n",
    "     [1, 1, 1]]\n",
    "print(f'Jaccard: {evaluation.jaccard(a, b)}, (expected: {1})')\n",
    "print(f'Dice: {evaluation.dice(a, b)}, (expected: {1})')"
   ]
  },
  {
   "cell_type": "markdown",
   "metadata": {},
   "source": [
    "### Test 5"
   ]
  },
  {
   "cell_type": "code",
   "execution_count": 9,
   "metadata": {},
   "outputs": [
    {
     "name": "stdout",
     "output_type": "stream",
     "text": [
      "Jaccard: 1.0, (expected: 1)\n",
      "Dice: 1.0, (expected: 1)\n"
     ]
    }
   ],
   "source": [
    "a = [[0, 1, 0],\n",
    "     [0, 1, 0]]\n",
    "b = [[0, 1, 0],\n",
    "     [0, 1, 0]]\n",
    "print(f'Jaccard: {evaluation.jaccard(a, b)}, (expected: {1})')\n",
    "print(f'Dice: {evaluation.dice(a, b)}, (expected: {1})')"
   ]
  },
  {
   "cell_type": "markdown",
   "metadata": {},
   "source": [
    "### Test 6"
   ]
  },
  {
   "cell_type": "code",
   "execution_count": 10,
   "metadata": {},
   "outputs": [
    {
     "name": "stdout",
     "output_type": "stream",
     "text": [
      "Jaccard: 0.6666666666666666, (expected: 0.6666666666666666)\n",
      "Dice: 0.8, (expected: 0.8)\n"
     ]
    }
   ],
   "source": [
    "a = [[0, 1, 0],\n",
    "     [0, 1, 0]]\n",
    "b = [[0, 1, 0],\n",
    "     [1, 1, 0]]\n",
    "print(f'Jaccard: {evaluation.jaccard(a, b)}, (expected: {2. / (2 + 0 + 1)})')\n",
    "print(f'Dice: {evaluation.dice(a, b)}, (expected: {2 * 2. / (2 * 2 + 0 + 1)})')"
   ]
  },
  {
   "cell_type": "markdown",
   "metadata": {},
   "source": [
    "### Test 7"
   ]
  },
  {
   "cell_type": "code",
   "execution_count": 11,
   "metadata": {},
   "outputs": [
    {
     "name": "stdout",
     "output_type": "stream",
     "text": [
      "Jaccard: 0.6666666666666666, (expected: 0.6666666666666666)\n",
      "Dice: 0.8, (expected: 0.8)\n"
     ]
    }
   ],
   "source": [
    "a = [[0, 1, 0],\n",
    "     [1, 1, 0]]\n",
    "b = [[0, 1, 0],\n",
    "     [0, 1, 0]]\n",
    "print(f'Jaccard: {evaluation.jaccard(a, b)}, (expected: {2. / (2 + 1 + 0)})')\n",
    "print(f'Dice: {evaluation.dice(a, b)}, (expected: {2 * 2. / (2 * 2 + 1 + 0)})')"
   ]
  },
  {
   "cell_type": "markdown",
   "metadata": {},
   "source": [
    "### Test 8"
   ]
  },
  {
   "cell_type": "code",
   "execution_count": 12,
   "metadata": {},
   "outputs": [
    {
     "name": "stdout",
     "output_type": "stream",
     "text": [
      "Jaccard: 0.75, (expected: 0.75)\n",
      "Dice: 0.8571428571428571, (expected: 0.8571428571428571)\n"
     ]
    }
   ],
   "source": [
    "a = [[0, 1, 1, 1, 0],\n",
    "     [1, 1, 1, 1, 0]]\n",
    "b = [[0, 1, 1, 1, 1],\n",
    "     [0, 1, 1, 1, 0]]\n",
    "print(f'Jaccard: {evaluation.jaccard(a, b)}, (expected: {6. / (6 + 1 + 1)})')\n",
    "print(f'Dice: {evaluation.dice(a, b)}, (expected: {2 * 6. / (2 * 6 + 1 + 1)})')"
   ]
  }
 ],
 "metadata": {
  "kernelspec": {
   "display_name": "Python 3",
   "language": "python",
   "name": "python3"
  },
  "language_info": {
   "codemirror_mode": {
    "name": "ipython",
    "version": 3
   },
   "file_extension": ".py",
   "mimetype": "text/x-python",
   "name": "python",
   "nbconvert_exporter": "python",
   "pygments_lexer": "ipython3",
   "version": "3.6.7"
  }
 },
 "nbformat": 4,
 "nbformat_minor": 2
}

{
 "cells": [
  {
   "cell_type": "markdown",
   "metadata": {},
   "source": [
    "## 1. Setup"
   ]
  },
  {
   "cell_type": "code",
   "execution_count": 1,
   "metadata": {},
   "outputs": [],
   "source": [
    "import sys\n",
    "sys.path.append('..')"
   ]
  },
  {
   "cell_type": "code",
   "execution_count": 2,
   "metadata": {},
   "outputs": [],
   "source": [
    "import matplotlib.pyplot as plt\n",
    "from utils.dataset_utils import *"
   ]
  },
  {
   "cell_type": "code",
   "execution_count": 3,
   "metadata": {},
   "outputs": [],
   "source": [
    "%matplotlib inline\n",
    "%load_ext autoreload\n",
    "%autoreload 2"
   ]
  },
  {
   "cell_type": "markdown",
   "metadata": {},
   "source": [
    "## 2. Load icoseg_subset_80"
   ]
  },
  {
   "cell_type": "code",
   "execution_count": 4,
   "metadata": {},
   "outputs": [
    {
     "name": "stdout",
     "output_type": "stream",
     "text": [
      "uint8\n",
      "(375, 500, 3)\n",
      "(500, 324, 3)\n",
      "(334, 500, 3)\n"
     ]
    }
   ],
   "source": [
    "train, val, test = load_icoseg_subset_80()\n",
    "train_images, train_masks = train\n",
    "val_images, val_masks = val\n",
    "test_images, test_masks = test\n",
    "\n",
    "print(val_images[0].dtype)\n",
    "print(val_images[0].shape)\n",
    "print(val_images[3].shape)\n",
    "print(val_images[5].shape)"
   ]
  },
  {
   "cell_type": "markdown",
   "metadata": {},
   "source": [
    "## 3. Initial shapes of images"
   ]
  },
  {
   "cell_type": "code",
   "execution_count": 5,
   "metadata": {},
   "outputs": [],
   "source": [
    "def collect_shapes(images):\n",
    "    return [img.shape for img in images]"
   ]
  },
  {
   "cell_type": "code",
   "execution_count": 6,
   "metadata": {},
   "outputs": [],
   "source": [
    "img_shapes = collect_shapes(train_images)\\\n",
    "                +\\\n",
    "             collect_shapes(val_images)\\\n",
    "                +\\\n",
    "             collect_shapes(test_images)\\\n",
    "\n",
    "img_h = np.array([s[0] for s in img_shapes])\n",
    "img_w = np.array([s[1] for s in img_shapes])"
   ]
  },
  {
   "cell_type": "code",
   "execution_count": 7,
   "metadata": {},
   "outputs": [
    {
     "name": "stdout",
     "output_type": "stream",
     "text": [
      "img_h: [200 -> 500]\n",
      "img_w: [318 -> 500]\n"
     ]
    },
    {
     "data": {
      "image/png": "[encoded data removed]",
      "text/plain": [
       "<Figure size 432x288 with 2 Axes>"
      ]
     },
     "metadata": {
      "needs_background": "light"
     },
     "output_type": "display_data"
    }
   ],
   "source": [
    "print(f'img_h: [{img_h.min()} -> {img_h.max()}]')\n",
    "print(f'img_w: [{img_w.min()} -> {img_w.max()}]')\n",
    "\n",
    "plt.figure()\n",
    "plt.subplot(1, 2, 1)\n",
    "plt.title('img height')\n",
    "plt.hist(img_h)\n",
    "plt.xlabel('pixels')\n",
    "plt.subplot(1, 2, 2)\n",
    "plt.title('img width')\n",
    "plt.hist(img_w)\n",
    "plt.xlabel('pixels')\n",
    "plt.show()"
   ]
  }
 ],
 "metadata": {
  "kernelspec": {
   "display_name": "Python 3",
   "language": "python",
   "name": "python3"
  },
  "language_info": {
   "codemirror_mode": {
    "name": "ipython",
    "version": 3
   },
   "file_extension": ".py",
   "mimetype": "text/x-python",
   "name": "python",
   "nbconvert_exporter": "python",
   "pygments_lexer": "ipython3",
   "version": "3.6.7"
  }
 },
 "nbformat": 4,
 "nbformat_minor": 2
}

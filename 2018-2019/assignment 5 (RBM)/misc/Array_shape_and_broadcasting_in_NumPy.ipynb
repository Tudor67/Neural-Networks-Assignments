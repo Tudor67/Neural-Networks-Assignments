{
 "cells": [
  {
   "cell_type": "code",
   "execution_count": 1,
   "metadata": {},
   "outputs": [],
   "source": [
    "import numpy as np"
   ]
  },
  {
   "cell_type": "markdown",
   "metadata": {},
   "source": [
    "## 1. Warm up"
   ]
  },
  {
   "cell_type": "code",
   "execution_count": 2,
   "metadata": {},
   "outputs": [
    {
     "name": "stdout",
     "output_type": "stream",
     "text": [
      "(3,)\n",
      "(3,)\n",
      "(3, 1)\n",
      "0.0\n"
     ]
    }
   ],
   "source": [
    "a = np.zeros(3)\n",
    "print(a.shape)\n",
    "print(a.T.shape)\n",
    "print(a[:, None].shape)\n",
    "print(a[0])"
   ]
  },
  {
   "cell_type": "code",
   "execution_count": 3,
   "metadata": {},
   "outputs": [
    {
     "name": "stdout",
     "output_type": "stream",
     "text": [
      "(3,)\n",
      "(3,)\n",
      "(3, 1)\n",
      "0.0\n"
     ]
    }
   ],
   "source": [
    "b = np.zeros(3,)\n",
    "print(b.shape)\n",
    "print(b.T.shape)\n",
    "print(b[:, None].shape)\n",
    "print(b[0])"
   ]
  },
  {
   "cell_type": "code",
   "execution_count": 4,
   "metadata": {},
   "outputs": [
    {
     "name": "stdout",
     "output_type": "stream",
     "text": [
      "(3, 1)\n",
      "(1, 3)\n",
      "[0.]\n"
     ]
    }
   ],
   "source": [
    "c = np.zeros((3, 1))\n",
    "print(c.shape)\n",
    "print(c.T.shape)\n",
    "print(c[0])"
   ]
  },
  {
   "cell_type": "code",
   "execution_count": 5,
   "metadata": {},
   "outputs": [
    {
     "name": "stdout",
     "output_type": "stream",
     "text": [
      "(1, 3)\n",
      "(3, 1)\n",
      "[0. 0. 0.]\n"
     ]
    }
   ],
   "source": [
    "d = np.zeros((1, 3))\n",
    "print(d.shape)\n",
    "print(d.T.shape)\n",
    "print(d[0])"
   ]
  },
  {
   "cell_type": "markdown",
   "metadata": {},
   "source": [
    "## 2. Play"
   ]
  },
  {
   "cell_type": "code",
   "execution_count": 6,
   "metadata": {},
   "outputs": [
    {
     "name": "stdout",
     "output_type": "stream",
     "text": [
      "w:\n",
      "[[ 0  1  2  3  4  5  6  7  8  9]\n",
      " [10 11 12 13 14 15 16 17 18 19]\n",
      " [20 21 22 23 24 25 26 27 28 29]]\n",
      "x:\n",
      "[1. 1. 1. 1. 1. 1. 1. 1. 1. 1.]\n",
      "y:\n",
      "[ 45. 145. 245.]\n",
      "\n",
      "w.shape: (3, 10)\n",
      "x.shape: (10,)\n",
      "y.shape: (3,)\n"
     ]
    }
   ],
   "source": [
    "# 1st test\n",
    "w = np.arange(30).reshape(3, 10)\n",
    "x = np.ones(10)\n",
    "y = np.dot(w, x)\n",
    "\n",
    "print(f'w:\\n{w}')\n",
    "print(f'x:\\n{x}')\n",
    "print(f'y:\\n{y}')\n",
    "print()\n",
    "\n",
    "print(f'w.shape: {w.shape}')\n",
    "print(f'x.shape: {x.shape}')\n",
    "print(f'y.shape: {y.shape}')"
   ]
  },
  {
   "cell_type": "code",
   "execution_count": 7,
   "metadata": {},
   "outputs": [
    {
     "name": "stdout",
     "output_type": "stream",
     "text": [
      "x:\n",
      "[1. 1. 1.]\n",
      "w:\n",
      "[[ 0  1  2  3  4  5  6  7  8  9]\n",
      " [10 11 12 13 14 15 16 17 18 19]\n",
      " [20 21 22 23 24 25 26 27 28 29]]\n",
      "y:\n",
      "[30. 33. 36. 39. 42. 45. 48. 51. 54. 57.]\n",
      "\n",
      "x.shape: (3,)\n",
      "w.shape: (3, 10)\n",
      "y.shape: (10,)\n"
     ]
    }
   ],
   "source": [
    "# 2nd test\n",
    "x = np.ones(3)\n",
    "w = np.arange(30).reshape(3, 10)\n",
    "y = np.dot(x, w)\n",
    "\n",
    "print(f'x:\\n{x}')\n",
    "print(f'w:\\n{w}')\n",
    "print(f'y:\\n{y}')\n",
    "print()\n",
    "\n",
    "print(f'x.shape: {x.shape}')\n",
    "print(f'w.shape: {w.shape}')\n",
    "print(f'y.shape: {y.shape}')"
   ]
  }
 ],
 "metadata": {
  "kernelspec": {
   "display_name": "Python 3",
   "language": "python",
   "name": "python3"
  },
  "language_info": {
   "codemirror_mode": {
    "name": "ipython",
    "version": 3
   },
   "file_extension": ".py",
   "mimetype": "text/x-python",
   "name": "python",
   "nbconvert_exporter": "python",
   "pygments_lexer": "ipython3",
   "version": "3.6.7"
  }
 },
 "nbformat": 4,
 "nbformat_minor": 2
}

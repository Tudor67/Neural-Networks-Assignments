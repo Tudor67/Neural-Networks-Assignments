{
 "cells": [
  {
   "cell_type": "markdown",
   "metadata": {},
   "source": [
    "# A2C (test)"
   ]
  },
  {
   "cell_type": "markdown",
   "metadata": {},
   "source": [
    "## Setup"
   ]
  },
  {
   "cell_type": "code",
   "execution_count": 1,
   "metadata": {},
   "outputs": [
    {
     "name": "stdout",
     "output_type": "stream",
     "text": [
      "sys.version: 3.6.7 |Anaconda, Inc.| (default, Oct 23 2018, 19:16:44) \n",
      "[GCC 7.3.0]\n",
      "tf.version: 1.11.0\n"
     ]
    }
   ],
   "source": [
    "import config\n",
    "import gym\n",
    "import matplotlib.animation as animation\n",
    "import matplotlib.pyplot as plt\n",
    "import numpy as np\n",
    "import sys\n",
    "import tensorflow as tf\n",
    "\n",
    "from animations import *\n",
    "from a2c import A2C\n",
    "from preprocessing import *\n",
    "\n",
    "%matplotlib inline\n",
    "%load_ext autoreload\n",
    "%autoreload 2\n",
    "\n",
    "print(f'sys.version: {sys.version}')\n",
    "print(f'tf.version: {tf.__version__}')"
   ]
  },
  {
   "cell_type": "markdown",
   "metadata": {},
   "source": [
    "## Look at our env"
   ]
  },
  {
   "cell_type": "code",
   "execution_count": 2,
   "metadata": {},
   "outputs": [
    {
     "name": "stdout",
     "output_type": "stream",
     "text": [
      "Game: Pong-v0\n",
      "action_size: 6\n"
     ]
    }
   ],
   "source": [
    "env = gym.make(config.GAME_NAME)\n",
    "env.reset()\n",
    "env.render()\n",
    "print(f'Game: {config.GAME_NAME}')\n",
    "print(f'action_size: {env.action_space.n}')"
   ]
  },
  {
   "cell_type": "code",
   "execution_count": 3,
   "metadata": {},
   "outputs": [
    {
     "name": "stdout",
     "output_type": "stream",
     "text": [
      "Num_Actions: 6\n",
      "0: NOOP\n",
      "1: FIRE\n",
      "2: RIGHT\n",
      "3: LEFT\n",
      "4: RIGHTFIRE\n",
      "5: LEFTFIRE\n"
     ]
    }
   ],
   "source": [
    "print(f'Num_Actions: {env.action_space.n}')\n",
    "action_meanings = env.unwrapped.get_action_meanings()\n",
    "for i in range(env.action_space.n):\n",
    "    print(f'{i}: {action_meanings[i]}')"
   ]
  },
  {
   "cell_type": "code",
   "execution_count": 4,
   "metadata": {},
   "outputs": [
    {
     "data": {
      "image/png": "[encoded data removed]",
      "text/plain": [
       "<Figure size 432x288 with 1 Axes>"
      ]
     },
     "metadata": {
      "needs_background": "light"
     },
     "output_type": "display_data"
    }
   ],
   "source": [
    "rgb_frame = env.reset()\n",
    "\n",
    "plt.figure()\n",
    "plt.title(f'{rgb_frame.shape}')\n",
    "plt.axis('off')\n",
    "plt.imshow(rgb_frame)\n",
    "plt.show()"
   ]
  },
  {
   "cell_type": "markdown",
   "metadata": {},
   "source": [
    "### Instantiate A2C"
   ]
  },
  {
   "cell_type": "code",
   "execution_count": 5,
   "metadata": {},
   "outputs": [],
   "source": [
    "tf.reset_default_graph()\n",
    "\n",
    "a2c = A2C(action_size=env.action_space.n)"
   ]
  },
  {
   "cell_type": "markdown",
   "metadata": {},
   "source": [
    "### Test and watch how the agent plays our game"
   ]
  },
  {
   "cell_type": "code",
   "execution_count": 6,
   "metadata": {},
   "outputs": [],
   "source": [
    "def test(a2c, env, episode=config.NUM_EPISODES):\n",
    "    frames = []\n",
    "    with tf.Session() as sess:\n",
    "        # load the model\n",
    "        tf.train.Saver().restore(sess, config.SAVE_PATH + f'/model_episode_{episode}.ckpt')\n",
    "        \n",
    "        step = 0\n",
    "        total_reward = 0\n",
    "        done = False\n",
    "        stacked_frames = []\n",
    "        \n",
    "        state = env.reset()\n",
    "        frames.append(state)\n",
    "        stacked_frames_hwc, stacked_frames = stack_frames(stacked_frames, state, \n",
    "                                                          is_new_episode=True)\n",
    "        env.render()\n",
    "        \n",
    "        while not done:\n",
    "            current_state = stacked_frames_hwc[np.newaxis,:,:,-config.STACK_SIZE:]\n",
    "            action_probs = sess.run(a2c.predicted_probs,\n",
    "                                    feed_dict={\n",
    "                                        a2c.input_ph: current_state\n",
    "                                    })\n",
    "            \n",
    "            action = np.random.choice(env.action_space.n, p=action_probs.squeeze())\n",
    "\n",
    "            next_state, reward, done, _ = env.step(action)\n",
    "            frames.append(next_state)\n",
    "            stacked_frames_hwc, stacked_frames = stack_frames(stacked_frames, next_state,\n",
    "                                                              is_new_episode=False)\n",
    "            env.render()\n",
    "            \n",
    "            step += 1\n",
    "            total_reward += reward\n",
    "            \n",
    "            if step % 100 == 0:\n",
    "                print(f'step: {step}, action: {action}, action_probs: {action_probs.squeeze()}')\n",
    "        \n",
    "        print(f'Steps: {step}, total_reward: {total_reward}')\n",
    "    return episode, total_reward, frames"
   ]
  },
  {
   "cell_type": "code",
   "execution_count": 7,
   "metadata": {},
   "outputs": [
    {
     "name": "stdout",
     "output_type": "stream",
     "text": [
      "INFO:tensorflow:Restoring parameters from ./checkpoints/model_episode_200.ckpt\n",
      "step: 100, action: 5, action_probs: [0.14273326 0.15870544 0.14016902 0.16554834 0.24817806 0.14466591]\n",
      "step: 200, action: 4, action_probs: [0.14273326 0.15870544 0.14016902 0.16554834 0.24817806 0.14466591]\n",
      "step: 300, action: 5, action_probs: [0.14273326 0.15870544 0.14016902 0.16554834 0.24817806 0.14466591]\n",
      "step: 400, action: 0, action_probs: [0.14273326 0.15870544 0.14016902 0.16554834 0.24817806 0.14466591]\n",
      "step: 500, action: 2, action_probs: [0.14273326 0.15870544 0.14016902 0.16554834 0.24817806 0.14466591]\n",
      "step: 600, action: 1, action_probs: [0.14273326 0.15870544 0.14016902 0.16554834 0.24817806 0.14466591]\n",
      "step: 700, action: 5, action_probs: [0.14273326 0.15870544 0.14016902 0.16554834 0.24817806 0.14466591]\n",
      "step: 800, action: 4, action_probs: [0.14273326 0.15870544 0.14016902 0.16554834 0.24817806 0.14466591]\n",
      "step: 900, action: 2, action_probs: [0.14273326 0.15870544 0.14016902 0.16554834 0.24817806 0.14466591]\n",
      "step: 1000, action: 5, action_probs: [0.14273326 0.15870544 0.14016902 0.16554834 0.24817806 0.14466591]\n",
      "Steps: 1023, total_reward: -21.0\n",
      "CPU times: user 8.4 s, sys: 8.15 s, total: 16.5 s\n",
      "Wall time: 5.98 s\n"
     ]
    }
   ],
   "source": [
    "%%time\n",
    "episode, reward, frames = test(a2c, env, episode=200)\n",
    "frames = np.array(frames)"
   ]
  },
  {
   "cell_type": "code",
   "execution_count": 8,
   "metadata": {},
   "outputs": [
    {
     "name": "stdout",
     "output_type": "stream",
     "text": [
      "CPU times: user 2.01 s, sys: 132 ms, total: 2.14 s\n",
      "Wall time: 14.9 s\n"
     ]
    },
    {
     "data": {
      "image/png": "[encoded data removed]",
      "text/plain": [
       "<Figure size 432x288 with 1 Axes>"
      ]
     },
     "metadata": {
      "needs_background": "light"
     },
     "output_type": "display_data"
    }
   ],
   "source": [
    "%%time\n",
    "save_ani(episode, int(reward), frames, fps=30, skip_frames=2, \n",
    "         out_path=f'./animations/{config.GAME_NAME}/', mode='test')"
   ]
  },
  {
   "cell_type": "code",
   "execution_count": 9,
   "metadata": {},
   "outputs": [],
   "source": [
    "#env.close()"
   ]
  }
 ],
 "metadata": {
  "kernelspec": {
   "display_name": "Python 3",
   "language": "python",
   "name": "python3"
  },
  "language_info": {
   "codemirror_mode": {
    "name": "ipython",
    "version": 3
   },
   "file_extension": ".py",
   "mimetype": "text/x-python",
   "name": "python",
   "nbconvert_exporter": "python",
   "pygments_lexer": "ipython3",
   "version": "3.6.7"
  }
 },
 "nbformat": 4,
 "nbformat_minor": 2
}

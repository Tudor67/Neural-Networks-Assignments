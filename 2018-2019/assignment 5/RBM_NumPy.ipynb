{
 "cells": [
  {
   "cell_type": "markdown",
   "metadata": {},
   "source": [
    "# Digit generation with Restricted Boltzmann Machines in NumPy"
   ]
  },
  {
   "cell_type": "code",
   "execution_count": 1,
   "metadata": {},
   "outputs": [],
   "source": [
    "import mnist\n",
    "import sys\n",
    "import matplotlib.pyplot as plt\n",
    "import numpy as np\n",
    "from tqdm import tqdm\n",
    "\n",
    "%matplotlib inline\n",
    "np.random.seed(67)"
   ]
  },
  {
   "cell_type": "code",
   "execution_count": 2,
   "metadata": {},
   "outputs": [
    {
     "name": "stdout",
     "output_type": "stream",
     "text": [
      "sys.version: 3.6.7 |Anaconda, Inc.| (default, Oct 23 2018, 19:16:44) \n",
      "[GCC 7.3.0]\n"
     ]
    }
   ],
   "source": [
    "print(f'sys.version: {sys.version}')"
   ]
  },
  {
   "cell_type": "markdown",
   "metadata": {},
   "source": [
    "## 1. Load MNIST"
   ]
  },
  {
   "cell_type": "code",
   "execution_count": 3,
   "metadata": {},
   "outputs": [
    {
     "name": "stdout",
     "output_type": "stream",
     "text": [
      "X_train: dtype=float64, shape=(60000, 784), min_max=[0.0, 1.0]\n",
      "y_train: dtype=uint8, shape=(60000,), min_max=[0, 9]\n"
     ]
    }
   ],
   "source": [
    "X_train = mnist.train_images().reshape(-1, 28 * 28) / 255.\n",
    "y_train = mnist.train_labels()\n",
    "\n",
    "print(f'X_train: dtype={X_train.dtype}, shape={X_train.shape}, min_max=[{X_train.min()}, {X_train.max()}]')\n",
    "print(f'y_train: dtype={y_train.dtype}, shape={y_train.shape}, min_max=[{y_train.min()}, {y_train.max()}]')"
   ]
  },
  {
   "cell_type": "markdown",
   "metadata": {},
   "source": [
    "__Look at some images__"
   ]
  },
  {
   "cell_type": "code",
   "execution_count": 4,
   "metadata": {},
   "outputs": [
    {
     "data": {
      "image/png": "[encoded data removed]",
      "text/plain": [
       "<Figure size 1296x648 with 1 Axes>"
      ]
     },
     "metadata": {
      "needs_background": "light"
     },
     "output_type": "display_data"
    }
   ],
   "source": [
    "concat_imgs = np.concatenate(tuple(X_train[idx].reshape(28, 28) for idx in range(30)), axis=1)\n",
    "plt.figure(figsize=(18, 9))\n",
    "plt.imshow(concat_imgs, cmap='gray')\n",
    "plt.axis('off')\n",
    "plt.title('Some MNIST digits')\n",
    "plt.show()"
   ]
  },
  {
   "cell_type": "markdown",
   "metadata": {},
   "source": [
    "__Compute prop_on[:, i] - the proportion of training vectors in which unit *i* is on. These values will be used to initialize biases for visible units.__  \n",
    "[A Practical Guide to Training Restricted Boltzmann Machines (Hinton, 2010)](http://www.cs.toronto.edu/~hinton/absps/guideTR.pdf)"
   ]
  },
  {
   "cell_type": "code",
   "execution_count": 5,
   "metadata": {},
   "outputs": [
    {
     "name": "stdout",
     "output_type": "stream",
     "text": [
      "prop_on.shape: (784,)\n"
     ]
    },
    {
     "data": {
      "image/png": "[encoded data removed]",
      "text/plain": [
       "<Figure size 432x288 with 2 Axes>"
      ]
     },
     "metadata": {
      "needs_background": "light"
     },
     "output_type": "display_data"
    }
   ],
   "source": [
    "prop_on = np.mean(X_train, axis=0)\n",
    "print(f'prop_on.shape: {prop_on.shape}')\n",
    "\n",
    "plt.figure()\n",
    "plt.subplot(1, 2, 1)\n",
    "plt.imshow(prop_on.reshape(28, 28), cmap='gray')\n",
    "plt.title('prop_on values')\n",
    "\n",
    "plt.subplot(1, 2, 2)\n",
    "plt.hist(prop_on)\n",
    "plt.title('prop_on hist')\n",
    "plt.tight_layout()\n",
    "plt.show()"
   ]
  },
  {
   "cell_type": "markdown",
   "metadata": {},
   "source": [
    "## 2. RBM"
   ]
  },
  {
   "cell_type": "code",
   "execution_count": 6,
   "metadata": {},
   "outputs": [],
   "source": [
    "# aux functions\n",
    "def sigmoid(x):\n",
    "    return 1 / (1 + np.exp(-x))"
   ]
  },
  {
   "cell_type": "code",
   "execution_count": 7,
   "metadata": {},
   "outputs": [],
   "source": [
    "class RBM:\n",
    "    def __init__(self, vis_dim=784, hidden_dim=200, training_method='cd', prop_on=None):\n",
    "        # init hidden layer\n",
    "        self.h = np.zeros(hidden_dim)\n",
    "        self.h_bias = np.zeros(hidden_dim) + 0.5\n",
    "        \n",
    "        # init visible layer\n",
    "        self.v_bias = np.zeros(vis_dim)\n",
    "        if prop_on is not None:\n",
    "            # added 1e-20 for numerical stability\n",
    "            self.c = np.log((1e-20 + prop_on) / (1e-20 + 1 - prop_on))\n",
    "        \n",
    "        # prepare params for training\n",
    "        self.training_method = training_method\n",
    "        self.w = 1e-2 * np.random.randn(hidden_dim, vis_dim)\n",
    "        self.lr = 1e-2\n",
    "    \n",
    "    def up_vh(self, v):\n",
    "        h_prob = np.dot(self.w, v.T) + self.h_bias[:, None]\n",
    "        h = h_prob > np.random.uniform(0, 1, h_prob.shape)\n",
    "        return h\n",
    "    \n",
    "    def down_hv(self, h):\n",
    "        v_prob = np.dot(h.T, self.w) + self.v_bias[None, :]\n",
    "        v = v_prob > np.random.uniform(0, 1, v_prob.shape)\n",
    "        return v\n",
    "    \n",
    "    def train(self, X):\n",
    "        pass"
   ]
  },
  {
   "cell_type": "code",
   "execution_count": 8,
   "metadata": {},
   "outputs": [
    {
     "data": {
      "text/plain": [
       "(array([7611.,    0.,    0.,    0.,    0.,    0.,    0.,    0.,    0.,\n",
       "         229.]), array([0. , 0.1, 0.2, 0.3, 0.4, 0.5, 0.6, 0.7, 0.8, 0.9, 1. ],\n",
       "       dtype=float32), <a list of 10 Patch objects>)"
      ]
     },
     "execution_count": 8,
     "metadata": {},
     "output_type": "execute_result"
    },
    {
     "data": {
      "image/png": "[encoded data removed]",
      "text/plain": [
       "<Figure size 432x288 with 1 Axes>"
      ]
     },
     "metadata": {
      "needs_background": "light"
     },
     "output_type": "display_data"
    }
   ],
   "source": [
    "rbm = RBM(prop_on=None)\n",
    "h = rbm.down_hv(np.random.uniform(size=(200,10)))\n",
    "plt.figure()\n",
    "plt.hist(h.flatten().astype(np.float32))"
   ]
  },
  {
   "cell_type": "code",
   "execution_count": 9,
   "metadata": {},
   "outputs": [
    {
     "data": {
      "text/plain": [
       "(array([ 953.,    0.,    0.,    0.,    0.,    0.,    0.,    0.,    0.,\n",
       "        1047.]), array([0. , 0.1, 0.2, 0.3, 0.4, 0.5, 0.6, 0.7, 0.8, 0.9, 1. ],\n",
       "       dtype=float32), <a list of 10 Patch objects>)"
      ]
     },
     "execution_count": 9,
     "metadata": {},
     "output_type": "execute_result"
    },
    {
     "data": {
      "image/png": "[encoded data removed]",
      "text/plain": [
       "<Figure size 432x288 with 1 Axes>"
      ]
     },
     "metadata": {
      "needs_background": "light"
     },
     "output_type": "display_data"
    }
   ],
   "source": [
    "rbm = RBM()\n",
    "h = rbm.up_vh(X_train[:10])\n",
    "plt.figure()\n",
    "plt.hist(h.flatten().astype(np.float32))"
   ]
  }
 ],
 "metadata": {
  "kernelspec": {
   "display_name": "Python 3",
   "language": "python",
   "name": "python3"
  },
  "language_info": {
   "codemirror_mode": {
    "name": "ipython",
    "version": 3
   },
   "file_extension": ".py",
   "mimetype": "text/x-python",
   "name": "python",
   "nbconvert_exporter": "python",
   "pygments_lexer": "ipython3",
   "version": "3.6.7"
  }
 },
 "nbformat": 4,
 "nbformat_minor": 2
}

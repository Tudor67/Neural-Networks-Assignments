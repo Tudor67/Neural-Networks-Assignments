{
 "cells": [
  {
   "cell_type": "markdown",
   "metadata": {},
   "source": [
    "## Call by value"
   ]
  },
  {
   "cell_type": "code",
   "execution_count": 1,
   "metadata": {},
   "outputs": [
    {
     "name": "stdout",
     "output_type": "stream",
     "text": [
      "a: 1\n",
      "inc_op\n",
      "a: 1\n"
     ]
    }
   ],
   "source": [
    "# 1st test\n",
    "a = 1\n",
    "\n",
    "def inc_op(x):\n",
    "    x += 1\n",
    "    \n",
    "print(f'a: {a}')\n",
    "print('inc_op')\n",
    "inc_op(a)\n",
    "print(f'a: {a}')"
   ]
  },
  {
   "cell_type": "code",
   "execution_count": 2,
   "metadata": {},
   "outputs": [
    {
     "name": "stdout",
     "output_type": "stream",
     "text": [
      "a: 1\n",
      "assign_op\n",
      "a: 1\n"
     ]
    }
   ],
   "source": [
    "# 2nd test\n",
    "a = 1\n",
    "\n",
    "def assign_op(x):\n",
    "    x = 100\n",
    "    \n",
    "print(f'a: {a}')\n",
    "print('assign_op')\n",
    "assign_op(a)\n",
    "print(f'a: {a}')"
   ]
  },
  {
   "cell_type": "markdown",
   "metadata": {},
   "source": [
    "## Call by reference"
   ]
  },
  {
   "cell_type": "code",
   "execution_count": 3,
   "metadata": {},
   "outputs": [
    {
     "name": "stdout",
     "output_type": "stream",
     "text": [
      "a: [1]\n",
      "append_op\n",
      "a: [1, 67]\n"
     ]
    }
   ],
   "source": [
    "# 1st test\n",
    "a = [1]\n",
    "\n",
    "def append_op(x):\n",
    "    x.append(67)\n",
    "    \n",
    "print(f'a: {a}')\n",
    "print('append_op')\n",
    "append_op(a)\n",
    "print(f'a: {a}')"
   ]
  },
  {
   "cell_type": "code",
   "execution_count": 4,
   "metadata": {},
   "outputs": [
    {
     "name": "stdout",
     "output_type": "stream",
     "text": [
      "a: [1]\n",
      "assign_list\n",
      "a: [1]\n"
     ]
    }
   ],
   "source": [
    "# 2nd test\n",
    "a = [1]\n",
    "\n",
    "def assign_list(x):\n",
    "    x = [7, 7, 7, 8, 8, 9]\n",
    "    \n",
    "print(f'a: {a}')\n",
    "print('assign_list')\n",
    "assign_list(a)\n",
    "print(f'a: {a}')"
   ]
  },
  {
   "cell_type": "code",
   "execution_count": 5,
   "metadata": {},
   "outputs": [
    {
     "name": "stdout",
     "output_type": "stream",
     "text": [
      "a: [[ 0  1  2  3  4  5  6  7  8  9]\n",
      " [10 11 12 13 14 15 16 17 18 19]\n",
      " [20 21 22 23 24 25 26 27 28 29]]\n",
      "add_op\n",
      "a: [[100 101 102 103 104 105 106 107 108 109]\n",
      " [110 111 112 113 114 115 116 117 118 119]\n",
      " [120 121 122 123 124 125 126 127 128 129]]\n"
     ]
    }
   ],
   "source": [
    "# 3rd test for numpy arrays\n",
    "import numpy as np\n",
    "a = np.arange(30).reshape(3, 10)\n",
    "\n",
    "def add_op(a):\n",
    "    a += 100\n",
    "    \n",
    "print(f'a: {a}')\n",
    "print('add_op')\n",
    "add_op(a)\n",
    "print(f'a: {a}')"
   ]
  },
  {
   "cell_type": "code",
   "execution_count": 6,
   "metadata": {},
   "outputs": [
    {
     "name": "stdout",
     "output_type": "stream",
     "text": [
      "a: [[ 0  1  2  3  4  5  6  7  8  9]\n",
      " [10 11 12 13 14 15 16 17 18 19]\n",
      " [20 21 22 23 24 25 26 27 28 29]]\n",
      "add_op_for_cols\n",
      "a: [[900 901   2   3   4   5   6   7   8   9]\n",
      " [910 911  12  13  14  15  16  17  18  19]\n",
      " [920 921  22  23  24  25  26  27  28  29]]\n"
     ]
    }
   ],
   "source": [
    "# 4th test for numpy arrays\n",
    "a = np.arange(30).reshape(3, 10)\n",
    "\n",
    "def add_op_for_cols(a):\n",
    "    a[:, :2] += 900\n",
    "    \n",
    "print(f'a: {a}')\n",
    "print('add_op_for_cols')\n",
    "add_op_for_cols(a)\n",
    "print(f'a: {a}')"
   ]
  },
  {
   "cell_type": "code",
   "execution_count": 7,
   "metadata": {},
   "outputs": [
    {
     "name": "stdout",
     "output_type": "stream",
     "text": [
      "a: [[ 0  1  2  3  4  5  6  7  8  9]\n",
      " [10 11 12 13 14 15 16 17 18 19]\n",
      " [20 21 22 23 24 25 26 27 28 29]]\n",
      "add_op_for_2nd_col\n",
      "a: [[  0 901   2   3   4   5   6   7   8   9]\n",
      " [ 10 911  12  13  14  15  16  17  18  19]\n",
      " [ 20 921  22  23  24  25  26  27  28  29]]\n"
     ]
    }
   ],
   "source": [
    "# 5th test for numpy arrays\n",
    "a = np.arange(30).reshape(3, 10)\n",
    "\n",
    "def add_op_for_2nd_col(a):\n",
    "    a[:, 1] += 900\n",
    "    \n",
    "print(f'a: {a}')\n",
    "print('add_op_for_2nd_col')\n",
    "add_op_for_2nd_col(a)\n",
    "print(f'a: {a}')"
   ]
  },
  {
   "cell_type": "code",
   "execution_count": 8,
   "metadata": {},
   "outputs": [
    {
     "name": "stdout",
     "output_type": "stream",
     "text": [
      "a: [[ 0  1  2  3  4  5  6  7  8  9]\n",
      " [10 11 12 13 14 15 16 17 18 19]\n",
      " [20 21 22 23 24 25 26 27 28 29]]\n",
      "change_op\n",
      "a: [[333 333 333   3   4   5   6   7   8   9]\n",
      " [333 333 333  13  14  15  16  17  18  19]\n",
      " [333 333 333  23  24  25  26  27  28  29]]\n"
     ]
    }
   ],
   "source": [
    "# 6th test for numpy arrays\n",
    "a = np.arange(30).reshape(3, 10)\n",
    "\n",
    "def change_op(a):\n",
    "    a[:, :3] = 333\n",
    "    \n",
    "print(f'a: {a}')\n",
    "print('change_op')\n",
    "change_op(a)\n",
    "print(f'a: {a}')"
   ]
  },
  {
   "cell_type": "code",
   "execution_count": 9,
   "metadata": {},
   "outputs": [
    {
     "name": "stdout",
     "output_type": "stream",
     "text": [
      "a: [[ 0  1  2  3  4  5  6  7  8  9]\n",
      " [10 11 12 13 14 15 16 17 18 19]\n",
      " [20 21 22 23 24 25 26 27 28 29]]\n",
      "change_array\n",
      "a: [[ 0  1  2  3  4  5  6  7  8  9]\n",
      " [10 11 12 13 14 15 16 17 18 19]\n",
      " [20 21 22 23 24 25 26 27 28 29]]\n"
     ]
    }
   ],
   "source": [
    "# 7th test for numpy arrays\n",
    "a = np.arange(30).reshape(3, 10)\n",
    "\n",
    "def change_array(a):\n",
    "    a = np.arange(50)\n",
    "    \n",
    "print(f'a: {a}')\n",
    "print('change_array')\n",
    "change_array(a)\n",
    "print(f'a: {a}')"
   ]
  },
  {
   "cell_type": "code",
   "execution_count": 10,
   "metadata": {},
   "outputs": [
    {
     "name": "stdout",
     "output_type": "stream",
     "text": [
      "a: {'a': 40, 'b': 55}\n",
      "change_dict\n",
      "a: {'a': 40, 'b': 55}\n"
     ]
    }
   ],
   "source": [
    "# 8th test for dictionaries\n",
    "a = {'a': 40, 'b': 55}\n",
    "\n",
    "def change_dict(a):\n",
    "    a = {'x': 99}\n",
    "    \n",
    "print(f'a: {a}')\n",
    "print('change_dict')\n",
    "change_dict(a)\n",
    "print(f'a: {a}')"
   ]
  }
 ],
 "metadata": {
  "kernelspec": {
   "display_name": "Python 3",
   "language": "python",
   "name": "python3"
  },
  "language_info": {
   "codemirror_mode": {
    "name": "ipython",
    "version": 3
   },
   "file_extension": ".py",
   "mimetype": "text/x-python",
   "name": "python",
   "nbconvert_exporter": "python",
   "pygments_lexer": "ipython3",
   "version": "3.6.7"
  }
 },
 "nbformat": 4,
 "nbformat_minor": 2
}

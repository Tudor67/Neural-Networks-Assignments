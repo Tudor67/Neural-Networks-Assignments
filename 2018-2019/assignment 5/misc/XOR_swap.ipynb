{
 "cells": [
  {
   "cell_type": "markdown",
   "metadata": {},
   "source": [
    "# [XOR swap - a beautiful trick](https://en.wikipedia.org/wiki/XOR_swap_algorithm)"
   ]
  },
  {
   "cell_type": "code",
   "execution_count": 1,
   "metadata": {},
   "outputs": [],
   "source": [
    "import numpy as np"
   ]
  },
  {
   "cell_type": "markdown",
   "metadata": {},
   "source": [
    "## Swap 2 integers"
   ]
  },
  {
   "cell_type": "code",
   "execution_count": 2,
   "metadata": {},
   "outputs": [
    {
     "name": "stdout",
     "output_type": "stream",
     "text": [
      "123 67\n",
      "67 123\n"
     ]
    }
   ],
   "source": [
    "a = 123\n",
    "b = 67\n",
    "print(a, b)\n",
    "\n",
    "a ^= b\n",
    "b ^= a\n",
    "a ^= b\n",
    "print(a, b)"
   ]
  },
  {
   "cell_type": "markdown",
   "metadata": {},
   "source": [
    "## Swap 2 booleans"
   ]
  },
  {
   "cell_type": "code",
   "execution_count": 3,
   "metadata": {},
   "outputs": [
    {
     "name": "stdout",
     "output_type": "stream",
     "text": [
      "True False\n",
      "False True\n"
     ]
    }
   ],
   "source": [
    "a = True\n",
    "b = False\n",
    "print(a, b)\n",
    "\n",
    "a ^= b\n",
    "b ^= a\n",
    "a ^= b\n",
    "print(a, b)"
   ]
  },
  {
   "cell_type": "markdown",
   "metadata": {},
   "source": [
    "## Swap 2 numpy arrays"
   ]
  },
  {
   "cell_type": "code",
   "execution_count": 4,
   "metadata": {},
   "outputs": [
    {
     "name": "stdout",
     "output_type": "stream",
     "text": [
      "a\n",
      " [[ 3  5  7]\n",
      " [ 9 14 21]]\n",
      "b\n",
      " [[ 42   8  13]\n",
      " [ 18  99 453]]\n",
      "\n",
      "a\n",
      " [[ 42   8  13]\n",
      " [ 18  99 453]]\n",
      "b\n",
      " [[ 3  5  7]\n",
      " [ 9 14 21]]\n"
     ]
    }
   ],
   "source": [
    "a = np.array([[3, 5, 7], [9, 14, 21]])\n",
    "b = np.array([[42, 8, 13], [18, 99, 453]])\n",
    "print('a\\n', a)\n",
    "print('b\\n', b)\n",
    "print()\n",
    "\n",
    "a ^= b\n",
    "b ^= a\n",
    "a ^= b\n",
    "print('a\\n', a)\n",
    "print('b\\n', b)"
   ]
  },
  {
   "cell_type": "markdown",
   "metadata": {},
   "source": [
    "## Swap 2 numpy arrays for a given list of indices"
   ]
  },
  {
   "cell_type": "code",
   "execution_count": 5,
   "metadata": {},
   "outputs": [
    {
     "name": "stdout",
     "output_type": "stream",
     "text": [
      "a\n",
      " [[  3   5   7]\n",
      " [  9  14  21]\n",
      " [  5  55 555]]\n",
      "b\n",
      " [[ 42   8  13]\n",
      " [ 18  99 453]\n",
      " [  6  66 666]]\n",
      "\n",
      "a\n",
      " [[ 42   8  13]\n",
      " [  9  14  21]\n",
      " [  6  66 666]]\n",
      "b\n",
      " [[  3   5   7]\n",
      " [ 18  99 453]\n",
      " [  5  55 555]]\n"
     ]
    }
   ],
   "source": [
    "a = np.array([[3, 5, 7], [9, 14, 21], [5, 55, 555]])\n",
    "b = np.array([[42, 8, 13], [18, 99, 453], [6, 66, 666]])\n",
    "rows = [0, 2]\n",
    "print('a\\n', a)\n",
    "print('b\\n', b)\n",
    "print()\n",
    "\n",
    "a[rows, :] ^= b[rows, :]\n",
    "b[rows, :] ^= a[rows, :]\n",
    "a[rows, :] ^= b[rows, :]\n",
    "print('a\\n', a)\n",
    "print('b\\n', b)"
   ]
  },
  {
   "cell_type": "markdown",
   "metadata": {},
   "source": [
    "## XOR swap function"
   ]
  },
  {
   "cell_type": "code",
   "execution_count": 6,
   "metadata": {},
   "outputs": [],
   "source": [
    "def xor_swap(a, b, rows=None):\n",
    "    if rows == None and a.ndim == 2:\n",
    "        rows = np.arange(len(a))\n",
    "    \n",
    "    a[rows, :] ^= b[rows, :]\n",
    "    b[rows, :] ^= a[rows, :]\n",
    "    a[rows, :] ^= b[rows, :] "
   ]
  },
  {
   "cell_type": "code",
   "execution_count": 7,
   "metadata": {},
   "outputs": [
    {
     "name": "stdout",
     "output_type": "stream",
     "text": [
      "[5 6]\n",
      "[9 8]\n",
      "xor_swap\n",
      "[9 8]\n",
      "[5 6]\n"
     ]
    }
   ],
   "source": [
    "a = np.array([5, 6])\n",
    "b = np.array([9, 8])\n",
    "\n",
    "print(a)\n",
    "print(b)\n",
    "\n",
    "print('xor_swap')\n",
    "xor_swap(a, b)\n",
    "\n",
    "print(a)\n",
    "print(b)"
   ]
  },
  {
   "cell_type": "code",
   "execution_count": 8,
   "metadata": {},
   "outputs": [
    {
     "name": "stdout",
     "output_type": "stream",
     "text": [
      "a:\n",
      " [[5 6]\n",
      " [7 8]]\n",
      "b:\n",
      " [[1 2]\n",
      " [3 4]]\n",
      "\n",
      "xor_swap\n",
      "a:\n",
      " [[5 6]\n",
      " [3 4]]\n",
      "b:\n",
      " [[1 2]\n",
      " [7 8]]\n"
     ]
    }
   ],
   "source": [
    "a = np.array([[5, 6], [7, 8]])\n",
    "b = np.array([[1, 2], [3, 4]])\n",
    "\n",
    "print('a:\\n', a)\n",
    "print('b:\\n', b)\n",
    "\n",
    "print('\\nxor_swap')\n",
    "xor_swap(a, b, rows=[1])\n",
    "\n",
    "print('a:\\n', a)\n",
    "print('b:\\n', b)"
   ]
  }
 ],
 "metadata": {
  "kernelspec": {
   "display_name": "Python 3",
   "language": "python",
   "name": "python3"
  },
  "language_info": {
   "codemirror_mode": {
    "name": "ipython",
    "version": 3
   },
   "file_extension": ".py",
   "mimetype": "text/x-python",
   "name": "python",
   "nbconvert_exporter": "python",
   "pygments_lexer": "ipython3",
   "version": "3.6.7"
  }
 },
 "nbformat": 4,
 "nbformat_minor": 2
}

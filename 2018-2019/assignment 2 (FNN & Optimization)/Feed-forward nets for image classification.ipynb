{
 "cells": [
  {
   "cell_type": "markdown",
   "metadata": {
    "colab_type": "text",
    "id": "tmaHAc_KHG_5"
   },
   "source": [
    "# ANN - Lab 2: Feed-forward nets for image classification\n",
    "\n",
    "Tudor Berariu  \n",
    "Skeleton code from https://github.com/tudor-berariu/ann2018"
   ]
  },
  {
   "cell_type": "markdown",
   "metadata": {
    "colab_type": "text",
    "id": "zgNIWhzoHOIz"
   },
   "source": [
    "## 1. The MNIST dataset"
   ]
  },
  {
   "cell_type": "code",
   "execution_count": 1,
   "metadata": {
    "colab": {},
    "colab_type": "code",
    "id": "dQiqJyO7E7Ek"
   },
   "outputs": [],
   "source": [
    "#!pip install mnist\n",
    "\n",
    "import mnist\n",
    "train_imgs = mnist.train_images()\n",
    "train_labels = mnist.train_labels()\n",
    "test_imgs = mnist.test_images()\n",
    "test_labels  = mnist.test_labels()"
   ]
  },
  {
   "cell_type": "markdown",
   "metadata": {},
   "source": [
    "### Data standardization\n",
    "\n",
    "Rescale input values to have zero mean and standard deviation of one."
   ]
  },
  {
   "cell_type": "code",
   "execution_count": 2,
   "metadata": {},
   "outputs": [],
   "source": [
    "mean, std  = train_imgs.mean(), train_imgs.std()\n",
    "train_imgs = (train_imgs - mean) / std\n",
    "test_imgs = (test_imgs - mean) / std"
   ]
  },
  {
   "cell_type": "markdown",
   "metadata": {},
   "source": [
    "### See some inputs"
   ]
  },
  {
   "cell_type": "code",
   "execution_count": 3,
   "metadata": {
    "colab": {
     "base_uri": "https://localhost:8080/",
     "height": 99
    },
    "colab_type": "code",
    "id": "qeftJ_CpE7Eu",
    "outputId": "c7a9a956-0114-4975-90a0-8af5b2007c2b"
   },
   "outputs": [],
   "source": [
    "from typing import List\n",
    "import numpy as np\n",
    "%matplotlib inline\n",
    "import matplotlib.pyplot as plt"
   ]
  },
  {
   "cell_type": "code",
   "execution_count": 4,
   "metadata": {
    "colab": {
     "base_uri": "https://localhost:8080/",
     "height": 99
    },
    "colab_type": "code",
    "id": "qeftJ_CpE7Eu",
    "outputId": "c7a9a956-0114-4975-90a0-8af5b2007c2b"
   },
   "outputs": [
    {
     "name": "stdout",
     "output_type": "stream",
     "text": [
      "Labels: [4 2 6 0 4 4 3 0 0 5 7 1 7 1 2]\n"
     ]
    },
    {
     "data": {
      "image/png": "[encoded data removed]",
      "text/plain": [
       "<Figure size 432x288 with 1 Axes>"
      ]
     },
     "metadata": {},
     "output_type": "display_data"
    }
   ],
   "source": [
    "idxs = np.random.randint(0, len(train_imgs), 15)\n",
    "imgs = np.concatenate(tuple(train_imgs[idx,:,:] for idx in idxs), axis=1)\n",
    "plt.imshow(imgs)\n",
    "print(\"Labels:\", train_labels[idxs])"
   ]
  },
  {
   "cell_type": "markdown",
   "metadata": {
    "colab_type": "text",
    "id": "ZgERUA07IuSr"
   },
   "source": [
    "## 2. Building feed forward-networks"
   ]
  },
  {
   "cell_type": "markdown",
   "metadata": {},
   "source": [
    "### Layers\n",
    "\n",
    "Each layer will have three methods:\n",
    " - `forward` computes and returns ${\\bf y}^{(l)} = f_l\\left({\\bf x}^{(l)}, {\\bf w}^{(l)}\\right)$\n",
    " - `backward` gets $\\frac{\\partial {\\cal L}}{\\partial {\\bf y}^{(l)}}$, and stores $\\frac{\\partial {\\cal L}}{\\partial {\\bf w}^{(l)}}$ internally, and returns $\\frac{\\partial {\\cal L}}{\\partial {\\bf w}^{(l)}}$\n",
    " - `update` modifies parameters ${\\bf w}^{(l)}$ using stored $\\frac{\\partial{\\cal L}}{\\partial{\\bf w}}$"
   ]
  },
  {
   "cell_type": "code",
   "execution_count": 5,
   "metadata": {},
   "outputs": [],
   "source": [
    "class Layer:\n",
    "\n",
    "    def forward(self, x: np.ndarray) -> np.ndarray:\n",
    "        raise NotImplementedError\n",
    "        \n",
    "    def backward(self, x: np.ndarray, dy: np.ndarray) -> np.ndarray:\n",
    "        raise NotImplementedError\n",
    "        \n",
    "    def update(self, *args, **kwargs):\n",
    "        pass  # If a layer has no parameters, then this function does nothing"
   ]
  },
  {
   "cell_type": "markdown",
   "metadata": {},
   "source": [
    "### The feed-forward netowork"
   ]
  },
  {
   "cell_type": "code",
   "execution_count": 6,
   "metadata": {},
   "outputs": [],
   "source": [
    "class FeedForwardNetwork:\n",
    "    \n",
    "    def __init__(self, layers: List[Layer]):\n",
    "        self.layers = layers\n",
    "        \n",
    "    def forward(self, x: np.ndarray, train: bool = True) -> np.ndarray:\n",
    "        self._inputs = []\n",
    "        for layer in self.layers:\n",
    "            if train:\n",
    "                self._inputs.append(x)\n",
    "            x = layer.forward(x)\n",
    "        return x\n",
    "    \n",
    "    def backward(self, dy:np.ndarray) -> np.ndarray:\n",
    "        # TODO <0> : Compute the backward phase\n",
    "        for idx in reversed(range(len(self._inputs))):\n",
    "            x = self._inputs[idx]\n",
    "            layer = self.layers[idx]\n",
    "            dy = layer.backward(x, dy)\n",
    "        del self._inputs\n",
    "        return dy\n",
    "    \n",
    "    def update(self, *args, **kwargs):\n",
    "        for layer in self.layers:\n",
    "            layer.update(*args, **kwargs)"
   ]
  },
  {
   "cell_type": "markdown",
   "metadata": {},
   "source": [
    "### The linear layer"
   ]
  },
  {
   "cell_type": "code",
   "execution_count": 7,
   "metadata": {
    "colab": {},
    "colab_type": "code",
    "id": "S47ZsyKdE7FF"
   },
   "outputs": [],
   "source": [
    "class Linear(Layer):\n",
    "    \n",
    "    def __init__(self, insize: int, outsize: int) -> None:\n",
    "        bound = np.sqrt(6. / insize)\n",
    "        self.weight = np.random.uniform(-bound, bound, (insize, outsize))\n",
    "        self.bias = np.zeros((outsize,))\n",
    "        \n",
    "        self.dweight = np.zeros_like(self.weight)\n",
    "        self.dbias = np.zeros_like(self.bias)\n",
    "        \n",
    "        self.weight_v = np.zeros_like(self.weight)\n",
    "        self.dweight_cache = np.zeros_like(self.dweight)\n",
    "        self.bias_v = np.zeros_like(self.bias)\n",
    "        self.dbias_cache = np.zeros_like(self.dbias)\n",
    "        \n",
    "    def forward(self, x: np.ndarray) -> np.ndarray:\n",
    "        # TODO <1> : compute the output of a linear layer\n",
    "        return np.dot(x, self.weight) + self.bias\n",
    "    \n",
    "    def backward(self, x: np.ndarray, dy: np.ndarray) -> np.ndarray:\n",
    "        # TODO <2> : compute dweight, dbias and  return dx\n",
    "        self.dweight = np.dot(x.T, dy)\n",
    "        self.dbias = np.sum(dy, axis=0)\n",
    "        self.dx = np.dot(dy, self.weight.T)\n",
    "        return self.dx\n",
    "    \n",
    "    def update(self, mode='SGD', lr=0.001, mu=.9, beta1=.9, beta2=.999):\n",
    "        if mode == 'SGD':\n",
    "            self.weight -= lr * self.dweight\n",
    "            self.bias -= lr * self.dbias\n",
    "        elif mode == 'Nesterov':\n",
    "            # TODO <9> : compute the nesterov update (for Lab 2)\n",
    "            weight_v_prev = self.weight_v.copy()\n",
    "            bias_v_prev = self.bias_v.copy()\n",
    "            \n",
    "            self.weight_v = mu * self.weight_v - lr * self.dweight\n",
    "            self.bias_v = mu * self.bias_v - lr * self.dbias\n",
    "            \n",
    "            self.weight += -mu * weight_v_prev + (1 + mu) * self.weight_v\n",
    "            self.bias += -mu * bias_v_prev + (1 + mu) * self.bias_v\n",
    "            \n",
    "            del weight_v_prev\n",
    "            del bias_v_prev\n",
    "        elif mode == 'Adam':\n",
    "            # TODO <10> : compute the Adam update  (for Lab 2)\n",
    "            self.weight_v = beta1 * self.weight_v + (1 - beta1) * self.dweight\n",
    "            self.dweight_cache = beta2 * self.dweight_cache + (1 - beta2) * self.dweight ** 2\n",
    "            \n",
    "            self.bias_v = beta1 * self.bias_v + (1 - beta1) * self.dbias\n",
    "            self.dbias_cache = beta2 * self.dbias_cache + (1 - beta2) * self.dbias ** 2\n",
    "            \n",
    "            self.weight -= lr * self.weight_v / (1e-8 + np.sqrt(self.dweight_cache))\n",
    "            self.bias -= lr * self.bias_v / (1e-8 + np.sqrt(self.dbias_cache))"
   ]
  },
  {
   "cell_type": "markdown",
   "metadata": {},
   "source": [
    "### The Rectified Linear Unit\n",
    "$$y = \\max\\left(x, 0\\right)$$"
   ]
  },
  {
   "cell_type": "code",
   "execution_count": 8,
   "metadata": {
    "colab": {},
    "colab_type": "code",
    "id": "QOR1DJiwE7FJ"
   },
   "outputs": [],
   "source": [
    "class ReLU(Layer):\n",
    "    \n",
    "    def __init__(self) -> None:\n",
    "        pass\n",
    "    \n",
    "    def forward(self, x: np.ndarray) -> np.ndarray:\n",
    "        # TODO <3> : Compute the output of a rectified linear unit\n",
    "        return np.maximum(x, 0)\n",
    "    \n",
    "    def backward(self, x: np.ndarray, dy: np.ndarray) -> np.ndarray:\n",
    "        # TODO <4> : Compute the gradient w.r.t. x\n",
    "        return (x > 0) * dy"
   ]
  },
  {
   "cell_type": "markdown",
   "metadata": {
    "colab_type": "text",
    "id": "4NrWBTmbI9gW"
   },
   "source": [
    "## 3. The loss function\n",
    "\n",
    "   The negative log likelihood combines a softmax activation, and a cross-entropy cost."
   ]
  },
  {
   "cell_type": "code",
   "execution_count": 9,
   "metadata": {
    "colab": {},
    "colab_type": "code",
    "id": "YDXiDEu8E7FW"
   },
   "outputs": [],
   "source": [
    "class NegativeLogLikelihood:\n",
    "    \n",
    "    def __init__(self):\n",
    "        pass\n",
    "\n",
    "    def forward(self, y: np.ndarray, t: np.ndarray) -> float:\n",
    "        # TODO <5> : Compute the negative log likelihood\n",
    "        self._N = y.shape[0]\n",
    "        shifted_logits = y - np.max(y, axis=1, keepdims=True)\n",
    "        Z = np.sum(np.exp(shifted_logits), axis=1, keepdims=True)\n",
    "        self._log_probs = shifted_logits - np.log(Z)\n",
    "        loss = -np.sum(self._log_probs[np.arange(self._N), t]) / self._N\n",
    "        return loss\n",
    "    \n",
    "    def backward(self, y: np.ndarray, t: np.ndarray) -> np.ndarray:\n",
    "        # TODO <6> : Compute dl/dy\n",
    "        dy = np.exp(self._log_probs)\n",
    "        dy[np.arange(self._N), t] -= 1\n",
    "        dy /= self._N\n",
    "        return dy"
   ]
  },
  {
   "cell_type": "markdown",
   "metadata": {
    "colab_type": "text",
    "id": "Uz9qM5eHJLNw"
   },
   "source": [
    "### Accuracy"
   ]
  },
  {
   "cell_type": "code",
   "execution_count": 10,
   "metadata": {
    "colab": {},
    "colab_type": "code",
    "id": "3nYfVCBSE7Fe"
   },
   "outputs": [],
   "source": [
    "def accuracy(y: np.ndarray, t: np.ndarray) -> float:\n",
    "    # TODO <7> : Compute accuracy\n",
    "    return np.sum(np.argmax(y, axis=1) == t) / np.float64(t.size)"
   ]
  },
  {
   "cell_type": "markdown",
   "metadata": {
    "colab_type": "text",
    "id": "mIhtzd2gJQF2"
   },
   "source": [
    "## 4. Training a neural network"
   ]
  },
  {
   "cell_type": "code",
   "execution_count": 11,
   "metadata": {
    "colab": {
     "base_uri": "https://localhost:8080/",
     "height": 237
    },
    "colab_type": "code",
    "id": "HTbmZv3YE7Fs",
    "outputId": "d6bb5b23-201b-4c2f-cf88-37f90bb5f6a6"
   },
   "outputs": [],
   "source": [
    "def train_a_neural_net(optimize_args = {'mode': 'SGD', 'lr': .001}):\n",
    "    BATCH_SIZE = 128\n",
    "    HIDDEN_UNITS = 200\n",
    "    EPOCHS_NO = 50\n",
    "\n",
    "    net = FeedForwardNetwork([Linear(784, HIDDEN_UNITS),\n",
    "                              ReLU(),\n",
    "                              Linear(HIDDEN_UNITS, 10)])\n",
    "    nll = NegativeLogLikelihood()\n",
    "\n",
    "    for epoch in range(EPOCHS_NO):\n",
    "        for b_no, idx in enumerate(range(0, len(train_imgs), BATCH_SIZE)):\n",
    "            # 1. Prepare next batch\n",
    "            x = train_imgs[idx:idx + BATCH_SIZE,:,:].reshape(-1, 784)\n",
    "            t = train_labels[idx:idx + BATCH_SIZE]\n",
    "\n",
    "            # forward\n",
    "            y = net.forward(x, train=True)\n",
    "\n",
    "            # 2. Compute gradient\n",
    "            # TODO <8> : Compute gradient\n",
    "            loss = nll.forward(y, t)\n",
    "            dy = nll.backward(y, t)\n",
    "            net.backward(dy)\n",
    "\n",
    "            # 3. Update network parameters\n",
    "            net.update(**optimize_args)\n",
    "\n",
    "            print(f'\\rEpoch {epoch + 1:02d} '\n",
    "                  f'| Batch {b_no:03d} '\n",
    "                  f'| Train NLL: {loss:3.5f} '\n",
    "                  f'| Train Accuracy: {accuracy(y, t):3.2f} ', end='')\n",
    "\n",
    "        y = net.forward(test_imgs.reshape(-1, 784), train=False)\n",
    "        test_nll = nll.forward(y, test_labels)\n",
    "        print(f' | Test NLL: {test_nll:3.5f} '\n",
    "              f' | Test Accuracy: {accuracy(y, test_labels):3.2f}')"
   ]
  },
  {
   "cell_type": "code",
   "execution_count": 12,
   "metadata": {},
   "outputs": [
    {
     "name": "stdout",
     "output_type": "stream",
     "text": [
      "Epoch 01 | Batch 468 | Train NLL: 1.03884 | Train Accuracy: 0.72  | Test NLL: 0.89364  | Test Accuracy: 0.74\n",
      "Epoch 02 | Batch 468 | Train NLL: 0.73349 | Train Accuracy: 0.81  | Test NLL: 0.62246  | Test Accuracy: 0.82\n",
      "Epoch 03 | Batch 468 | Train NLL: 0.60450 | Train Accuracy: 0.88  | Test NLL: 0.51502  | Test Accuracy: 0.86\n",
      "Epoch 04 | Batch 468 | Train NLL: 0.53322 | Train Accuracy: 0.88  | Test NLL: 0.45650  | Test Accuracy: 0.87\n",
      "Epoch 05 | Batch 468 | Train NLL: 0.48780 | Train Accuracy: 0.89  | Test NLL: 0.41904  | Test Accuracy: 0.88\n",
      "Epoch 06 | Batch 468 | Train NLL: 0.45604 | Train Accuracy: 0.89  | Test NLL: 0.39252  | Test Accuracy: 0.89\n",
      "Epoch 07 | Batch 468 | Train NLL: 0.43235 | Train Accuracy: 0.90  | Test NLL: 0.37246  | Test Accuracy: 0.90\n",
      "Epoch 08 | Batch 468 | Train NLL: 0.41374 | Train Accuracy: 0.90  | Test NLL: 0.35653  | Test Accuracy: 0.90\n",
      "Epoch 09 | Batch 468 | Train NLL: 0.39857 | Train Accuracy: 0.90  | Test NLL: 0.34345  | Test Accuracy: 0.90\n",
      "Epoch 10 | Batch 468 | Train NLL: 0.38598 | Train Accuracy: 0.91  | Test NLL: 0.33238  | Test Accuracy: 0.91\n",
      "Epoch 11 | Batch 468 | Train NLL: 0.37523 | Train Accuracy: 0.91  | Test NLL: 0.32285  | Test Accuracy: 0.91\n",
      "Epoch 12 | Batch 468 | Train NLL: 0.36581 | Train Accuracy: 0.92  | Test NLL: 0.31448  | Test Accuracy: 0.91\n",
      "Epoch 13 | Batch 468 | Train NLL: 0.35742 | Train Accuracy: 0.93  | Test NLL: 0.30702  | Test Accuracy: 0.91\n",
      "Epoch 14 | Batch 468 | Train NLL: 0.35000 | Train Accuracy: 0.94  | Test NLL: 0.30032  | Test Accuracy: 0.92\n",
      "Epoch 15 | Batch 468 | Train NLL: 0.34337 | Train Accuracy: 0.94  | Test NLL: 0.29422  | Test Accuracy: 0.92\n",
      "Epoch 16 | Batch 468 | Train NLL: 0.33747 | Train Accuracy: 0.95  | Test NLL: 0.28864  | Test Accuracy: 0.92\n",
      "Epoch 17 | Batch 468 | Train NLL: 0.33212 | Train Accuracy: 0.95  | Test NLL: 0.28349  | Test Accuracy: 0.92\n",
      "Epoch 18 | Batch 468 | Train NLL: 0.32723 | Train Accuracy: 0.95  | Test NLL: 0.27871  | Test Accuracy: 0.92\n",
      "Epoch 19 | Batch 468 | Train NLL: 0.32268 | Train Accuracy: 0.95  | Test NLL: 0.27423  | Test Accuracy: 0.92\n",
      "Epoch 20 | Batch 468 | Train NLL: 0.31845 | Train Accuracy: 0.95  | Test NLL: 0.27004  | Test Accuracy: 0.92\n",
      "Epoch 21 | Batch 468 | Train NLL: 0.31433 | Train Accuracy: 0.95  | Test NLL: 0.26608  | Test Accuracy: 0.92\n",
      "Epoch 22 | Batch 468 | Train NLL: 0.31043 | Train Accuracy: 0.95  | Test NLL: 0.26234  | Test Accuracy: 0.92\n",
      "Epoch 23 | Batch 468 | Train NLL: 0.30681 | Train Accuracy: 0.96  | Test NLL: 0.25880  | Test Accuracy: 0.93\n",
      "Epoch 24 | Batch 468 | Train NLL: 0.30340 | Train Accuracy: 0.96  | Test NLL: 0.25543  | Test Accuracy: 0.93\n",
      "Epoch 25 | Batch 468 | Train NLL: 0.30010 | Train Accuracy: 0.96  | Test NLL: 0.25222  | Test Accuracy: 0.93\n",
      "Epoch 26 | Batch 468 | Train NLL: 0.29695 | Train Accuracy: 0.96  | Test NLL: 0.24913  | Test Accuracy: 0.93\n",
      "Epoch 27 | Batch 468 | Train NLL: 0.29394 | Train Accuracy: 0.96  | Test NLL: 0.24619  | Test Accuracy: 0.93\n",
      "Epoch 28 | Batch 468 | Train NLL: 0.29109 | Train Accuracy: 0.96  | Test NLL: 0.24334  | Test Accuracy: 0.93\n",
      "Epoch 29 | Batch 468 | Train NLL: 0.28837 | Train Accuracy: 0.96  | Test NLL: 0.24062  | Test Accuracy: 0.93\n",
      "Epoch 30 | Batch 468 | Train NLL: 0.28576 | Train Accuracy: 0.96  | Test NLL: 0.23800  | Test Accuracy: 0.93\n",
      "Epoch 31 | Batch 468 | Train NLL: 0.28327 | Train Accuracy: 0.96  | Test NLL: 0.23546  | Test Accuracy: 0.93\n",
      "Epoch 32 | Batch 468 | Train NLL: 0.28094 | Train Accuracy: 0.96  | Test NLL: 0.23302  | Test Accuracy: 0.93\n",
      "Epoch 33 | Batch 468 | Train NLL: 0.27870 | Train Accuracy: 0.96  | Test NLL: 0.23067  | Test Accuracy: 0.93\n",
      "Epoch 34 | Batch 468 | Train NLL: 0.27652 | Train Accuracy: 0.96  | Test NLL: 0.22839  | Test Accuracy: 0.93\n",
      "Epoch 35 | Batch 468 | Train NLL: 0.27439 | Train Accuracy: 0.96  | Test NLL: 0.22618  | Test Accuracy: 0.93\n",
      "Epoch 36 | Batch 468 | Train NLL: 0.27232 | Train Accuracy: 0.96  | Test NLL: 0.22404  | Test Accuracy: 0.93\n",
      "Epoch 37 | Batch 468 | Train NLL: 0.27034 | Train Accuracy: 0.96  | Test NLL: 0.22197  | Test Accuracy: 0.93\n",
      "Epoch 38 | Batch 468 | Train NLL: 0.26842 | Train Accuracy: 0.96  | Test NLL: 0.21995  | Test Accuracy: 0.94\n",
      "Epoch 39 | Batch 468 | Train NLL: 0.26653 | Train Accuracy: 0.96  | Test NLL: 0.21799  | Test Accuracy: 0.94\n",
      "Epoch 40 | Batch 468 | Train NLL: 0.26474 | Train Accuracy: 0.96  | Test NLL: 0.21609  | Test Accuracy: 0.94\n",
      "Epoch 41 | Batch 468 | Train NLL: 0.26302 | Train Accuracy: 0.96  | Test NLL: 0.21423  | Test Accuracy: 0.94\n",
      "Epoch 42 | Batch 468 | Train NLL: 0.26132 | Train Accuracy: 0.96  | Test NLL: 0.21242  | Test Accuracy: 0.94\n",
      "Epoch 43 | Batch 468 | Train NLL: 0.25964 | Train Accuracy: 0.96  | Test NLL: 0.21066  | Test Accuracy: 0.94\n",
      "Epoch 44 | Batch 468 | Train NLL: 0.25795 | Train Accuracy: 0.96  | Test NLL: 0.20893  | Test Accuracy: 0.94\n",
      "Epoch 45 | Batch 468 | Train NLL: 0.25633 | Train Accuracy: 0.96  | Test NLL: 0.20724  | Test Accuracy: 0.94\n",
      "Epoch 46 | Batch 468 | Train NLL: 0.25475 | Train Accuracy: 0.96  | Test NLL: 0.20560  | Test Accuracy: 0.94\n",
      "Epoch 47 | Batch 468 | Train NLL: 0.25318 | Train Accuracy: 0.96  | Test NLL: 0.20399  | Test Accuracy: 0.94\n",
      "Epoch 48 | Batch 468 | Train NLL: 0.25162 | Train Accuracy: 0.96  | Test NLL: 0.20243  | Test Accuracy: 0.94\n",
      "Epoch 49 | Batch 468 | Train NLL: 0.25008 | Train Accuracy: 0.96  | Test NLL: 0.20089  | Test Accuracy: 0.94\n",
      "Epoch 50 | Batch 468 | Train NLL: 0.24857 | Train Accuracy: 0.96  | Test NLL: 0.19940  | Test Accuracy: 0.94\n"
     ]
    }
   ],
   "source": [
    "train_a_neural_net(optimize_args = {'mode': 'SGD', 'lr': .001})"
   ]
  },
  {
   "cell_type": "code",
   "execution_count": 13,
   "metadata": {},
   "outputs": [
    {
     "name": "stdout",
     "output_type": "stream",
     "text": [
      "Epoch 01 | Batch 468 | Train NLL: 0.39991 | Train Accuracy: 0.90  | Test NLL: 0.33342  | Test Accuracy: 0.91\n",
      "Epoch 02 | Batch 468 | Train NLL: 0.31126 | Train Accuracy: 0.95  | Test NLL: 0.26977  | Test Accuracy: 0.92\n",
      "Epoch 03 | Batch 468 | Train NLL: 0.27299 | Train Accuracy: 0.96  | Test NLL: 0.23772  | Test Accuracy: 0.93\n",
      "Epoch 04 | Batch 468 | Train NLL: 0.24892 | Train Accuracy: 0.96  | Test NLL: 0.21581  | Test Accuracy: 0.94\n",
      "Epoch 05 | Batch 468 | Train NLL: 0.23220 | Train Accuracy: 0.97  | Test NLL: 0.19936  | Test Accuracy: 0.94\n",
      "Epoch 06 | Batch 468 | Train NLL: 0.22012 | Train Accuracy: 0.98  | Test NLL: 0.18627  | Test Accuracy: 0.94\n",
      "Epoch 07 | Batch 468 | Train NLL: 0.21086 | Train Accuracy: 0.99  | Test NLL: 0.17555  | Test Accuracy: 0.95\n",
      "Epoch 08 | Batch 468 | Train NLL: 0.20321 | Train Accuracy: 0.99  | Test NLL: 0.16650  | Test Accuracy: 0.95\n",
      "Epoch 09 | Batch 468 | Train NLL: 0.19691 | Train Accuracy: 0.99  | Test NLL: 0.15867  | Test Accuracy: 0.95\n",
      "Epoch 10 | Batch 468 | Train NLL: 0.19166 | Train Accuracy: 0.99  | Test NLL: 0.15183  | Test Accuracy: 0.96\n",
      "Epoch 11 | Batch 468 | Train NLL: 0.18648 | Train Accuracy: 0.99  | Test NLL: 0.14583  | Test Accuracy: 0.96\n",
      "Epoch 12 | Batch 468 | Train NLL: 0.18227 | Train Accuracy: 0.99  | Test NLL: 0.14052  | Test Accuracy: 0.96\n",
      "Epoch 13 | Batch 468 | Train NLL: 0.17869 | Train Accuracy: 0.99  | Test NLL: 0.13573  | Test Accuracy: 0.96\n",
      "Epoch 14 | Batch 468 | Train NLL: 0.17519 | Train Accuracy: 0.99  | Test NLL: 0.13146  | Test Accuracy: 0.96\n",
      "Epoch 15 | Batch 468 | Train NLL: 0.17205 | Train Accuracy: 0.99  | Test NLL: 0.12762  | Test Accuracy: 0.96\n",
      "Epoch 16 | Batch 468 | Train NLL: 0.16941 | Train Accuracy: 0.99  | Test NLL: 0.12412  | Test Accuracy: 0.96\n",
      "Epoch 17 | Batch 468 | Train NLL: 0.16692 | Train Accuracy: 0.99  | Test NLL: 0.12093  | Test Accuracy: 0.96\n",
      "Epoch 18 | Batch 468 | Train NLL: 0.16459 | Train Accuracy: 0.99  | Test NLL: 0.11800  | Test Accuracy: 0.96\n",
      "Epoch 19 | Batch 468 | Train NLL: 0.16245 | Train Accuracy: 0.99  | Test NLL: 0.11531  | Test Accuracy: 0.97\n",
      "Epoch 20 | Batch 468 | Train NLL: 0.16059 | Train Accuracy: 0.99  | Test NLL: 0.11284  | Test Accuracy: 0.97\n",
      "Epoch 21 | Batch 468 | Train NLL: 0.15893 | Train Accuracy: 0.99  | Test NLL: 0.11054  | Test Accuracy: 0.97\n",
      "Epoch 22 | Batch 468 | Train NLL: 0.15739 | Train Accuracy: 0.99  | Test NLL: 0.10843  | Test Accuracy: 0.97\n",
      "Epoch 23 | Batch 468 | Train NLL: 0.15609 | Train Accuracy: 0.99  | Test NLL: 0.10649  | Test Accuracy: 0.97\n",
      "Epoch 24 | Batch 468 | Train NLL: 0.15489 | Train Accuracy: 0.99  | Test NLL: 0.10471  | Test Accuracy: 0.97\n",
      "Epoch 25 | Batch 468 | Train NLL: 0.15373 | Train Accuracy: 0.99  | Test NLL: 0.10301  | Test Accuracy: 0.97\n",
      "Epoch 26 | Batch 468 | Train NLL: 0.15266 | Train Accuracy: 0.99  | Test NLL: 0.10143  | Test Accuracy: 0.97\n",
      "Epoch 27 | Batch 468 | Train NLL: 0.15152 | Train Accuracy: 0.99  | Test NLL: 0.09995  | Test Accuracy: 0.97\n",
      "Epoch 28 | Batch 468 | Train NLL: 0.15052 | Train Accuracy: 0.99  | Test NLL: 0.09856  | Test Accuracy: 0.97\n",
      "Epoch 29 | Batch 468 | Train NLL: 0.14960 | Train Accuracy: 0.99  | Test NLL: 0.09722  | Test Accuracy: 0.97\n",
      "Epoch 30 | Batch 468 | Train NLL: 0.14846 | Train Accuracy: 0.99  | Test NLL: 0.09600  | Test Accuracy: 0.97\n",
      "Epoch 31 | Batch 468 | Train NLL: 0.14753 | Train Accuracy: 0.99  | Test NLL: 0.09485  | Test Accuracy: 0.97\n",
      "Epoch 32 | Batch 468 | Train NLL: 0.14666 | Train Accuracy: 0.99  | Test NLL: 0.09374  | Test Accuracy: 0.97\n",
      "Epoch 33 | Batch 468 | Train NLL: 0.14564 | Train Accuracy: 0.99  | Test NLL: 0.09271  | Test Accuracy: 0.97\n",
      "Epoch 34 | Batch 468 | Train NLL: 0.14467 | Train Accuracy: 0.99  | Test NLL: 0.09170  | Test Accuracy: 0.97\n",
      "Epoch 35 | Batch 468 | Train NLL: 0.14389 | Train Accuracy: 0.99  | Test NLL: 0.09076  | Test Accuracy: 0.97\n",
      "Epoch 36 | Batch 468 | Train NLL: 0.14301 | Train Accuracy: 0.99  | Test NLL: 0.08985  | Test Accuracy: 0.97\n",
      "Epoch 37 | Batch 468 | Train NLL: 0.14211 | Train Accuracy: 0.99  | Test NLL: 0.08903  | Test Accuracy: 0.97\n",
      "Epoch 38 | Batch 468 | Train NLL: 0.14120 | Train Accuracy: 0.99  | Test NLL: 0.08823  | Test Accuracy: 0.97\n",
      "Epoch 39 | Batch 468 | Train NLL: 0.14037 | Train Accuracy: 0.99  | Test NLL: 0.08747  | Test Accuracy: 0.97\n",
      "Epoch 40 | Batch 468 | Train NLL: 0.13964 | Train Accuracy: 0.99  | Test NLL: 0.08675  | Test Accuracy: 0.97\n",
      "Epoch 41 | Batch 468 | Train NLL: 0.13891 | Train Accuracy: 0.99  | Test NLL: 0.08606  | Test Accuracy: 0.97\n",
      "Epoch 42 | Batch 468 | Train NLL: 0.13813 | Train Accuracy: 0.99  | Test NLL: 0.08541  | Test Accuracy: 0.97\n",
      "Epoch 43 | Batch 468 | Train NLL: 0.13733 | Train Accuracy: 0.99  | Test NLL: 0.08476  | Test Accuracy: 0.97\n",
      "Epoch 44 | Batch 468 | Train NLL: 0.13670 | Train Accuracy: 0.99  | Test NLL: 0.08417  | Test Accuracy: 0.97\n",
      "Epoch 45 | Batch 468 | Train NLL: 0.13606 | Train Accuracy: 0.99  | Test NLL: 0.08357  | Test Accuracy: 0.98\n",
      "Epoch 46 | Batch 468 | Train NLL: 0.13538 | Train Accuracy: 0.99  | Test NLL: 0.08303  | Test Accuracy: 0.98\n",
      "Epoch 47 | Batch 468 | Train NLL: 0.13478 | Train Accuracy: 0.99  | Test NLL: 0.08252  | Test Accuracy: 0.98\n",
      "Epoch 48 | Batch 468 | Train NLL: 0.13406 | Train Accuracy: 0.99  | Test NLL: 0.08199  | Test Accuracy: 0.98\n",
      "Epoch 49 | Batch 468 | Train NLL: 0.13338 | Train Accuracy: 0.99  | Test NLL: 0.08150  | Test Accuracy: 0.98\n",
      "Epoch 50 | Batch 468 | Train NLL: 0.13269 | Train Accuracy: 0.99  | Test NLL: 0.08102  | Test Accuracy: 0.98\n"
     ]
    }
   ],
   "source": [
    "train_a_neural_net(optimize_args = {'mode': 'Nesterov', 'lr': .001, 'mu': .9})"
   ]
  },
  {
   "cell_type": "code",
   "execution_count": 14,
   "metadata": {},
   "outputs": [
    {
     "name": "stdout",
     "output_type": "stream",
     "text": [
      "Epoch 01 | Batch 468 | Train NLL: 0.23781 | Train Accuracy: 0.98  | Test NLL: 0.11951  | Test Accuracy: 0.96\n",
      "Epoch 02 | Batch 468 | Train NLL: 0.21647 | Train Accuracy: 0.99  | Test NLL: 0.09735  | Test Accuracy: 0.97\n",
      "Epoch 03 | Batch 468 | Train NLL: 0.20542 | Train Accuracy: 0.99  | Test NLL: 0.09077  | Test Accuracy: 0.97\n",
      "Epoch 04 | Batch 468 | Train NLL: 0.17588 | Train Accuracy: 0.99  | Test NLL: 0.08892  | Test Accuracy: 0.97\n",
      "Epoch 05 | Batch 468 | Train NLL: 0.14915 | Train Accuracy: 0.99  | Test NLL: 0.08563  | Test Accuracy: 0.97\n",
      "Epoch 06 | Batch 468 | Train NLL: 0.13172 | Train Accuracy: 0.99  | Test NLL: 0.08606  | Test Accuracy: 0.97\n",
      "Epoch 07 | Batch 468 | Train NLL: 0.11468 | Train Accuracy: 0.99  | Test NLL: 0.08984  | Test Accuracy: 0.97\n",
      "Epoch 08 | Batch 468 | Train NLL: 0.08705 | Train Accuracy: 0.99  | Test NLL: 0.09253  | Test Accuracy: 0.97\n",
      "Epoch 09 | Batch 468 | Train NLL: 0.08447 | Train Accuracy: 0.99  | Test NLL: 0.08855  | Test Accuracy: 0.98\n",
      "Epoch 10 | Batch 468 | Train NLL: 0.04764 | Train Accuracy: 0.99  | Test NLL: 0.09470  | Test Accuracy: 0.98\n",
      "Epoch 11 | Batch 468 | Train NLL: 0.02366 | Train Accuracy: 0.99  | Test NLL: 0.09271  | Test Accuracy: 0.98\n",
      "Epoch 12 | Batch 468 | Train NLL: 0.00726 | Train Accuracy: 1.00  | Test NLL: 0.09252  | Test Accuracy: 0.98\n",
      "Epoch 13 | Batch 468 | Train NLL: 0.03741 | Train Accuracy: 0.99  | Test NLL: 0.11014  | Test Accuracy: 0.97\n",
      "Epoch 14 | Batch 468 | Train NLL: 0.02314 | Train Accuracy: 0.99  | Test NLL: 0.09993  | Test Accuracy: 0.98\n",
      "Epoch 15 | Batch 468 | Train NLL: 0.01358 | Train Accuracy: 0.99  | Test NLL: 0.09625  | Test Accuracy: 0.98\n",
      "Epoch 16 | Batch 468 | Train NLL: 0.00119 | Train Accuracy: 1.00  | Test NLL: 0.11919  | Test Accuracy: 0.97\n",
      "Epoch 17 | Batch 468 | Train NLL: 0.00337 | Train Accuracy: 1.00  | Test NLL: 0.11765  | Test Accuracy: 0.98\n",
      "Epoch 18 | Batch 468 | Train NLL: 0.00013 | Train Accuracy: 1.00  | Test NLL: 0.13304  | Test Accuracy: 0.97\n",
      "Epoch 19 | Batch 468 | Train NLL: 0.00478 | Train Accuracy: 1.00  | Test NLL: 0.11357  | Test Accuracy: 0.98\n",
      "Epoch 20 | Batch 468 | Train NLL: 0.00219 | Train Accuracy: 1.00  | Test NLL: 0.10635  | Test Accuracy: 0.98\n",
      "Epoch 21 | Batch 468 | Train NLL: 0.00066 | Train Accuracy: 1.00  | Test NLL: 0.13726  | Test Accuracy: 0.97\n",
      "Epoch 22 | Batch 468 | Train NLL: 0.01283 | Train Accuracy: 0.99  | Test NLL: 0.12072  | Test Accuracy: 0.98\n",
      "Epoch 23 | Batch 468 | Train NLL: 0.00239 | Train Accuracy: 1.00  | Test NLL: 0.11318  | Test Accuracy: 0.98\n",
      "Epoch 24 | Batch 468 | Train NLL: 0.00248 | Train Accuracy: 1.00  | Test NLL: 0.13440  | Test Accuracy: 0.97\n",
      "Epoch 25 | Batch 468 | Train NLL: 0.00157 | Train Accuracy: 1.00  | Test NLL: 0.11871  | Test Accuracy: 0.98\n",
      "Epoch 26 | Batch 468 | Train NLL: 0.00237 | Train Accuracy: 1.00  | Test NLL: 0.11892  | Test Accuracy: 0.98\n",
      "Epoch 27 | Batch 468 | Train NLL: 0.00083 | Train Accuracy: 1.00  | Test NLL: 0.13075  | Test Accuracy: 0.98\n",
      "Epoch 28 | Batch 468 | Train NLL: 0.00042 | Train Accuracy: 1.00  | Test NLL: 0.12820  | Test Accuracy: 0.98\n",
      "Epoch 29 | Batch 468 | Train NLL: 0.01178 | Train Accuracy: 0.99  | Test NLL: 0.13039  | Test Accuracy: 0.98\n",
      "Epoch 30 | Batch 468 | Train NLL: 0.02849 | Train Accuracy: 0.99  | Test NLL: 0.13127  | Test Accuracy: 0.98\n",
      "Epoch 31 | Batch 468 | Train NLL: 0.00006 | Train Accuracy: 1.00  | Test NLL: 0.11386  | Test Accuracy: 0.98\n",
      "Epoch 32 | Batch 468 | Train NLL: 0.01886 | Train Accuracy: 0.99  | Test NLL: 0.13196  | Test Accuracy: 0.98\n",
      "Epoch 33 | Batch 468 | Train NLL: 0.00049 | Train Accuracy: 1.00  | Test NLL: 0.13766  | Test Accuracy: 0.98\n",
      "Epoch 34 | Batch 468 | Train NLL: 0.00004 | Train Accuracy: 1.00  | Test NLL: 0.15580  | Test Accuracy: 0.98\n",
      "Epoch 35 | Batch 468 | Train NLL: 0.00000 | Train Accuracy: 1.00  | Test NLL: 0.14254  | Test Accuracy: 0.98\n",
      "Epoch 36 | Batch 468 | Train NLL: 0.00035 | Train Accuracy: 1.00  | Test NLL: 0.14592  | Test Accuracy: 0.98\n",
      "Epoch 37 | Batch 468 | Train NLL: 0.00005 | Train Accuracy: 1.00  | Test NLL: 0.14009  | Test Accuracy: 0.98\n",
      "Epoch 38 | Batch 468 | Train NLL: 0.00005 | Train Accuracy: 1.00  | Test NLL: 0.13078  | Test Accuracy: 0.98\n",
      "Epoch 39 | Batch 468 | Train NLL: 0.01748 | Train Accuracy: 0.99  | Test NLL: 0.14864  | Test Accuracy: 0.98\n",
      "Epoch 40 | Batch 468 | Train NLL: 0.00014 | Train Accuracy: 1.00  | Test NLL: 0.14195  | Test Accuracy: 0.98\n",
      "Epoch 41 | Batch 468 | Train NLL: 0.00134 | Train Accuracy: 1.00  | Test NLL: 0.15104  | Test Accuracy: 0.98\n",
      "Epoch 42 | Batch 468 | Train NLL: 0.00044 | Train Accuracy: 1.00  | Test NLL: 0.14911  | Test Accuracy: 0.98\n",
      "Epoch 43 | Batch 468 | Train NLL: 0.00027 | Train Accuracy: 1.00  | Test NLL: 0.13919  | Test Accuracy: 0.98\n",
      "Epoch 44 | Batch 468 | Train NLL: 0.06750 | Train Accuracy: 0.97  | Test NLL: 0.15785  | Test Accuracy: 0.98\n",
      "Epoch 45 | Batch 468 | Train NLL: 0.00006 | Train Accuracy: 1.00  | Test NLL: 0.15418  | Test Accuracy: 0.98\n",
      "Epoch 46 | Batch 468 | Train NLL: 0.00001 | Train Accuracy: 1.00  | Test NLL: 0.15148  | Test Accuracy: 0.98\n",
      "Epoch 47 | Batch 468 | Train NLL: 0.00006 | Train Accuracy: 1.00  | Test NLL: 0.14525  | Test Accuracy: 0.98\n",
      "Epoch 48 | Batch 468 | Train NLL: 0.00001 | Train Accuracy: 1.00  | Test NLL: 0.14452  | Test Accuracy: 0.98\n",
      "Epoch 49 | Batch 468 | Train NLL: 0.00010 | Train Accuracy: 1.00  | Test NLL: 0.15225  | Test Accuracy: 0.98\n",
      "Epoch 50 | Batch 468 | Train NLL: 0.00003 | Train Accuracy: 1.00  | Test NLL: 0.16044  | Test Accuracy: 0.98\n"
     ]
    }
   ],
   "source": [
    "train_a_neural_net(optimize_args = {'mode': 'Adam', 'lr': .001, 'beta1': .9, 'beta2': .999})"
   ]
  }
 ],
 "metadata": {
  "colab": {
   "name": "Feed-forward nets for image classification.ipynb",
   "provenance": [],
   "version": "0.3.2"
  },
  "kernelspec": {
   "display_name": "Python 3",
   "language": "python",
   "name": "python3"
  },
  "language_info": {
   "codemirror_mode": {
    "name": "ipython",
    "version": 3
   },
   "file_extension": ".py",
   "mimetype": "text/x-python",
   "name": "python",
   "nbconvert_exporter": "python",
   "pygments_lexer": "ipython3",
   "version": "3.6.6"
  }
 },
 "nbformat": 4,
 "nbformat_minor": 1
}

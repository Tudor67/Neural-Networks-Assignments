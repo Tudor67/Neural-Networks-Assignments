{
 "cells": [
  {
   "cell_type": "code",
   "execution_count": 1,
   "metadata": {},
   "outputs": [
    {
     "name": "stdout",
     "output_type": "stream",
     "text": [
      "sys.version: 3.6.7 |Anaconda, Inc.| (default, Oct 23 2018, 19:16:44) \n",
      "[GCC 7.3.0]\n",
      "gym.version: 0.10.9\n"
     ]
    }
   ],
   "source": [
    "import matplotlib.animation as animation\n",
    "import matplotlib.pyplot as plt\n",
    "import numpy as np\n",
    "import gym\n",
    "import sys\n",
    "\n",
    "from animations import save_ani\n",
    "%matplotlib inline\n",
    "%load_ext autoreload\n",
    "%autoreload 2\n",
    "\n",
    "print(f'sys.version: {sys.version}')\n",
    "print(f'gym.version: {gym.__version__}')"
   ]
  },
  {
   "cell_type": "code",
   "execution_count": 2,
   "metadata": {},
   "outputs": [],
   "source": [
    "env = gym.make('Breakout-v0')"
   ]
  },
  {
   "cell_type": "code",
   "execution_count": 3,
   "metadata": {},
   "outputs": [
    {
     "name": "stdout",
     "output_type": "stream",
     "text": [
      "['__class__', '__delattr__', '__dict__', '__dir__', '__doc__', '__eq__', '__format__', '__ge__', '__getattribute__', '__gt__', '__hash__', '__init__', '__init_subclass__', '__le__', '__lt__', '__module__', '__ne__', '__new__', '__reduce__', '__reduce_ex__', '__repr__', '__setattr__', '__sizeof__', '__str__', '__subclasshook__', '__weakref__', '_elapsed_seconds', '_elapsed_steps', '_episode_started_at', '_max_episode_seconds', '_max_episode_steps', '_past_limit', 'action_space', 'class_name', 'close', 'compute_reward', 'env', 'metadata', 'observation_space', 'render', 'reset', 'reward_range', 'seed', 'spec', 'step', 'unwrapped']\n"
     ]
    }
   ],
   "source": [
    "print(dir(env))"
   ]
  },
  {
   "cell_type": "code",
   "execution_count": 4,
   "metadata": {},
   "outputs": [
    {
     "name": "stdout",
     "output_type": "stream",
     "text": [
      "env.action_space.n: 4\n",
      "random action: 0\n"
     ]
    }
   ],
   "source": [
    "s = env.reset()\n",
    "a = env.action_space.sample()\n",
    "print(f'env.action_space.n: {env.action_space.n}')\n",
    "print(f'random action: {a}')"
   ]
  },
  {
   "cell_type": "code",
   "execution_count": 5,
   "metadata": {},
   "outputs": [
    {
     "name": "stdout",
     "output_type": "stream",
     "text": [
      "Num_Actions: 4\n",
      "0: NOOP\n",
      "1: FIRE\n",
      "2: RIGHT\n",
      "3: LEFT\n"
     ]
    }
   ],
   "source": [
    "print(f'Num_Actions: {env.action_space.n}')\n",
    "action_meanings = env.unwrapped.get_action_meanings()\n",
    "for i in range(env.action_space.n):\n",
    "    print(f'{i}: {action_meanings[i]}')"
   ]
  },
  {
   "cell_type": "code",
   "execution_count": 6,
   "metadata": {},
   "outputs": [
    {
     "name": "stdout",
     "output_type": "stream",
     "text": [
      "['__class__', '__delattr__', '__dict__', '__dir__', '__doc__', '__eq__', '__format__', '__ge__', '__getattribute__', '__gt__', '__hash__', '__init__', '__init_subclass__', '__le__', '__lt__', '__module__', '__ne__', '__new__', '__reduce__', '__reduce_ex__', '__repr__', '__setattr__', '__sizeof__', '__str__', '__subclasshook__', '__weakref__', '_elapsed_seconds', '_elapsed_steps', '_episode_started_at', '_max_episode_seconds', '_max_episode_steps', '_past_limit', 'action_space', 'class_name', 'close', 'compute_reward', 'env', 'metadata', 'observation_space', 'render', 'reset', 'reward_range', 'seed', 'spec', 'step', 'unwrapped']\n",
      "['__class__', '__delattr__', '__dict__', '__dir__', '__doc__', '__eq__', '__format__', '__ge__', '__getattribute__', '__getstate__', '__gt__', '__hash__', '__init__', '__init_subclass__', '__le__', '__lt__', '__module__', '__ne__', '__new__', '__reduce__', '__reduce_ex__', '__repr__', '__setattr__', '__setstate__', '__sizeof__', '__str__', '__subclasshook__', '__weakref__', '_action_set', '_ezpickle_args', '_ezpickle_kwargs', '_get_image', '_get_obs', '_get_ram', '_n_actions', '_obs_type', 'action_space', 'ale', 'clone_full_state', 'clone_state', 'close', 'frameskip', 'game_path', 'get_action_meanings', 'get_keys_to_action', 'metadata', 'np_random', 'observation_space', 'render', 'reset', 'restore_full_state', 'restore_state', 'reward_range', 'seed', 'spec', 'step', 'unwrapped', 'viewer']\n",
      "[67, 168085630]\n"
     ]
    }
   ],
   "source": [
    "print(dir(env))\n",
    "print(dir(env.env))\n",
    "print(env.env.seed(67))"
   ]
  },
  {
   "cell_type": "code",
   "execution_count": 7,
   "metadata": {},
   "outputs": [],
   "source": [
    "def run(env):\n",
    "    print(f'env.env.seed(67): {env.env.seed(67)}')\n",
    "    s = env.reset()\n",
    "    frames = [s]\n",
    "    env.render()\n",
    "    done = False\n",
    "    step = 0\n",
    "    a = 0\n",
    "    total_reward = 0\n",
    "\n",
    "    while not done:\n",
    "        s, r, done, _ = env.step(a)\n",
    "        total_reward += r\n",
    "        frames.append(s)\n",
    "        env.render()\n",
    "        a = env.action_space.sample()\n",
    "        \n",
    "    return frames, total_reward"
   ]
  },
  {
   "cell_type": "code",
   "execution_count": 8,
   "metadata": {},
   "outputs": [
    {
     "name": "stdout",
     "output_type": "stream",
     "text": [
      "env.env.seed(67): [67, 168085630]\n"
     ]
    }
   ],
   "source": [
    "frames, total_reward = run(env)"
   ]
  },
  {
   "cell_type": "code",
   "execution_count": 9,
   "metadata": {},
   "outputs": [
    {
     "name": "stdout",
     "output_type": "stream",
     "text": [
      "296\n",
      "(210, 160, 3)\n",
      "0 200\n"
     ]
    }
   ],
   "source": [
    "print(len(frames))\n",
    "print(frames[0].shape)\n",
    "print(frames[0].min(), frames[0].max())"
   ]
  },
  {
   "cell_type": "code",
   "execution_count": 10,
   "metadata": {
    "scrolled": false
   },
   "outputs": [],
   "source": [
    "def plot_frames(frames, rows=3, cols=4, step_length=5):\n",
    "    plt.figure(figsize=(5*cols, 5*rows))\n",
    "    subplot_idx = 0\n",
    "\n",
    "    for idx in range(0, len(frames), step_length):\n",
    "        subplot_idx += 1\n",
    "        plt.subplot(rows, cols, subplot_idx)\n",
    "        plt.title(f'step {idx}')\n",
    "        plt.axis('off')\n",
    "        plt.imshow(frames[idx])\n",
    "\n",
    "        if subplot_idx >= rows * cols:\n",
    "            break\n",
    "\n",
    "    plt.show()"
   ]
  },
  {
   "cell_type": "code",
   "execution_count": 11,
   "metadata": {},
   "outputs": [
    {
     "data": {
      "image/png": "[encoded data removed]",
      "text/plain": [
       "<Figure size 1440x1080 with 12 Axes>"
      ]
     },
     "metadata": {
      "needs_background": "light"
     },
     "output_type": "display_data"
    }
   ],
   "source": [
    "plot_frames(frames)"
   ]
  },
  {
   "cell_type": "code",
   "execution_count": 12,
   "metadata": {
    "scrolled": true
   },
   "outputs": [
    {
     "data": {
      "image/png": "[encoded data removed]",
      "text/plain": [
       "<Figure size 432x288 with 1 Axes>"
      ]
     },
     "metadata": {
      "needs_background": "light"
     },
     "output_type": "display_data"
    }
   ],
   "source": [
    "save_ani(1, int(total_reward), frames, fps=15, skip_frames=2, \n",
    "         out_path='./animations/playground/', mode='random')"
   ]
  }
 ],
 "metadata": {
  "kernelspec": {
   "display_name": "Python 3",
   "language": "python",
   "name": "python3"
  },
  "language_info": {
   "codemirror_mode": {
    "name": "ipython",
    "version": 3
   },
   "file_extension": ".py",
   "mimetype": "text/x-python",
   "name": "python",
   "nbconvert_exporter": "python",
   "pygments_lexer": "ipython3",
   "version": "3.6.7"
  }
 },
 "nbformat": 4,
 "nbformat_minor": 2
}

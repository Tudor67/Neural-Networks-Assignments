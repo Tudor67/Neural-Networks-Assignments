{
 "cells": [
  {
   "cell_type": "markdown",
   "metadata": {},
   "source": [
    "# DQN (test)\n",
    "https://medium.freecodecamp.org/an-introduction-to-deep-q-learning-lets-play-doom-54d02d8017d8"
   ]
  },
  {
   "cell_type": "markdown",
   "metadata": {},
   "source": [
    "## Setup"
   ]
  },
  {
   "cell_type": "code",
   "execution_count": 1,
   "metadata": {},
   "outputs": [
    {
     "name": "stdout",
     "output_type": "stream",
     "text": [
      "sys.version: 3.6.7 |Anaconda, Inc.| (default, Oct 23 2018, 19:16:44) \n",
      "[GCC 7.3.0]\n",
      "tf.version: 1.11.0\n"
     ]
    }
   ],
   "source": [
    "import matplotlib.animation as animation\n",
    "import matplotlib.pyplot as plt\n",
    "import numpy as np\n",
    "import gym\n",
    "import sys\n",
    "import tensorflow as tf\n",
    "\n",
    "from animations import *\n",
    "from dqn import DQN\n",
    "from params import *\n",
    "from preprocessing import *\n",
    "\n",
    "%matplotlib inline\n",
    "%load_ext autoreload\n",
    "%autoreload 2\n",
    "\n",
    "print(f'sys.version: {sys.version}')\n",
    "print(f'tf.version: {tf.__version__}')"
   ]
  },
  {
   "cell_type": "markdown",
   "metadata": {},
   "source": [
    "## Look at the Breakout-v0 env"
   ]
  },
  {
   "cell_type": "code",
   "execution_count": 2,
   "metadata": {},
   "outputs": [
    {
     "name": "stdout",
     "output_type": "stream",
     "text": [
      "action_size: 4\n"
     ]
    }
   ],
   "source": [
    "env = gym.make('Breakout-v0')\n",
    "env.reset()\n",
    "env.render()\n",
    "print(f'action_size: {env.action_space.n}')"
   ]
  },
  {
   "cell_type": "code",
   "execution_count": 3,
   "metadata": {},
   "outputs": [
    {
     "name": "stdout",
     "output_type": "stream",
     "text": [
      "Num_Actions: 4\n",
      "0: NOOP\n",
      "1: FIRE\n",
      "2: RIGHT\n",
      "3: LEFT\n"
     ]
    }
   ],
   "source": [
    "print(f'Num_Actions: {env.action_space.n}')\n",
    "action_meanings = env.unwrapped.get_action_meanings()\n",
    "for i in range(env.action_space.n):\n",
    "    print(f'{i}: {action_meanings[i]}')"
   ]
  },
  {
   "cell_type": "code",
   "execution_count": 4,
   "metadata": {},
   "outputs": [
    {
     "data": {
      "image/png": "[encoded data removed]",
      "text/plain": [
       "<Figure size 432x288 with 1 Axes>"
      ]
     },
     "metadata": {
      "needs_background": "light"
     },
     "output_type": "display_data"
    }
   ],
   "source": [
    "rgb_frame = env.reset()\n",
    "\n",
    "plt.figure()\n",
    "plt.title(f'{rgb_frame.shape}')\n",
    "plt.axis('off')\n",
    "plt.imshow(rgb_frame)\n",
    "plt.show()"
   ]
  },
  {
   "cell_type": "markdown",
   "metadata": {},
   "source": [
    "### Instantiate DQN"
   ]
  },
  {
   "cell_type": "code",
   "execution_count": 5,
   "metadata": {},
   "outputs": [],
   "source": [
    "tf.reset_default_graph()\n",
    "\n",
    "dqn = DQN(state_shape=STATE_SHAPE, action_size=ACTION_SIZE, dqn_name='DQN')"
   ]
  },
  {
   "cell_type": "markdown",
   "metadata": {},
   "source": [
    "### Test and watch how the agent plays Breakout-v0"
   ]
  },
  {
   "cell_type": "code",
   "execution_count": 6,
   "metadata": {},
   "outputs": [],
   "source": [
    "def test(dqn, env, episode=NUM_EPISODES):\n",
    "    frames = []\n",
    "    with tf.Session() as sess:\n",
    "        # load the model\n",
    "        tf.train.Saver().restore(sess, SAVE_PATH + f'/model_episode_{episode}.ckpt')\n",
    "        \n",
    "        step = 0\n",
    "        total_reward = 0\n",
    "        done = False\n",
    "        stacked_frames = []\n",
    "        \n",
    "        state = env.reset()\n",
    "        frames.append(state)\n",
    "        state, stacked_frames = stack_frames(stacked_frames, state, \n",
    "                                             is_new_episode=True)\n",
    "        env.render()\n",
    "        \n",
    "        while not done:\n",
    "            state = state.reshape([1, *STATE_SHAPE])\n",
    "            Q = sess.run(dqn.output,\n",
    "                         feed_dict={\n",
    "                             dqn.input_ph: state\n",
    "                         })\n",
    "            \n",
    "            action_idx = np.argmax(Q)\n",
    "            action = POSSIBLE_ACTIONS[action_idx]\n",
    "\n",
    "            next_state, reward, done, _ = env.step(action)\n",
    "            frames.append(next_state)\n",
    "            next_state, stacked_frames = stack_frames(stacked_frames, next_state,\n",
    "                                                      is_new_episode=False)\n",
    "            state = next_state\n",
    "            env.render()\n",
    "            \n",
    "            step += 1\n",
    "            total_reward += reward\n",
    "            \n",
    "            if step % 500 == 0:\n",
    "                print(f'step: {step}, action_idx: {action_idx}, Q: {Q}')\n",
    "        \n",
    "        print(f'Steps: {step}, total_reward: {total_reward}')\n",
    "    return episode, total_reward, frames"
   ]
  },
  {
   "cell_type": "code",
   "execution_count": 7,
   "metadata": {},
   "outputs": [
    {
     "name": "stdout",
     "output_type": "stream",
     "text": [
      "INFO:tensorflow:Restoring parameters from ./checkpoints/model_episode_500.ckpt\n",
      "step: 500, action_idx: 0, Q: [[0.2306676  0.23066103 0.23063102 0.23061523]]\n",
      "step: 1000, action_idx: 0, Q: [[0.2306676  0.23066103 0.23063102 0.23061523]]\n",
      "step: 1500, action_idx: 0, Q: [[0.2306676  0.23066103 0.23063102 0.23061523]]\n",
      "step: 2000, action_idx: 0, Q: [[0.2306676  0.23066103 0.23063102 0.23061523]]\n",
      "step: 2500, action_idx: 0, Q: [[0.2306676  0.23066103 0.23063102 0.23061523]]\n",
      "step: 3000, action_idx: 0, Q: [[0.2306676  0.23066103 0.23063102 0.23061523]]\n",
      "step: 3500, action_idx: 0, Q: [[0.2306676  0.23066103 0.23063102 0.23061523]]\n",
      "step: 4000, action_idx: 0, Q: [[0.2306676  0.23066103 0.23063102 0.23061523]]\n",
      "step: 4500, action_idx: 0, Q: [[0.2306676  0.23066103 0.23063102 0.23061523]]\n",
      "step: 5000, action_idx: 0, Q: [[0.2306676  0.23066103 0.23063102 0.23061523]]\n",
      "step: 5500, action_idx: 0, Q: [[0.2306676  0.23066103 0.23063102 0.23061523]]\n",
      "step: 6000, action_idx: 0, Q: [[0.2306676  0.23066103 0.23063102 0.23061523]]\n",
      "step: 6500, action_idx: 0, Q: [[0.2306676  0.23066103 0.23063102 0.23061523]]\n",
      "step: 7000, action_idx: 0, Q: [[0.2306676  0.23066103 0.23063102 0.23061523]]\n",
      "step: 7500, action_idx: 0, Q: [[0.2306676  0.23066103 0.23063102 0.23061523]]\n",
      "step: 8000, action_idx: 0, Q: [[0.2306676  0.23066103 0.23063102 0.23061523]]\n",
      "step: 8500, action_idx: 0, Q: [[0.2306676  0.23066103 0.23063102 0.23061523]]\n",
      "step: 9000, action_idx: 0, Q: [[0.2306676  0.23066103 0.23063102 0.23061523]]\n",
      "step: 9500, action_idx: 0, Q: [[0.2306676  0.23066103 0.23063102 0.23061523]]\n",
      "step: 10000, action_idx: 0, Q: [[0.2306676  0.23066103 0.23063102 0.23061523]]\n",
      "Steps: 10000, total_reward: 0.0\n"
     ]
    }
   ],
   "source": [
    "episode, reward, frames = test(dqn, env)\n",
    "frames = np.array(frames)"
   ]
  },
  {
   "cell_type": "code",
   "execution_count": 8,
   "metadata": {},
   "outputs": [
    {
     "name": "stdout",
     "output_type": "stream",
     "text": [
      "CPU times: user 0 ns, sys: 0 ns, total: 0 ns\n",
      "Wall time: 5.01 µs\n"
     ]
    }
   ],
   "source": [
    "%%time\n",
    "#save_ani(episode, int(reward), frames, fps=15, skip_frames=2, \n",
    "#         out_path='./animations/test/', mode='test')"
   ]
  },
  {
   "cell_type": "code",
   "execution_count": 9,
   "metadata": {},
   "outputs": [],
   "source": [
    "#env.close()"
   ]
  }
 ],
 "metadata": {
  "kernelspec": {
   "display_name": "Python 3",
   "language": "python",
   "name": "python3"
  },
  "language_info": {
   "codemirror_mode": {
    "name": "ipython",
    "version": 3
   },
   "file_extension": ".py",
   "mimetype": "text/x-python",
   "name": "python",
   "nbconvert_exporter": "python",
   "pygments_lexer": "ipython3",
   "version": "3.6.7"
  }
 },
 "nbformat": 4,
 "nbformat_minor": 2
}

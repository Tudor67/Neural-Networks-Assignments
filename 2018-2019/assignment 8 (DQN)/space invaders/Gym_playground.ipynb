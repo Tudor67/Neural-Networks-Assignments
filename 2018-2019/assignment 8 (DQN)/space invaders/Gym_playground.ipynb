{
 "cells": [
  {
   "cell_type": "code",
   "execution_count": 1,
   "metadata": {},
   "outputs": [
    {
     "name": "stdout",
     "output_type": "stream",
     "text": [
      "sys.version: 3.6.7 |Anaconda, Inc.| (default, Oct 23 2018, 19:16:44) \n",
      "[GCC 7.3.0]\n",
      "skimage.version: 0.14.1\n",
      "retro.version: 0.6.1.dev25+g9ec2e44\n"
     ]
    }
   ],
   "source": [
    "import matplotlib.animation as animation\n",
    "import matplotlib.pyplot as plt\n",
    "import numpy as np\n",
    "import skimage\n",
    "import retro\n",
    "import sys\n",
    "\n",
    "%matplotlib inline\n",
    "\n",
    "print(f'sys.version: {sys.version}')\n",
    "print(f'skimage.version: {skimage.__version__}')\n",
    "print(f'retro.version: {retro.__version__}')"
   ]
  },
  {
   "cell_type": "code",
   "execution_count": 2,
   "metadata": {},
   "outputs": [],
   "source": [
    "env = retro.make('SpaceInvaders-Atari2600')"
   ]
  },
  {
   "cell_type": "code",
   "execution_count": 3,
   "metadata": {},
   "outputs": [
    {
     "name": "stdout",
     "output_type": "stream",
     "text": [
      "['__class__', '__delattr__', '__dict__', '__dir__', '__doc__', '__eq__', '__format__', '__ge__', '__getattribute__', '__gt__', '__hash__', '__init__', '__init_subclass__', '__le__', '__lt__', '__module__', '__ne__', '__new__', '__reduce__', '__reduce_ex__', '__repr__', '__setattr__', '__sizeof__', '__str__', '__subclasshook__', '__weakref__', 'action_space', 'action_to_array', 'auto_record', 'button_combos', 'buttons', 'close', 'compute_step', 'data', 'em', 'gamename', 'get_action_meaning', 'get_screen', 'img', 'initial_state', 'load_state', 'metadata', 'movie', 'movie_id', 'movie_path', 'np_random', 'num_buttons', 'observation_space', 'players', 'record_movie', 'render', 'reset', 'reward_range', 'seed', 'spec', 'statename', 'step', 'stop_record', 'system', 'unwrapped', 'use_restricted_actions', 'viewer']\n"
     ]
    }
   ],
   "source": [
    "print(dir(env))"
   ]
  },
  {
   "cell_type": "code",
   "execution_count": 4,
   "metadata": {},
   "outputs": [
    {
     "name": "stdout",
     "output_type": "stream",
     "text": [
      "[0 1 1 0 1 1 1 1]\n",
      "[]\n"
     ]
    }
   ],
   "source": [
    "s = env.reset()\n",
    "a = env.action_space.sample()\n",
    "print(a)\n",
    "print(env.get_action_meaning(a))"
   ]
  },
  {
   "cell_type": "code",
   "execution_count": 5,
   "metadata": {},
   "outputs": [
    {
     "name": "stdout",
     "output_type": "stream",
     "text": [
      "[1 0 0 0 0 0 0 0] :  ['BUTTON']\n",
      "[0 1 0 0 0 0 0 0] :  []\n",
      "[0 0 1 0 0 0 0 0] :  []\n",
      "[0 0 0 1 0 0 0 0] :  []\n",
      "[0 0 0 0 1 0 0 0] :  ['UP']\n",
      "[0 0 0 0 0 1 0 0] :  ['DOWN']\n",
      "[0 0 0 0 0 0 1 0] :  ['LEFT']\n",
      "[0 0 0 0 0 0 0 1] :  ['RIGHT']\n"
     ]
    }
   ],
   "source": [
    "actions = np.identity(8, dtype=int)\n",
    "for a in actions:\n",
    "    print(a, ': ', env.get_action_meaning(a))"
   ]
  },
  {
   "cell_type": "code",
   "execution_count": 6,
   "metadata": {},
   "outputs": [],
   "source": [
    "a = actions[7]\n",
    "s = env.reset()\n",
    "env.render()\n",
    "done = False\n",
    "step = 0\n",
    "\n",
    "while not done:\n",
    "    s, r, done, _ = env.step(a)\n",
    "    step += 1\n",
    "    if step % 100 == 0:\n",
    "        a = actions[6 + (step // 100) % 2]\n",
    "    env.render()\n",
    "    \n",
    "env.close()"
   ]
  }
 ],
 "metadata": {
  "kernelspec": {
   "display_name": "Python 3",
   "language": "python",
   "name": "python3"
  },
  "language_info": {
   "codemirror_mode": {
    "name": "ipython",
    "version": 3
   },
   "file_extension": ".py",
   "mimetype": "text/x-python",
   "name": "python",
   "nbconvert_exporter": "python",
   "pygments_lexer": "ipython3",
   "version": "3.6.7"
  }
 },
 "nbformat": 4,
 "nbformat_minor": 2
}

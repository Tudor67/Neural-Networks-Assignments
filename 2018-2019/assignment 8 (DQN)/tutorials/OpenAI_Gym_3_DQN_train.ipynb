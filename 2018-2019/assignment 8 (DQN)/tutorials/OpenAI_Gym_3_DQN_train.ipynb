{
 "cells": [
  {
   "cell_type": "markdown",
   "metadata": {},
   "source": [
    "# OpenAI Gym (DQN_train)\n",
    "https://simoninithomas.github.io/Deep_reinforcement_learning_Course/  \n",
    "https://medium.freecodecamp.org/an-introduction-to-deep-q-learning-lets-play-doom-54d02d8017d8  \n",
    "https://medium.freecodecamp.org/improvements-in-deep-q-learning-dueling-double-dqn-prioritized-experience-replay-and-fixed-58b130cc5682  \n",
    "https://github.com/yandexdataschool/Practical_RL/blob/master/week4_approx_rl/homework_pytorch.ipynb  \n",
    "http://maciejjaskowski.github.io/2016/03/09/space-invaders.html  \n",
    "https://storage.googleapis.com/deepmind-data/assets/papers/DeepMindNature14236Paper.pdf"
   ]
  },
  {
   "cell_type": "markdown",
   "metadata": {},
   "source": [
    "## 1. Setup"
   ]
  },
  {
   "cell_type": "code",
   "execution_count": 1,
   "metadata": {},
   "outputs": [
    {
     "name": "stdout",
     "output_type": "stream",
     "text": [
      "sys.version: 3.6.7 |Anaconda, Inc.| (default, Oct 23 2018, 19:16:44) \n",
      "[GCC 7.3.0]\n",
      "skimage.version: 0.14.1\n",
      "tf.version: 1.11.0\n",
      "retro.version: 0.6.1.dev25+g9ec2e44\n"
     ]
    }
   ],
   "source": [
    "import matplotlib.animation as animation\n",
    "import matplotlib.pyplot as plt\n",
    "import numpy as np\n",
    "import retro\n",
    "import sys\n",
    "import tensorflow as tf\n",
    "\n",
    "from collections import deque\n",
    "from dqn import DQN\n",
    "from params import *\n",
    "from preprocessing import *\n",
    "\n",
    "%matplotlib inline\n",
    "%load_ext autoreload\n",
    "%autoreload 2\n",
    "\n",
    "print(f'sys.version: {sys.version}')\n",
    "print(f'skimage.version: {skimage.__version__}')\n",
    "print(f'tf.version: {tf.__version__}')\n",
    "print(f'retro.version: {retro.__version__}')"
   ]
  },
  {
   "cell_type": "markdown",
   "metadata": {},
   "source": [
    "## 2. Look at the SpaceInvaders-Atari2600 env\n",
    "Steps to follow:\n",
    "1. Download zip file from http://www.atarimania.com/rom_collection_archive_atari_2600_roms.html\n",
    "2. Open Roms.rar > ROMS.rar and find Space Invaders (1980) XXXXXX\n",
    "3. Extract all matches (there are 5 of them) into your destin folder\n",
    "4. python -m retro.import . (don't forget the point)"
   ]
  },
  {
   "cell_type": "code",
   "execution_count": 2,
   "metadata": {},
   "outputs": [
    {
     "name": "stdout",
     "output_type": "stream",
     "text": [
      "action_space.size: 8\n"
     ]
    }
   ],
   "source": [
    "env = retro.make('SpaceInvaders-Atari2600')\n",
    "env.reset()\n",
    "env.render()\n",
    "print(f'action_space.size: {env.action_space.n}')"
   ]
  },
  {
   "cell_type": "code",
   "execution_count": 3,
   "metadata": {},
   "outputs": [
    {
     "name": "stdout",
     "output_type": "stream",
     "text": [
      "[1 0 0 0 0 0 0 0] :  ['BUTTON']\n",
      "[0 1 0 0 0 0 0 0] :  []\n",
      "[0 0 1 0 0 0 0 0] :  []\n",
      "[0 0 0 1 0 0 0 0] :  []\n",
      "[0 0 0 0 1 0 0 0] :  ['UP']\n",
      "[0 0 0 0 0 1 0 0] :  ['DOWN']\n",
      "[0 0 0 0 0 0 1 0] :  ['LEFT']\n",
      "[0 0 0 0 0 0 0 1] :  ['RIGHT']\n"
     ]
    }
   ],
   "source": [
    "actions = np.identity(env.action_space.n, dtype=int)\n",
    "for a in actions:\n",
    "    print(a, ': ', env.get_action_meaning(a))"
   ]
  },
  {
   "cell_type": "markdown",
   "metadata": {},
   "source": [
    "__I will use just 4 actions: [0, 1, 6, 7] <=> ['BUTTON', '', 'LEFT', 'RIGHT']__"
   ]
  },
  {
   "cell_type": "markdown",
   "metadata": {},
   "source": [
    "## 3. DQN"
   ]
  },
  {
   "cell_type": "markdown",
   "metadata": {},
   "source": [
    "### CNN architecture\n",
    "1. Conv2d(filters=32, kernel_size=8, strides=4, padding='valid', activation=ELU)\n",
    "2. Conv2d(filters=64, kernel_size=4, strides=2, padding='valid', activation=ELU)  \n",
    "3. Conv2d(filters=64, kernel_size=3, strides=2, padding='valid', activation=ELU) -> Flatten()  \n",
    "4. FC(512, activation=ELU)\n",
    "5. FC(NUM_ACTIONS, activation=Linear)"
   ]
  },
  {
   "cell_type": "markdown",
   "metadata": {},
   "source": [
    "### Instantiate DQNs: DQN and TargetDQN"
   ]
  },
  {
   "cell_type": "code",
   "execution_count": 4,
   "metadata": {},
   "outputs": [],
   "source": [
    "tf.reset_default_graph()\n",
    "\n",
    "dqn = DQN(state_shape=STATE_SHAPE, action_size=ACTION_SIZE, dqn_name='DQN')\n",
    "dqn_target = DQN(state_shape=STATE_SHAPE, action_size=ACTION_SIZE, dqn_name='DQNTarget')"
   ]
  },
  {
   "cell_type": "markdown",
   "metadata": {},
   "source": [
    "## 4. Training"
   ]
  },
  {
   "cell_type": "markdown",
   "metadata": {},
   "source": [
    "### Memory class (for Experience Replay)"
   ]
  },
  {
   "cell_type": "code",
   "execution_count": 5,
   "metadata": {},
   "outputs": [],
   "source": [
    "class Memory:\n",
    "    def __init__(self, max_size):\n",
    "        self.buffer = deque(maxlen=max_size)\n",
    "        \n",
    "    def add(self, experience):\n",
    "        self.buffer.append(experience)\n",
    "        \n",
    "    def sample(self, batch_size):\n",
    "        buffer_size = len(self.buffer)\n",
    "        indices = np.random.choice(np.arange(buffer_size),\n",
    "                                   size=batch_size,\n",
    "                                   replace=False)\n",
    "        experiences_batch = [self.buffer[idx] for idx in indices]\n",
    "        return experiences_batch"
   ]
  },
  {
   "cell_type": "markdown",
   "metadata": {},
   "source": [
    "#### Pre-populate memory by taking random actions and storing each experience (state, action, reward, next_state, done)"
   ]
  },
  {
   "cell_type": "code",
   "execution_count": 6,
   "metadata": {},
   "outputs": [],
   "source": [
    "def get_pre_populated_memory(env):\n",
    "    memory = Memory(max_size=MEMORY_SIZE)\n",
    "    stacked_frames = []\n",
    "    state = None\n",
    "\n",
    "    for step in range(PRETRAIN_LENGTH):\n",
    "        if step == 0:\n",
    "            state = env.reset()\n",
    "            state, stacked_frames = stack_frames(stacked_frames, state,\n",
    "                                                 is_new_episode=True)\n",
    "\n",
    "        # random action\n",
    "        action_idx = np.random.randint(ACTION_SIZE)\n",
    "        action = POSSIBLE_ACTIONS[action_idx]\n",
    "        \n",
    "        # next state\n",
    "        next_state, reward, done, _ = env.step(action)\n",
    "        next_state, stacked_frames = stack_frames(stacked_frames, next_state,\n",
    "                                                  is_new_episode=False)\n",
    "\n",
    "        if done:\n",
    "            # the end of episode (next_state = 0)\n",
    "            next_state = np.zeros(STATE_SHAPE)\n",
    "            next_state, stacked_frames = stack_frames(stacked_frames, next_state,\n",
    "                                                      is_new_episode=False)\n",
    "\n",
    "            # add experience to memory\n",
    "            memory.add((state, action_idx, reward, next_state, done))\n",
    "\n",
    "            # start a new episode\n",
    "            state = env.reset()\n",
    "            state, stacked_frames = stack_frames(stacked_frames, state,\n",
    "                                                 is_new_episode=True)\n",
    "        else:\n",
    "            # add experience to memory\n",
    "            memory.add((state, action_idx, reward, next_state, done))\n",
    "            state = next_state\n",
    "    \n",
    "    return memory"
   ]
  },
  {
   "cell_type": "markdown",
   "metadata": {},
   "source": [
    "### Helper function to copy DQN parameters to DQNTarget"
   ]
  },
  {
   "cell_type": "code",
   "execution_count": 7,
   "metadata": {},
   "outputs": [],
   "source": [
    "def update_dqn_target():\n",
    "    from_vars = tf.get_collection(tf.GraphKeys.TRAINABLE_VARIABLES, 'DQN')\n",
    "    to_vars = tf.get_collection(tf.GraphKeys.TRAINABLE_VARIABLES, 'DQNTarget')\n",
    "    \n",
    "    op_holder = []\n",
    "    for from_var, to_var in zip(from_vars, to_vars):\n",
    "        op_holder.append(to_var.assign(from_var))\n",
    "        \n",
    "    return op_holder"
   ]
  },
  {
   "cell_type": "markdown",
   "metadata": {},
   "source": [
    "### DQN (training algorithm)"
   ]
  },
  {
   "cell_type": "code",
   "execution_count": 8,
   "metadata": {},
   "outputs": [],
   "source": [
    "def eps_greedy(sess, state, eps_decay_step):\n",
    "    # eps: exploration probability\n",
    "    eps = EPS_END + (EPS_START - EPS_END) * np.exp(-EPS_DECAY_RATE * eps_decay_step)\n",
    "    \n",
    "    if np.random.rand() < eps:\n",
    "        # exploration with eps probability\n",
    "        action_idx = np.random.randint(ACTION_SIZE)\n",
    "    else:\n",
    "        # exploitation with (1 - eps) probability\n",
    "        Q = sess.run(dqn.output,\n",
    "                     feed_dict={\n",
    "                         dqn.input_ph: state.reshape(1, *STATE_SHAPE)\n",
    "                     })\n",
    "        \n",
    "        action_idx = np.argmax(Q)\n",
    "\n",
    "    return action_idx, eps"
   ]
  },
  {
   "cell_type": "code",
   "execution_count": 9,
   "metadata": {},
   "outputs": [],
   "source": [
    "def dqn_training(dqn, dqn_target,\n",
    "                 num_episodes=NUM_EPISODES, \n",
    "                 max_steps_per_episode=MAX_STEPS_PER_EPISODE, \n",
    "                 batch_size=BATCH_SIZE,\n",
    "                 learning_rate=LEARNING_RATE):\n",
    "    \n",
    "    # memory for experience replay\n",
    "    memory = get_pre_populated_memory(env)\n",
    "    \n",
    "    # update dqn target op\n",
    "    update_dqn_target_op = update_dqn_target()    \n",
    "    \n",
    "    # to save some ckpts\n",
    "    saver = tf.train.Saver(max_to_keep=30)\n",
    "    \n",
    "    with tf.Session() as sess:\n",
    "        # init tf variables\n",
    "        sess.run(tf.global_variables_initializer())\n",
    "        \n",
    "        # init dqn_target with the same params as dqn\n",
    "        sess.run(update_dqn_target_op)\n",
    "        \n",
    "        step = 0\n",
    "        best_rewards = [0 for _ in range(2)]\n",
    "        best_episodes = [[] for _ in range(2)]\n",
    "        iters_per_episode = []\n",
    "        reward_per_episode = []\n",
    "        loss_per_iter = []\n",
    "        \n",
    "        for episode in range(1, num_episodes + 1):\n",
    "            episode_step = 0\n",
    "            done = False\n",
    "            stacked_frames = []\n",
    "            episode_rewards = []\n",
    "            episode_states = []\n",
    "            \n",
    "            # new episode\n",
    "            state = env.reset()\n",
    "            episode_states.append(state.copy())\n",
    "            state, stacked_frames = stack_frames(stacked_frames, state,\n",
    "                                                 is_new_episode=True)\n",
    "            \n",
    "            \n",
    "            while (not done) and (episode_step < max_steps_per_episode):\n",
    "                episode_step += 1\n",
    "                step += 1\n",
    "                \n",
    "                action_idx, eps = eps_greedy(sess, state, step)\n",
    "                action = POSSIBLE_ACTIONS[action_idx]\n",
    "                next_state, reward, done, _ = env.step(action)\n",
    "                episode_rewards.append(reward)\n",
    "                episode_states.append(next_state.copy())\n",
    "                \n",
    "                if done:\n",
    "                    # the end of episode (next_state = 0)\n",
    "                    next_state = np.zeros(STATE_SHAPE)\n",
    "                    next_state, stacked_frames = stack_frames(stacked_frames, next_state,\n",
    "                                                              is_new_episode=False)\n",
    "                    # add experience to memory\n",
    "                    memory.add((state, action_idx, reward, next_state, done))\n",
    "                    \n",
    "                    total_reward = np.sum(episode_rewards)\n",
    "                    reward_per_episode.append(total_reward)\n",
    "                    iters_per_episode.append(episode_step)\n",
    "                    \n",
    "                    print(f'Episode: {episode}, '\n",
    "                          f'Total reward: {total_reward}, '\n",
    "                          f'Epsilon: {eps}')\n",
    "                else:\n",
    "                    next_state, stacked_frames = stack_frames(stacked_frames, next_state,\n",
    "                                                              is_new_episode=False)\n",
    "                    # add experience to memory\n",
    "                    memory.add((state, action_idx, reward, next_state, done))\n",
    "                    \n",
    "                    state = next_state\n",
    "                    \n",
    "                ### learning part ###\n",
    "                # sample a random batch of experiences from memory\n",
    "                batch = memory.sample(batch_size)\n",
    "                batch_states = np.array([experience[0] for experience in batch], ndmin=3)\n",
    "                batch_action_indices = np.array([experience[1] for experience in batch])\n",
    "                batch_rewards = np.array([experience[2] for experience in batch])\n",
    "                batch_next_states = np.array([experience[3] for experience in batch], ndmin=3)\n",
    "                batch_dones = np.array([experience[4] for experience in batch])\n",
    "\n",
    "                # if the episode ends at next_state:\n",
    "                #     Q_target(state) = reward\n",
    "                # else:\n",
    "                #     Q_target(state) = reward + gamma * argmax(a){Q_next_state}\n",
    "                Q_batch_next_state = sess.run(dqn_target.output,\n",
    "                                              feed_dict={\n",
    "                                                  dqn_target.input_ph: batch_next_states\n",
    "                                              })\n",
    "                \n",
    "                # terminal states => Q value = 0\n",
    "                Q_batch_next_state[batch_dones, :] = 0\n",
    "                \n",
    "                Q_target = batch_rewards + GAMMA * np.max(Q_batch_next_state, axis=1)\n",
    "                \n",
    "                loss, _ = sess.run([dqn.loss, dqn.optimization_step],\n",
    "                                   feed_dict={\n",
    "                                       dqn.input_ph: batch_states,\n",
    "                                       dqn.action_indices_ph: batch_action_indices,\n",
    "                                       dqn.Q_target_ph: Q_target,\n",
    "                                       dqn.learning_rate_ph: learning_rate\n",
    "                                   })\n",
    "                \n",
    "                if step % Q_TARGET_UPDATE_FREQ == 0:\n",
    "                    print('Update parameters of DQNTarget')\n",
    "                    sess.run(update_dqn_target_op)\n",
    "                \n",
    "                loss_per_iter.append(loss)\n",
    "            \n",
    "            # keep 2 train episodes with high reward\n",
    "            min_pos = np.argmin(best_rewards)\n",
    "            max_pos = np.argmax(best_rewards)\n",
    "            min_reward = best_rewards[min_pos]\n",
    "            max_reward = best_rewards[max_pos]\n",
    "            cur_reward = reward_per_episode[-1]\n",
    "            \n",
    "            if cur_reward > max_reward:\n",
    "                best_episodes[min_pos] = best_episodes[max_pos]\n",
    "                best_rewards[min_pos] = best_rewards[max_pos]\n",
    "                best_episodes[max_pos] = [episode, cur_reward, episode_states]\n",
    "                best_rewards[max_pos] = cur_reward\n",
    "            elif cur_reward > min_reward:\n",
    "                best_episodes[min_pos] = [episode, cur_reward, episode_states]\n",
    "                best_rewards[min_pos] = cur_reward\n",
    "            \n",
    "            if (episode == 1) or (episode % SAVE_EVERY == 0):\n",
    "                saver.save(sess, f'{SAVE_PATH}/model_episode_{episode}.ckpt')\n",
    "                print('Model saved')\n",
    "                \n",
    "    return iters_per_episode, reward_per_episode, loss_per_iter, best_episodes"
   ]
  },
  {
   "cell_type": "code",
   "execution_count": 10,
   "metadata": {},
   "outputs": [
    {
     "name": "stdout",
     "output_type": "stream",
     "text": [
      "Episode: 1, Total reward: 110.0, Epsilon: 0.9576497226762632\n",
      "Model saved\n",
      "Episode: 2, Total reward: 225.0, Epsilon: 0.9097751899061124\n",
      "Model saved\n",
      "Episode: 3, Total reward: 155.0, Epsilon: 0.877959403259865\n",
      "Model saved\n",
      "CPU times: user 5min 5s, sys: 5min 20s, total: 10min 25s\n",
      "Wall time: 3min 28s\n"
     ]
    }
   ],
   "source": [
    "%%time\n",
    "!rm -rf $SAVE_PATH\n",
    "train_stats = dqn_training(dqn, dqn_target, num_episodes=NUM_EPISODES)"
   ]
  },
  {
   "cell_type": "markdown",
   "metadata": {},
   "source": [
    "#### Training stats"
   ]
  },
  {
   "cell_type": "code",
   "execution_count": 11,
   "metadata": {},
   "outputs": [],
   "source": [
    "iters_per_episode, reward_per_episode, loss_per_iter, best_episodes = train_stats"
   ]
  },
  {
   "cell_type": "markdown",
   "metadata": {},
   "source": [
    "#### Save episodes with high reward during training phase (max 2)"
   ]
  },
  {
   "cell_type": "code",
   "execution_count": 12,
   "metadata": {},
   "outputs": [],
   "source": [
    "!rm -rf ./train_stats\n",
    "!mkdir ./train_stats"
   ]
  },
  {
   "cell_type": "code",
   "execution_count": 13,
   "metadata": {},
   "outputs": [
    {
     "name": "stdout",
     "output_type": "stream",
     "text": [
      "CPU times: user 92 ms, sys: 380 ms, total: 472 ms\n",
      "Wall time: 1.6 s\n"
     ]
    }
   ],
   "source": [
    "%%time\n",
    "for episode, reward, frames in best_episodes:\n",
    "    np.save(f'./train_stats/train_episode_{episode}_reward_{int(reward)}.npy', frames)"
   ]
  },
  {
   "cell_type": "markdown",
   "metadata": {},
   "source": [
    "#### Some plots"
   ]
  },
  {
   "cell_type": "code",
   "execution_count": 14,
   "metadata": {},
   "outputs": [
    {
     "data": {
      "image/png": "[encoded data removed]",
      "text/plain": [
       "<Figure size 1296x288 with 3 Axes>"
      ]
     },
     "metadata": {
      "needs_background": "light"
     },
     "output_type": "display_data"
    }
   ],
   "source": [
    "episode_range = np.arange(len(iters_per_episode)) + 1\n",
    "iter_range = np.arange(len(loss_per_iter)) + 1\n",
    "\n",
    "plt.figure(figsize=(18, 4))\n",
    "plt.subplot(1, 3, 1)\n",
    "plt.title('Iterations per episode')\n",
    "plt.plot(episode_range, iters_per_episode)\n",
    "plt.ylabel('iterations')\n",
    "plt.xlabel('episode')\n",
    "\n",
    "plt.subplot(1, 3, 2)\n",
    "plt.title('Reward per episode')\n",
    "plt.plot(episode_range, reward_per_episode)\n",
    "plt.ylabel('reward')\n",
    "plt.xlabel('episode')\n",
    "\n",
    "plt.subplot(1, 3, 3)\n",
    "plt.title('Loss')\n",
    "plt.plot(iter_range, loss_per_iter)\n",
    "plt.ylabel('loss')\n",
    "plt.xlabel('iteration')\n",
    "plt.show()"
   ]
  }
 ],
 "metadata": {
  "kernelspec": {
   "display_name": "Python 3",
   "language": "python",
   "name": "python3"
  },
  "language_info": {
   "codemirror_mode": {
    "name": "ipython",
    "version": 3
   },
   "file_extension": ".py",
   "mimetype": "text/x-python",
   "name": "python",
   "nbconvert_exporter": "python",
   "pygments_lexer": "ipython3",
   "version": "3.6.7"
  }
 },
 "nbformat": 4,
 "nbformat_minor": 2
}

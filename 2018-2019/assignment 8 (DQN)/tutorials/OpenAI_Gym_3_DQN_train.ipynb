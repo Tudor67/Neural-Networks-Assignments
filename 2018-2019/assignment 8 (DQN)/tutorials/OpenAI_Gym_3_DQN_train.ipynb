{
 "cells": [
  {
   "cell_type": "markdown",
   "metadata": {},
   "source": [
    "# OpenAI Gym (DQN)\n",
    "https://simoninithomas.github.io/Deep_reinforcement_learning_Course/  \n",
    "https://medium.freecodecamp.org/an-introduction-to-deep-q-learning-lets-play-doom-54d02d8017d8  \n",
    "https://medium.freecodecamp.org/improvements-in-deep-q-learning-dueling-double-dqn-prioritized-experience-replay-and-fixed-58b130cc5682  \n",
    "https://github.com/yandexdataschool/Practical_RL/blob/master/week4_approx_rl/homework_pytorch.ipynb  \n",
    "http://maciejjaskowski.github.io/2016/03/09/space-invaders.html  \n",
    "https://storage.googleapis.com/deepmind-data/assets/papers/DeepMindNature14236Paper.pdf"
   ]
  },
  {
   "cell_type": "markdown",
   "metadata": {},
   "source": [
    "## 1. Setup"
   ]
  },
  {
   "cell_type": "code",
   "execution_count": 1,
   "metadata": {},
   "outputs": [
    {
     "name": "stdout",
     "output_type": "stream",
     "text": [
      "sys.version: 3.6.7 |Anaconda, Inc.| (default, Oct 23 2018, 19:16:44) \n",
      "[GCC 7.3.0]\n",
      "skimage.version: 0.14.1\n",
      "tf.version: 1.11.0\n",
      "retro.version: 0.6.1.dev25+g9ec2e44\n"
     ]
    }
   ],
   "source": [
    "import matplotlib.animation as animation\n",
    "import matplotlib.pyplot as plt\n",
    "import numpy as np\n",
    "import skimage\n",
    "import retro\n",
    "import sys\n",
    "import tensorflow as tf\n",
    "\n",
    "from collections import deque\n",
    "\n",
    "%matplotlib inline\n",
    "\n",
    "print(f'sys.version: {sys.version}')\n",
    "print(f'skimage.version: {skimage.__version__}')\n",
    "print(f'tf.version: {tf.__version__}')\n",
    "print(f'retro.version: {retro.__version__}')"
   ]
  },
  {
   "cell_type": "markdown",
   "metadata": {},
   "source": [
    "## 2. Look at the SpaceInvaders-Atari2600 env\n",
    "Steps to follow:\n",
    "1. Download zip file from http://www.atarimania.com/rom_collection_archive_atari_2600_roms.html\n",
    "2. Open Roms.rar > ROMS.rar and find Space Invaders (1980) XXXXXX\n",
    "3. Extract all matches (there are 5 of them) into your destin folder\n",
    "4. python -m retro.import . (don't forget the point)"
   ]
  },
  {
   "cell_type": "code",
   "execution_count": 2,
   "metadata": {},
   "outputs": [
    {
     "name": "stdout",
     "output_type": "stream",
     "text": [
      "action_space.size: 8\n"
     ]
    }
   ],
   "source": [
    "env = retro.make('SpaceInvaders-Atari2600')\n",
    "env.reset()\n",
    "env.render()\n",
    "print(f'action_space.size: {env.action_space.n}')"
   ]
  },
  {
   "cell_type": "code",
   "execution_count": 3,
   "metadata": {},
   "outputs": [
    {
     "name": "stdout",
     "output_type": "stream",
     "text": [
      "[1 0 0 0 0 0 0 0] :  ['BUTTON']\n",
      "[0 1 0 0 0 0 0 0] :  []\n",
      "[0 0 1 0 0 0 0 0] :  []\n",
      "[0 0 0 1 0 0 0 0] :  []\n",
      "[0 0 0 0 1 0 0 0] :  ['UP']\n",
      "[0 0 0 0 0 1 0 0] :  ['DOWN']\n",
      "[0 0 0 0 0 0 1 0] :  ['LEFT']\n",
      "[0 0 0 0 0 0 0 1] :  ['RIGHT']\n"
     ]
    }
   ],
   "source": [
    "actions = np.identity(env.action_space.n, dtype=int)\n",
    "for a in actions:\n",
    "    print(a, ': ', env.get_action_meaning(a))"
   ]
  },
  {
   "cell_type": "markdown",
   "metadata": {},
   "source": [
    "__I will use just 4 actions: [0, 1, 6, 7] <=> ['BUTTON', '', 'LEFT', 'RIGHT']__"
   ]
  },
  {
   "cell_type": "markdown",
   "metadata": {},
   "source": [
    "## 3. DQN"
   ]
  },
  {
   "cell_type": "markdown",
   "metadata": {},
   "source": [
    "### CNN architecture\n",
    "1. Conv2d(filters=32, kernel_size=8, strides=4, padding='valid', activation=ELU)\n",
    "2. Conv2d(filters=64, kernel_size=4, strides=2, padding='valid', activation=ELU)  \n",
    "3. Conv2d(filters=64, kernel_size=3, strides=2, padding='valid', activation=ELU) -> Flatten()  \n",
    "4. FC(512, activation=ELU)\n",
    "5. FC(NUM_ACTIONS, activation=Linear)"
   ]
  },
  {
   "cell_type": "markdown",
   "metadata": {},
   "source": [
    "### Some hyperparameters and constants"
   ]
  },
  {
   "cell_type": "code",
   "execution_count": 4,
   "metadata": {},
   "outputs": [],
   "source": [
    "# Preprocessing\n",
    "STACK_SIZE = 4 \n",
    "\n",
    "# Model\n",
    "STATE_SHAPE = [110, 84, STACK_SIZE]\n",
    "ACTION_SIZE = 4 # ['BUTTON', '', 'LEFT', 'RIGHT']\n",
    "# Hot encoded version of our actions\n",
    "GENERAL_ACTIONS = np.identity(env.action_space.n, dtype=int)\n",
    "POSSIBLE_ACTIONS = GENERAL_ACTIONS[[0,1,6,7]]\n",
    "\n",
    "# Training\n",
    "NUM_EPISODES = 100\n",
    "MAX_STEPS_PER_EPISODE = 50_000\n",
    "BATCH_SIZE = 64\n",
    "LEARNING_RATE = 2.5e-4\n",
    "GAMMA = 0.9\n",
    "\n",
    "# Eps-greedy\n",
    "EPS_START = 1\n",
    "EPS_END = 1e-2\n",
    "EPS_DECAY_RATE = 2e-5\n",
    "\n",
    "# Memory for Experience Replay\n",
    "MEMORY_SIZE = 50_000\n",
    "PRETRAIN_LENGTH = BATCH_SIZE\n",
    "\n",
    "# Fixed Q-targets\n",
    "Q_TARGET_UPDATE_FREQ = 10_000\n",
    "\n",
    "# Save the model every 10 episodes\n",
    "SAVE_EVERY = 10\n",
    "SAVE_PATH = './checkpoints'"
   ]
  },
  {
   "cell_type": "markdown",
   "metadata": {},
   "source": [
    "### Preprocessing functions"
   ]
  },
  {
   "cell_type": "code",
   "execution_count": 5,
   "metadata": {},
   "outputs": [],
   "source": [
    "def preprocess_frame(rgb_frame):\n",
    "    # gray\n",
    "    gray_frame = skimage.color.rgb2gray(rgb_frame)\n",
    "    \n",
    "    # crop\n",
    "    cropped_frame = gray_frame[8:-12, 4:-12]\n",
    "    \n",
    "    # norm\n",
    "    norm_frame = cropped_frame / 255.\n",
    "    \n",
    "    # resize\n",
    "    preprocessed_frame = skimage.transform.resize(norm_frame, [110, 84], \n",
    "                                                  mode='constant',\n",
    "                                                  anti_aliasing=False)\n",
    "    \n",
    "    # preprocessed\n",
    "    return preprocessed_frame\n",
    "\n",
    "def stack_frames(stacked_frames, state, is_new_episode):\n",
    "    frame = preprocess_frame(state)\n",
    "    \n",
    "    if is_new_episode:\n",
    "        stacked_frames = deque(maxlen=STACK_SIZE)\n",
    "        for _ in range(STACK_SIZE):\n",
    "            stacked_frames.append(frame)\n",
    "    else:\n",
    "        stacked_frames.append(frame)\n",
    "    \n",
    "    stacked_states = np.moveaxis(stacked_frames, 0, -1)\n",
    "    \n",
    "    # stacked_states.shape: [110, 84, 4]\n",
    "    # stacked_frames.shape: [4, 110, 84]\n",
    "    return stacked_states, stacked_frames"
   ]
  },
  {
   "cell_type": "markdown",
   "metadata": {},
   "source": [
    "### Memory class (for Experience Replay)"
   ]
  },
  {
   "cell_type": "code",
   "execution_count": 6,
   "metadata": {},
   "outputs": [],
   "source": [
    "class Memory:\n",
    "    def __init__(self, max_size):\n",
    "        self.buffer = deque(maxlen=max_size)\n",
    "        \n",
    "    def add(self, experience):\n",
    "        self.buffer.append(experience)\n",
    "        \n",
    "    def sample(self, batch_size):\n",
    "        buffer_size = len(self.buffer)\n",
    "        indices = np.random.choice(np.arange(buffer_size),\n",
    "                                   size=batch_size,\n",
    "                                   replace=False)\n",
    "        experiences_batch = [self.buffer[idx] for idx in indices]\n",
    "        return experiences_batch"
   ]
  },
  {
   "cell_type": "markdown",
   "metadata": {},
   "source": [
    "#### Pre-populate memory by taking random actions and storing each experience (state, action, reward, next_state, done)"
   ]
  },
  {
   "cell_type": "code",
   "execution_count": 7,
   "metadata": {},
   "outputs": [],
   "source": [
    "def get_pre_populated_memory(env):\n",
    "    memory = Memory(max_size=MEMORY_SIZE)\n",
    "    stacked_frames = []\n",
    "    state = None\n",
    "\n",
    "    for step in range(PRETRAIN_LENGTH):\n",
    "        if step == 0:\n",
    "            state = env.reset()\n",
    "            state, stacked_frames = stack_frames(stacked_frames, state,\n",
    "                                                 is_new_episode=True)\n",
    "\n",
    "        # random action\n",
    "        action_idx = np.random.randint(ACTION_SIZE)\n",
    "        action = POSSIBLE_ACTIONS[action_idx]\n",
    "        \n",
    "        # next state\n",
    "        next_state, reward, done, _ = env.step(action)\n",
    "        next_state, stacked_frames = stack_frames(stacked_frames, next_state,\n",
    "                                                  is_new_episode=False)\n",
    "\n",
    "        if done:\n",
    "            # the end of episode (next_state = 0)\n",
    "            next_state = np.zeros(STATE_SHAPE)\n",
    "            next_state, stacked_frames = stack_frames(stacked_frames, next_state,\n",
    "                                                      is_new_episode=False)\n",
    "\n",
    "            # add experience to memory\n",
    "            memory.add((state, action_idx, reward, next_state, done))\n",
    "\n",
    "            # start a new episode\n",
    "            state = env.reset()\n",
    "            state, stacked_frames = stack_frames(stacked_frames, state,\n",
    "                                                 is_new_episode=True)\n",
    "        else:\n",
    "            # add experience to memory\n",
    "            memory.add((state, action_idx, reward, next_state, done))\n",
    "            state = next_state\n",
    "    \n",
    "    return memory"
   ]
  },
  {
   "cell_type": "markdown",
   "metadata": {},
   "source": [
    "### DQN class"
   ]
  },
  {
   "cell_type": "code",
   "execution_count": 8,
   "metadata": {},
   "outputs": [],
   "source": [
    "class DQN:\n",
    "    def __init__(self, state_shape, action_size, dqn_name='DQN'):\n",
    "        self.state_shape = state_shape\n",
    "        self.action_size = action_size\n",
    "        \n",
    "        with tf.variable_scope(dqn_name):\n",
    "            self.input_ph = tf.placeholder(tf.float32,\n",
    "                                           [None, *self.state_shape], name='input')\n",
    "            self.action_indices_ph = tf.placeholder(tf.uint8,\n",
    "                                                    [None], name='action')\n",
    "            self.Q_target_ph = tf.placeholder(tf.float32,\n",
    "                                             [None], name='target')\n",
    "            self.learning_rate_ph = tf.placeholder(tf.float32,\n",
    "                                                   (), name='learning_rate')\n",
    "            \n",
    "            self.actions_one_hot = tf.one_hot(self.action_indices_ph, self.action_size)\n",
    "            xavier_init = tf.glorot_uniform_initializer()\n",
    "            \n",
    "            # l1\n",
    "            self.conv1 = tf.layers.conv2d(self.input_ph,\n",
    "                                          filters=32, kernel_size=8,\n",
    "                                          strides=4, padding='valid',\n",
    "                                          kernel_initializer=xavier_init,\n",
    "                                          activation=tf.nn.elu, name='conv1')\n",
    "            \n",
    "            # l2\n",
    "            self.conv2 = tf.layers.conv2d(self.conv1,\n",
    "                                          filters=64, kernel_size=4,\n",
    "                                          strides=2, padding='valid',\n",
    "                                          kernel_initializer=xavier_init,\n",
    "                                          activation=tf.nn.elu, name='conv2')\n",
    "            \n",
    "            # l3\n",
    "            self.conv3 = tf.layers.conv2d(self.conv2,\n",
    "                                          filters=64, kernel_size=3,\n",
    "                                          strides=2, padding='valid',\n",
    "                                          kernel_initializer=xavier_init,\n",
    "                                          activation=tf.nn.elu, name='conv3')\n",
    "            self.flatten3 = tf.layers.flatten(self.conv3)\n",
    "            \n",
    "            # l4\n",
    "            self.fc4 = tf.layers.dense(self.flatten3,\n",
    "                                       units=512,\n",
    "                                       kernel_initializer=xavier_init,\n",
    "                                       activation=tf.nn.elu, name='fc4')\n",
    "            \n",
    "            # l5\n",
    "            self.output = tf.layers.dense(self.fc4,\n",
    "                                          units=self.action_size,\n",
    "                                          kernel_initializer=xavier_init,\n",
    "                                          activation=None, name='output')\n",
    "            \n",
    "            # prediction\n",
    "            self.Q = tf.reduce_sum(tf.multiply(self.output, self.actions_one_hot), axis=1)\n",
    "            \n",
    "            with tf.name_scope('loss'):\n",
    "                self.loss = tf.reduce_mean(tf.square(self.Q_target_ph - self.Q))\n",
    "            \n",
    "            with tf.name_scope('optimization'):\n",
    "                self.optimizer = tf.train.RMSPropOptimizer(self.learning_rate_ph)\n",
    "                self.optimization_step = self.optimizer.minimize(self.loss)"
   ]
  },
  {
   "cell_type": "markdown",
   "metadata": {},
   "source": [
    "### Instantiate DQNs: DQN and TargetDQN"
   ]
  },
  {
   "cell_type": "code",
   "execution_count": 9,
   "metadata": {},
   "outputs": [],
   "source": [
    "tf.reset_default_graph()\n",
    "\n",
    "dqn = DQN(state_shape=STATE_SHAPE, action_size=ACTION_SIZE, dqn_name='DQN')\n",
    "dqn_target = DQN(state_shape=STATE_SHAPE, action_size=ACTION_SIZE, dqn_name='DQNTarget')"
   ]
  },
  {
   "cell_type": "markdown",
   "metadata": {},
   "source": [
    "### Helper function to copy DQN parameters to DQNTarget"
   ]
  },
  {
   "cell_type": "code",
   "execution_count": 10,
   "metadata": {},
   "outputs": [],
   "source": [
    "def update_dqn_target():\n",
    "    from_vars = tf.get_collection(tf.GraphKeys.TRAINABLE_VARIABLES, 'DQN')\n",
    "    to_vars = tf.get_collection(tf.GraphKeys.TRAINABLE_VARIABLES, 'DQNTarget')\n",
    "    \n",
    "    op_holder = []\n",
    "    for from_var, to_var in zip(from_vars, to_vars):\n",
    "        op_holder.append(to_var.assign(from_var))\n",
    "        \n",
    "    return op_holder"
   ]
  },
  {
   "cell_type": "markdown",
   "metadata": {},
   "source": [
    "### DQN (training algorithm)"
   ]
  },
  {
   "cell_type": "code",
   "execution_count": 11,
   "metadata": {},
   "outputs": [],
   "source": [
    "def eps_greedy(sess, state, eps_decay_step):\n",
    "    # eps: exploration probability\n",
    "    eps = EPS_END + (EPS_START - EPS_END) * np.exp(-EPS_DECAY_RATE * eps_decay_step)\n",
    "    \n",
    "    if np.random.rand() < eps:\n",
    "        # exploration with eps probability\n",
    "        action_idx = np.random.randint(ACTION_SIZE)\n",
    "    else:\n",
    "        # exploitation with (1 - eps) probability\n",
    "        Q = sess.run(dqn.output,\n",
    "                     feed_dict={\n",
    "                         dqn.input_ph: state.reshape(1, *STATE_SHAPE)\n",
    "                     })\n",
    "        \n",
    "        action_idx = np.argmax(Q)\n",
    "\n",
    "    return action_idx, eps"
   ]
  },
  {
   "cell_type": "code",
   "execution_count": 12,
   "metadata": {},
   "outputs": [],
   "source": [
    "def dqn_training(dqn, dqn_target,\n",
    "                 num_episodes=NUM_EPISODES, \n",
    "                 max_steps_per_episode=MAX_STEPS_PER_EPISODE, \n",
    "                 batch_size=BATCH_SIZE,\n",
    "                 learning_rate=LEARNING_RATE):\n",
    "    \n",
    "    # memory for experience replay\n",
    "    memory = get_pre_populated_memory(env)\n",
    "    \n",
    "    # update dqn target op\n",
    "    update_dqn_target_op = update_dqn_target()    \n",
    "    \n",
    "    # to save some ckpts\n",
    "    saver = tf.train.Saver(max_to_keep=30)\n",
    "    \n",
    "    with tf.Session() as sess:\n",
    "        # init tf variables\n",
    "        sess.run(tf.global_variables_initializer())\n",
    "        \n",
    "        # init dqn_target with the same params as dqn\n",
    "        sess.run(update_dqn_target_op)\n",
    "        \n",
    "        step = 0\n",
    "        best_rewards = [0 for _ in range(2)]\n",
    "        best_episodes = [[] for _ in range(2)]\n",
    "        iters_per_episode = []\n",
    "        reward_per_episode = []\n",
    "        loss_per_iter = []\n",
    "        \n",
    "        for episode in range(1, num_episodes + 1):\n",
    "            episode_step = 0\n",
    "            done = False\n",
    "            stacked_frames = []\n",
    "            episode_rewards = []\n",
    "            episode_states = []\n",
    "            \n",
    "            # new episode\n",
    "            state = env.reset()\n",
    "            episode_states.append(state.copy())\n",
    "            state, stacked_frames = stack_frames(stacked_frames, state,\n",
    "                                                 is_new_episode=True)\n",
    "            \n",
    "            \n",
    "            while (not done) and (episode_step < max_steps_per_episode):\n",
    "                episode_step += 1\n",
    "                step += 1\n",
    "                \n",
    "                action_idx, eps = eps_greedy(sess, state, step)\n",
    "                action = POSSIBLE_ACTIONS[action_idx]\n",
    "                next_state, reward, done, _ = env.step(action)\n",
    "                episode_rewards.append(reward)\n",
    "                episode_states.append(next_state.copy())\n",
    "                \n",
    "                if done:\n",
    "                    # the end of episode (next_state = 0)\n",
    "                    next_state = np.zeros(STATE_SHAPE)\n",
    "                    next_state, stacked_frames = stack_frames(stacked_frames, next_state,\n",
    "                                                              is_new_episode=False)\n",
    "                    # add experience to memory\n",
    "                    memory.add((state, action_idx, reward, next_state, done))\n",
    "                    \n",
    "                    total_reward = np.sum(episode_rewards)\n",
    "                    reward_per_episode.append(total_reward)\n",
    "                    iters_per_episode.append(episode_step)\n",
    "                    \n",
    "                    print(f'Episode: {episode}, '\n",
    "                          f'Total reward: {total_reward}, '\n",
    "                          f'Epsilon: {eps}')\n",
    "                else:\n",
    "                    next_state, stacked_frames = stack_frames(stacked_frames, next_state,\n",
    "                                                              is_new_episode=False)\n",
    "                    # add experience to memory\n",
    "                    memory.add((state, action_idx, reward, next_state, done))\n",
    "                    \n",
    "                    state = next_state\n",
    "                    \n",
    "                ### learning part ###\n",
    "                # sample a random batch of experiences from memory\n",
    "                batch = memory.sample(batch_size)\n",
    "                batch_states = np.array([experience[0] for experience in batch], ndmin=3)\n",
    "                batch_action_indices = np.array([experience[1] for experience in batch])\n",
    "                batch_rewards = np.array([experience[2] for experience in batch])\n",
    "                batch_next_states = np.array([experience[3] for experience in batch], ndmin=3)\n",
    "                batch_dones = np.array([experience[4] for experience in batch])\n",
    "\n",
    "                # if the episode ends at next_state:\n",
    "                #     Q_target(state) = reward\n",
    "                # else:\n",
    "                #     Q_target(state) = reward + gamma * argmax(a){Q_next_state}\n",
    "                Q_batch_next_state = sess.run(dqn_target.output,\n",
    "                                              feed_dict={\n",
    "                                                  dqn_target.input_ph: batch_next_states\n",
    "                                              })\n",
    "                \n",
    "                # terminal states => Q value = 0\n",
    "                Q_batch_next_state[batch_dones, :] = 0\n",
    "                \n",
    "                Q_target = batch_rewards + GAMMA * np.max(Q_batch_next_state, axis=1)\n",
    "                \n",
    "                loss, _ = sess.run([dqn.loss, dqn.optimization_step],\n",
    "                                   feed_dict={\n",
    "                                       dqn.input_ph: batch_states,\n",
    "                                       dqn.action_indices_ph: batch_action_indices,\n",
    "                                       dqn.Q_target_ph: Q_target,\n",
    "                                       dqn.learning_rate_ph: learning_rate\n",
    "                                   })\n",
    "                \n",
    "                if step % Q_TARGET_UPDATE_FREQ == 0:\n",
    "                    print('Update parameters of DQNTarget')\n",
    "                    sess.run(update_dqn_target_op)\n",
    "                \n",
    "                loss_per_iter.append(loss)\n",
    "            \n",
    "            # keep 2 train episodes with high reward\n",
    "            min_pos = np.argmin(best_rewards)\n",
    "            max_pos = np.argmax(best_rewards)\n",
    "            min_reward = best_rewards[min_pos]\n",
    "            max_reward = best_rewards[max_pos]\n",
    "            cur_reward = reward_per_episode[-1]\n",
    "            \n",
    "            if cur_reward > max_reward:\n",
    "                best_episodes[min_pos] = best_episodes[max_pos]\n",
    "                best_rewards[min_pos] = best_rewards[max_pos]\n",
    "                best_episodes[max_pos] = [episode, cur_reward, episode_states]\n",
    "                best_rewards[max_pos] = cur_reward\n",
    "            elif cur_reward > min_reward:\n",
    "                best_episodes[min_pos] = [episode, cur_reward, episode_states]\n",
    "                best_rewards[min_pos] = cur_reward\n",
    "            \n",
    "            if (episode == 1) or (episode % SAVE_EVERY == 0):\n",
    "                saver.save(sess, f'{SAVE_PATH}/model_episode_{episode}.ckpt')\n",
    "                print('Model saved')\n",
    "                \n",
    "    return iters_per_episode, reward_per_episode, loss_per_iter, best_episodes"
   ]
  },
  {
   "cell_type": "code",
   "execution_count": 13,
   "metadata": {},
   "outputs": [
    {
     "name": "stdout",
     "output_type": "stream",
     "text": [
      "Episode: 1, Total reward: 490.0, Epsilon: 0.944063985768051\n",
      "Model saved\n",
      "Episode: 2, Total reward: 210.0, Epsilon: 0.900929182265611\n",
      "Episode: 3, Total reward: 805.0, Epsilon: 0.8277077043735628\n",
      "Update parameters of DQNTarget\n",
      "Episode: 4, Total reward: 155.0, Epsilon: 0.794137935590781\n",
      "Episode: 5, Total reward: 210.0, Epsilon: 0.7625481212840453\n",
      "Episode: 6, Total reward: 90.0, Epsilon: 0.7359092036267341\n",
      "Episode: 7, Total reward: 155.0, Epsilon: 0.7099332288444264\n",
      "Episode: 8, Total reward: 110.0, Epsilon: 0.6907702945320269\n",
      "Update parameters of DQNTarget\n",
      "Episode: 9, Total reward: 145.0, Epsilon: 0.6677237057907982\n",
      "Episode: 10, Total reward: 190.0, Epsilon: 0.6346209233759206\n",
      "Model saved\n",
      "Episode: 11, Total reward: 240.0, Epsilon: 0.6055854927417487\n",
      "Episode: 12, Total reward: 20.0, Epsilon: 0.5891172394247879\n",
      "Episode: 13, Total reward: 115.0, Epsilon: 0.5723165475125561\n",
      "Update parameters of DQNTarget\n",
      "Episode: 14, Total reward: 435.0, Epsilon: 0.5396227407209141\n",
      "Episode: 15, Total reward: 215.0, Epsilon: 0.5129470736182252\n",
      "Episode: 16, Total reward: 120.0, Epsilon: 0.49235721191576276\n",
      "Episode: 17, Total reward: 215.0, Epsilon: 0.4666352550054255\n",
      "Update parameters of DQNTarget\n",
      "Episode: 18, Total reward: 490.0, Epsilon: 0.44228493523651197\n",
      "Episode: 19, Total reward: 135.0, Epsilon: 0.4267326725194078\n",
      "Episode: 20, Total reward: 140.0, Epsilon: 0.4093846322411412\n",
      "Model saved\n",
      "Episode: 21, Total reward: 120.0, Epsilon: 0.3999759003065679\n",
      "Episode: 22, Total reward: 355.0, Epsilon: 0.38196692652456393\n",
      "Update parameters of DQNTarget\n",
      "Episode: 23, Total reward: 240.0, Epsilon: 0.3653577196559842\n",
      "Episode: 24, Total reward: 155.0, Epsilon: 0.356750306504144\n",
      "Episode: 25, Total reward: 410.0, Epsilon: 0.33943034749971657\n",
      "Episode: 26, Total reward: 105.0, Epsilon: 0.3292980342061936\n",
      "Episode: 27, Total reward: 260.0, Epsilon: 0.3144676808607813\n",
      "Update parameters of DQNTarget\n",
      "Episode: 28, Total reward: 520.0, Epsilon: 0.29781702349222444\n",
      "Episode: 29, Total reward: 110.0, Epsilon: 0.29036293019687437\n",
      "Episode: 30, Total reward: 210.0, Epsilon: 0.2772126926932123\n",
      "Model saved\n",
      "Episode: 31, Total reward: 160.0, Epsilon: 0.26712566728022746\n",
      "Update parameters of DQNTarget\n",
      "Episode: 32, Total reward: 380.0, Epsilon: 0.2496465053348663\n",
      "Episode: 33, Total reward: 280.0, Epsilon: 0.23729413852457973\n",
      "Episode: 34, Total reward: 110.0, Epsilon: 0.23212603436163812\n",
      "Episode: 35, Total reward: 155.0, Epsilon: 0.2241003741471419\n",
      "Episode: 36, Total reward: 125.0, Epsilon: 0.21596061128003224\n",
      "Update parameters of DQNTarget\n",
      "Episode: 37, Total reward: 275.0, Epsilon: 0.20433917225277115\n",
      "Episode: 38, Total reward: 215.0, Epsilon: 0.19722010244401064\n",
      "Episode: 39, Total reward: 355.0, Epsilon: 0.1844302491034153\n",
      "Episode: 40, Total reward: 5.0, Epsilon: 0.1802665147272927\n",
      "Model saved\n",
      "Update parameters of DQNTarget\n",
      "Episode: 41, Total reward: 215.0, Epsilon: 0.17129015422549823\n",
      "Episode: 42, Total reward: 170.0, Epsilon: 0.16538795777392773\n",
      "Episode: 43, Total reward: 340.0, Epsilon: 0.15702239808963744\n",
      "Episode: 44, Total reward: 210.0, Epsilon: 0.15008157663043015\n",
      "Episode: 45, Total reward: 5.0, Epsilon: 0.14662841520752198\n",
      "Update parameters of DQNTarget\n",
      "Episode: 46, Total reward: 95.0, Epsilon: 0.14145504671906448\n",
      "Episode: 47, Total reward: 120.0, Epsilon: 0.13654335074889112\n",
      "Episode: 48, Total reward: 170.0, Epsilon: 0.13140656360812056\n",
      "Episode: 49, Total reward: 110.0, Epsilon: 0.1281960803351066\n",
      "Episode: 50, Total reward: 90.0, Epsilon: 0.12546701943039631\n",
      "Model saved\n",
      "Episode: 51, Total reward: 210.0, Epsilon: 0.11981805414717898\n",
      "Update parameters of DQNTarget\n",
      "Episode: 52, Total reward: 130.0, Epsilon: 0.11578671486209602\n",
      "Episode: 53, Total reward: 180.0, Epsilon: 0.11165908822671908\n",
      "Episode: 54, Total reward: 100.0, Epsilon: 0.10920862371552992\n",
      "Episode: 55, Total reward: 60.0, Epsilon: 0.10698389590561118\n",
      "Episode: 56, Total reward: 215.0, Epsilon: 0.10212487034512902\n",
      "Update parameters of DQNTarget\n",
      "Episode: 57, Total reward: 120.0, Epsilon: 0.09842059725529131\n",
      "Episode: 58, Total reward: 120.0, Epsilon: 0.09636175636280794\n",
      "Episode: 59, Total reward: 135.0, Epsilon: 0.09025627428002238\n",
      "Episode: 60, Total reward: 50.0, Epsilon: 0.08794979324763125\n",
      "Model saved\n",
      "Episode: 61, Total reward: 50.0, Epsilon: 0.08558855955742245\n",
      "Update parameters of DQNTarget\n",
      "Episode: 62, Total reward: 340.0, Epsilon: 0.08169241422031524\n",
      "Episode: 63, Total reward: 105.0, Epsilon: 0.07889509209082089\n",
      "Episode: 64, Total reward: 195.0, Epsilon: 0.07625195296366247\n",
      "Episode: 65, Total reward: 120.0, Epsilon: 0.07383776499989923\n",
      "Episode: 66, Total reward: 155.0, Epsilon: 0.07097993911567917\n",
      "Update parameters of DQNTarget\n",
      "Episode: 67, Total reward: 210.0, Epsilon: 0.06813831675496501\n",
      "Episode: 68, Total reward: 140.0, Epsilon: 0.0659682711260162\n",
      "Episode: 69, Total reward: 245.0, Epsilon: 0.06319822031851936\n",
      "Episode: 70, Total reward: 115.0, Epsilon: 0.06131919958776504\n",
      "Model saved\n",
      "Update parameters of DQNTarget\n",
      "Episode: 71, Total reward: 180.0, Epsilon: 0.05903748193424332\n",
      "Episode: 72, Total reward: 470.0, Epsilon: 0.05658436375695457\n",
      "Episode: 73, Total reward: 225.0, Epsilon: 0.05475239411778793\n",
      "Episode: 74, Total reward: 260.0, Epsilon: 0.0518806934181899\n",
      "Episode: 75, Total reward: 135.0, Epsilon: 0.050403036503833445\n",
      "Update parameters of DQNTarget\n",
      "Episode: 76, Total reward: 395.0, Epsilon: 0.04885143228273827\n",
      "Episode: 77, Total reward: 195.0, Epsilon: 0.04653771238182458\n",
      "Episode: 78, Total reward: 515.0, Epsilon: 0.044312336119049396\n",
      "Episode: 79, Total reward: 135.0, Epsilon: 0.04335290727179226\n",
      "Update parameters of DQNTarget\n",
      "Episode: 80, Total reward: 225.0, Epsilon: 0.04148102373300614\n",
      "Model saved\n",
      "Episode: 81, Total reward: 125.0, Epsilon: 0.04030840125207168\n",
      "Episode: 82, Total reward: 25.0, Epsilon: 0.039624002948101346\n",
      "Episode: 83, Total reward: 80.0, Epsilon: 0.03900374452285103\n",
      "Episode: 84, Total reward: 45.0, Epsilon: 0.03832387088078319\n",
      "Update parameters of DQNTarget\n",
      "Episode: 85, Total reward: 160.0, Epsilon: 0.03674707022724433\n",
      "Episode: 86, Total reward: 165.0, Epsilon: 0.0356459315019775\n",
      "Episode: 87, Total reward: 105.0, Epsilon: 0.0347965602295218\n",
      "Episode: 88, Total reward: 135.0, Epsilon: 0.03373960957391497\n",
      "Episode: 89, Total reward: 445.0, Epsilon: 0.032440445718346214\n",
      "Update parameters of DQNTarget\n",
      "Episode: 90, Total reward: 135.0, Epsilon: 0.031743284323670413\n",
      "Model saved\n",
      "Episode: 91, Total reward: 565.0, Epsilon: 0.030440228475368536\n",
      "Episode: 92, Total reward: 560.0, Epsilon: 0.02921603224045905\n",
      "Episode: 93, Total reward: 145.0, Epsilon: 0.02826716056460496\n",
      "Update parameters of DQNTarget\n",
      "Episode: 94, Total reward: 150.0, Epsilon: 0.027625468733066906\n",
      "Episode: 95, Total reward: 660.0, Epsilon: 0.026154924780106975\n",
      "Episode: 96, Total reward: 100.0, Epsilon: 0.025506587647163008\n",
      "Episode: 97, Total reward: 90.0, Epsilon: 0.024938547356180226\n",
      "Update parameters of DQNTarget\n",
      "Episode: 98, Total reward: 80.0, Epsilon: 0.024488930486147288\n",
      "Episode: 99, Total reward: 180.0, Epsilon: 0.023668650733601786\n",
      "Episode: 100, Total reward: 155.0, Epsilon: 0.022982274708742825\n",
      "Model saved\n",
      "CPU times: user 3h 19min, sys: 4h 16min 3s, total: 7h 35min 3s\n",
      "Wall time: 2h 43min 26s\n"
     ]
    }
   ],
   "source": [
    "%%time\n",
    "!rm -rf $SAVE_PATH\n",
    "train_stats = dqn_training(dqn, dqn_target, num_episodes=NUM_EPISODES)"
   ]
  },
  {
   "cell_type": "markdown",
   "metadata": {},
   "source": [
    "#### Training stats"
   ]
  },
  {
   "cell_type": "code",
   "execution_count": 14,
   "metadata": {},
   "outputs": [],
   "source": [
    "iters_per_episode, reward_per_episode, loss_per_iter, best_episodes = train_stats"
   ]
  },
  {
   "cell_type": "markdown",
   "metadata": {},
   "source": [
    "#### Save episodes with high reward during training phase (max 2)"
   ]
  },
  {
   "cell_type": "code",
   "execution_count": null,
   "metadata": {},
   "outputs": [],
   "source": [
    "!rm -rf ./train_stats\n",
    "!mkdir ./train_stats"
   ]
  },
  {
   "cell_type": "code",
   "execution_count": 16,
   "metadata": {},
   "outputs": [
    {
     "name": "stdout",
     "output_type": "stream",
     "text": [
      "CPU times: user 452 ms, sys: 2.33 s, total: 2.78 s\n",
      "Wall time: 29 s\n"
     ]
    }
   ],
   "source": [
    "%%time\n",
    "for episode, reward, frames in best_episodes:\n",
    "    np.save(f'./train_stats/train_episode_{episode}_reward_{int(reward)}.npy', frames)"
   ]
  },
  {
   "cell_type": "markdown",
   "metadata": {},
   "source": [
    "#### Some plots"
   ]
  },
  {
   "cell_type": "code",
   "execution_count": 17,
   "metadata": {},
   "outputs": [
    {
     "data": {
      "image/png": "[encoded data removed]",
      "text/plain": [
       "<Figure size 1296x288 with 3 Axes>"
      ]
     },
     "metadata": {
      "needs_background": "light"
     },
     "output_type": "display_data"
    }
   ],
   "source": [
    "episode_range = np.arange(len(iters_per_episode)) + 1\n",
    "iter_range = np.arange(len(loss_per_iter)) + 1\n",
    "\n",
    "plt.figure(figsize=(18, 4))\n",
    "plt.subplot(1, 3, 1)\n",
    "plt.title('Iterations per episode')\n",
    "plt.plot(episode_range, iters_per_episode)\n",
    "plt.ylabel('iterations')\n",
    "plt.xlabel('episode')\n",
    "\n",
    "plt.subplot(1, 3, 2)\n",
    "plt.title('Reward per episode')\n",
    "plt.plot(episode_range, reward_per_episode)\n",
    "plt.ylabel('reward')\n",
    "plt.xlabel('episode')\n",
    "\n",
    "plt.subplot(1, 3, 3)\n",
    "plt.title('Loss')\n",
    "plt.plot(iter_range, loss_per_iter)\n",
    "plt.ylabel('loss')\n",
    "plt.xlabel('iteration')\n",
    "plt.show()"
   ]
  },
  {
   "cell_type": "markdown",
   "metadata": {},
   "source": [
    "### Test and watch how the agent plays SpaceInvaders-Atari2600"
   ]
  },
  {
   "cell_type": "code",
   "execution_count": 18,
   "metadata": {},
   "outputs": [],
   "source": [
    "def test(dqn, env, episode=NUM_EPISODES):\n",
    "    frames = []\n",
    "    with tf.Session() as sess:\n",
    "        # load the model\n",
    "        tf.train.Saver().restore(sess, SAVE_PATH + f'/model_episode_{episode}.ckpt')\n",
    "        \n",
    "        step = 0\n",
    "        total_reward = 0\n",
    "        done = False\n",
    "        stacked_frames = []\n",
    "        \n",
    "        state = env.reset()\n",
    "        frames.append(state)\n",
    "        state, stacked_frames = stack_frames(stacked_frames, state, \n",
    "                                             is_new_episode=True)\n",
    "        env.render()\n",
    "        \n",
    "        while not done:\n",
    "            state = state.reshape([1, *STATE_SHAPE])\n",
    "            Q = sess.run(dqn.output,\n",
    "                         feed_dict={\n",
    "                             dqn.input_ph: state\n",
    "                         })\n",
    "            action_idx = np.argmax(Q)\n",
    "            action = POSSIBLE_ACTIONS[action_idx]\n",
    "            \n",
    "            next_state, reward, done, _ = env.step(action)\n",
    "            frames.append(next_state.copy())\n",
    "            next_state, stacked_frames = stack_frames(stacked_frames, next_state,\n",
    "                                                      is_new_episode=False)\n",
    "            state = next_state\n",
    "            env.render()\n",
    "            \n",
    "            step += 1\n",
    "            total_reward += reward\n",
    "        \n",
    "        print(f'Steps: {step}, total_reward: {total_reward}')\n",
    "    return frames"
   ]
  },
  {
   "cell_type": "code",
   "execution_count": 19,
   "metadata": {},
   "outputs": [
    {
     "name": "stdout",
     "output_type": "stream",
     "text": [
      "INFO:tensorflow:Restoring parameters from ./checkpoints/model_episode_100.ckpt\n",
      "Steps: 3448, total_reward: 170.0\n"
     ]
    }
   ],
   "source": [
    "frames = test(dqn, env)\n",
    "#env.close()"
   ]
  }
 ],
 "metadata": {
  "kernelspec": {
   "display_name": "Python 3",
   "language": "python",
   "name": "python3"
  },
  "language_info": {
   "codemirror_mode": {
    "name": "ipython",
    "version": 3
   },
   "file_extension": ".py",
   "mimetype": "text/x-python",
   "name": "python",
   "nbconvert_exporter": "python",
   "pygments_lexer": "ipython3",
   "version": "3.6.7"
  }
 },
 "nbformat": 4,
 "nbformat_minor": 2
}

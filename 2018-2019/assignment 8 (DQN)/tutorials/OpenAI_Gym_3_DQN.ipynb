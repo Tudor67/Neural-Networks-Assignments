{
 "cells": [
  {
   "cell_type": "markdown",
   "metadata": {},
   "source": [
    "# OpenAI Gym (DQN)\n",
    "https://medium.freecodecamp.org/an-introduction-to-deep-q-learning-lets-play-doom-54d02d8017d8"
   ]
  },
  {
   "cell_type": "markdown",
   "metadata": {},
   "source": [
    "## 1. Setup"
   ]
  },
  {
   "cell_type": "code",
   "execution_count": 1,
   "metadata": {},
   "outputs": [
    {
     "name": "stdout",
     "output_type": "stream",
     "text": [
      "sys.version: 3.6.7 |Anaconda, Inc.| (default, Oct 23 2018, 19:16:44) \n",
      "[GCC 7.3.0]\n",
      "skimage.version: 0.14.1\n",
      "tf.version: 1.11.0\n",
      "retro.version: 0.6.1.dev25+g9ec2e44\n"
     ]
    }
   ],
   "source": [
    "import matplotlib.pyplot as plt\n",
    "import numpy as np\n",
    "import skimage\n",
    "import retro\n",
    "import sys\n",
    "import tensorflow as tf\n",
    "\n",
    "from collections import deque\n",
    "\n",
    "%matplotlib inline\n",
    "\n",
    "print(f'sys.version: {sys.version}')\n",
    "print(f'skimage.version: {skimage.__version__}')\n",
    "print(f'tf.version: {tf.__version__}')\n",
    "print(f'retro.version: {retro.__version__}')"
   ]
  },
  {
   "cell_type": "markdown",
   "metadata": {},
   "source": [
    "## 2. Look at the SpaceInvaders-Atari2600 env\n",
    "Steps to follow:\n",
    "1. Download zip file from http://www.atarimania.com/rom_collection_archive_atari_2600_roms.html\n",
    "2. Open Roms.rar > ROMS.rar and find Space Invaders (1980) XXXXXX\n",
    "3. Extract all matches (there are 5 of them) into your destin folder\n",
    "4. python -m retro.import . (don't forget the point)"
   ]
  },
  {
   "cell_type": "code",
   "execution_count": 2,
   "metadata": {},
   "outputs": [
    {
     "name": "stdout",
     "output_type": "stream",
     "text": [
      "action_size: 8\n"
     ]
    }
   ],
   "source": [
    "env = retro.make('SpaceInvaders-Atari2600')\n",
    "env.reset()\n",
    "env.render()\n",
    "print(f'action_size: {env.action_space.n}')"
   ]
  },
  {
   "cell_type": "markdown",
   "metadata": {},
   "source": [
    "## 3. DQN"
   ]
  },
  {
   "cell_type": "markdown",
   "metadata": {},
   "source": [
    "### CNN architecture\n",
    "1. Conv2d(filters=32, kernel_size=8, strides=4, padding='valid', activation=ELU)\n",
    "2. Conv2d(filters=64, kernel_size=4, strides=2, padding='valid', activation=ELU)  \n",
    "3. Conv2d(filters=64, kernel_size=3, strides=2, padding='valid', activation=ELU) -> Flatten()  \n",
    "4. FC(512, activation=ELU)\n",
    "5. FC(NUM_ACTIONS, activation=Linear)"
   ]
  },
  {
   "cell_type": "markdown",
   "metadata": {},
   "source": [
    "### Some hyperparameters and constants"
   ]
  },
  {
   "cell_type": "code",
   "execution_count": 3,
   "metadata": {},
   "outputs": [],
   "source": [
    "# Preprocessing\n",
    "STACK_SIZE = 4 \n",
    "\n",
    "# Model\n",
    "STATE_SHAPE = [110, 84, STACK_SIZE]\n",
    "ACTION_SIZE = env.action_space.n\n",
    "# Hot encoded version of our actions\n",
    "POSSIBLE_ACTIONS = np.identity(ACTION_SIZE, dtype=int)\n",
    "\n",
    "# Training\n",
    "NUM_EPISODES = 6\n",
    "MAX_STEPS_PER_EPISODE = 50_000\n",
    "BATCH_SIZE = 64\n",
    "LEARNING_RATE = 2.5e-4\n",
    "GAMMA = 0.9\n",
    "\n",
    "# Eps-greedy\n",
    "EPS_START = 1\n",
    "EPS_END = 1e-2\n",
    "EPS_DECAY_RATE = 1e-4\n",
    "\n",
    "# Memory\n",
    "MEMORY_SIZE = 1_000_000\n",
    "PRETRAIN_LENGTH = BATCH_SIZE\n",
    "\n",
    "# Save the model every 5 episodes\n",
    "SAVE_EVERY = 2\n",
    "SAVE_PATH = './checkpoints'\n",
    "\n",
    "# Logs path\n",
    "LOGS_PATH = './logs'"
   ]
  },
  {
   "cell_type": "markdown",
   "metadata": {},
   "source": [
    "### Preprocessing functions"
   ]
  },
  {
   "cell_type": "code",
   "execution_count": 4,
   "metadata": {},
   "outputs": [],
   "source": [
    "def preprocess_frame(rgb_frame):\n",
    "    # gray\n",
    "    gray_frame = skimage.color.rgb2gray(rgb_frame)\n",
    "    \n",
    "    # crop\n",
    "    cropped_frame = gray_frame[8:-12, 4:-12]\n",
    "    \n",
    "    # norm\n",
    "    norm_frame = cropped_frame / 255.\n",
    "    \n",
    "    # resize\n",
    "    preprocessed_frame = skimage.transform.resize(norm_frame, [110, 84], \n",
    "                                                  mode='constant',\n",
    "                                                  anti_aliasing=False)\n",
    "    \n",
    "    # preprocessed\n",
    "    return preprocessed_frame\n",
    "\n",
    "def stack_frames(stacked_frames, state, is_new_episode):\n",
    "    frame = preprocess_frame(state)\n",
    "    \n",
    "    if is_new_episode:\n",
    "        stacked_frames = deque(maxlen=STACK_SIZE)\n",
    "        for _ in range(STACK_SIZE):\n",
    "            stacked_frames.append(frame)\n",
    "    else:\n",
    "        stacked_frames.append(frame)\n",
    "    \n",
    "    stacked_states = np.moveaxis(stacked_frames, 0, -1)\n",
    "    \n",
    "    # stacked_states.shape: [110, 84, 4]\n",
    "    # stacked_frames.shape: [4, 110, 84]\n",
    "    return stacked_states, stacked_frames"
   ]
  },
  {
   "cell_type": "markdown",
   "metadata": {},
   "source": [
    "### Memory class (for Experience Replay)"
   ]
  },
  {
   "cell_type": "code",
   "execution_count": 5,
   "metadata": {},
   "outputs": [],
   "source": [
    "class Memory:\n",
    "    def __init__(self, max_size):\n",
    "        self.buffer = deque(maxlen=max_size)\n",
    "        \n",
    "    def add(self, experience):\n",
    "        self.buffer.append(experience)\n",
    "        \n",
    "    def sample(self, batch_size):\n",
    "        buffer_size = len(self.buffer)\n",
    "        indices = np.random.choice(np.arange(buffer_size),\n",
    "                                   size=batch_size,\n",
    "                                   replace=False)\n",
    "        experiences_batch = [self.buffer[idx] for idx in indices]\n",
    "        return experiences_batch"
   ]
  },
  {
   "cell_type": "markdown",
   "metadata": {},
   "source": [
    "#### Pre-populate memory by taking random actions and storing each experience (state, action, reward, next_state, done)"
   ]
  },
  {
   "cell_type": "code",
   "execution_count": 6,
   "metadata": {},
   "outputs": [],
   "source": [
    "def get_pre_populated_memory(env):\n",
    "    memory = Memory(max_size=MEMORY_SIZE)\n",
    "    stacked_frames = []\n",
    "    state = None\n",
    "\n",
    "    for step in range(PRETRAIN_LENGTH):\n",
    "        if step == 0:\n",
    "            state = env.reset()\n",
    "            state, stacked_frames = stack_frames(stacked_frames, state, is_new_episode=True)\n",
    "\n",
    "        # random action\n",
    "        action_idx = np.random.randint(env.action_space.n)\n",
    "        action = POSSIBLE_ACTIONS[action_idx]\n",
    "        next_state, reward, done, _ = env.step(action)\n",
    "\n",
    "        next_state, stacked_frames = stack_frames(stacked_frames, next_state, is_new_episode=False)\n",
    "\n",
    "        if done:\n",
    "            # the end of episode (next_state = 0)\n",
    "            next_state = np.zeros(STATE_SHAPE)\n",
    "\n",
    "            # add experience to memory\n",
    "            memory.add((state, action, reward, next_state, done))\n",
    "\n",
    "            # start a new episode\n",
    "            state = env.reset()\n",
    "            state, stacked_frames = stack_frames(stacked_frames, state, is_new_episode=True)\n",
    "        else:\n",
    "            # add experience to memory\n",
    "            memory.add((state, action, reward, next_state, done))\n",
    "            state = next_state\n",
    "    \n",
    "    return memory"
   ]
  },
  {
   "cell_type": "markdown",
   "metadata": {},
   "source": [
    "### DQN class"
   ]
  },
  {
   "cell_type": "code",
   "execution_count": 7,
   "metadata": {},
   "outputs": [],
   "source": [
    "class DQN:\n",
    "    def __init__(self, state_shape, action_size, dqn_name='DQN'):\n",
    "        self.state_shape = state_shape\n",
    "        self.action_size = action_size\n",
    "        \n",
    "        with tf.variable_scope(dqn_name):\n",
    "            self.input_ph = tf.placeholder(tf.float32,\n",
    "                                           [None, *self.state_shape], name='input')\n",
    "            self.action_ph = tf.placeholder(tf.float32,\n",
    "                                            [None, self.action_size], name='action')\n",
    "            self.Q_target_ph = tf.placeholder(tf.float32,\n",
    "                                             [None], name='target')\n",
    "            self.learning_rate_ph = tf.placeholder(tf.float32,\n",
    "                                                   (), name='learning_rate')\n",
    "            \n",
    "            xavier_init = tf.glorot_uniform_initializer()\n",
    "            \n",
    "            # l1\n",
    "            self.conv1 = tf.layers.conv2d(self.input_ph,\n",
    "                                          filters=32, kernel_size=8,\n",
    "                                          strides=4, padding='valid',\n",
    "                                          kernel_initializer=xavier_init,\n",
    "                                          activation=tf.nn.elu, name='conv1')\n",
    "            \n",
    "            # l2\n",
    "            self.conv2 = tf.layers.conv2d(self.conv1,\n",
    "                                          filters=64, kernel_size=4,\n",
    "                                          strides=2, padding='valid',\n",
    "                                          kernel_initializer=xavier_init,\n",
    "                                          activation=tf.nn.elu, name='conv2')\n",
    "            \n",
    "            # l3\n",
    "            self.conv3 = tf.layers.conv2d(self.conv2,\n",
    "                                          filters=64, kernel_size=3,\n",
    "                                          strides=2, padding='valid',\n",
    "                                          kernel_initializer=xavier_init,\n",
    "                                          activation=tf.nn.elu, name='conv3')\n",
    "            self.flatten3 = tf.layers.flatten(self.conv3)\n",
    "            \n",
    "            # l4\n",
    "            self.fc4 = tf.layers.dense(self.flatten3,\n",
    "                                       units=512,\n",
    "                                       kernel_initializer=xavier_init,\n",
    "                                       activation=tf.nn.elu, name='fc4')\n",
    "            \n",
    "            # l5\n",
    "            self.output = tf.layers.dense(self.fc4,\n",
    "                                          units=self.action_size,\n",
    "                                          kernel_initializer=xavier_init,\n",
    "                                          activation=None, name='output')\n",
    "            \n",
    "            # prediction\n",
    "            self.Q = tf.reduce_sum(tf.multiply(self.output, self.action_ph))\n",
    "            \n",
    "            with tf.name_scope('loss'):\n",
    "                self.loss = tf.reduce_mean(tf.square(self.Q_target_ph - self.Q))\n",
    "            \n",
    "            with tf.name_scope('optimization'):\n",
    "                self.optimizer = tf.train.AdamOptimizer(self.learning_rate_ph)\n",
    "                self.optimization_step = self.optimizer.minimize(self.loss)"
   ]
  },
  {
   "cell_type": "markdown",
   "metadata": {},
   "source": [
    "### Instantiate a DQN"
   ]
  },
  {
   "cell_type": "code",
   "execution_count": 8,
   "metadata": {},
   "outputs": [],
   "source": [
    "tf.reset_default_graph()\n",
    "\n",
    "dqn = DQN(state_shape=STATE_SHAPE, action_size=ACTION_SIZE)"
   ]
  },
  {
   "cell_type": "markdown",
   "metadata": {},
   "source": [
    "### Set up Tensorboard"
   ]
  },
  {
   "cell_type": "code",
   "execution_count": 9,
   "metadata": {},
   "outputs": [],
   "source": [
    "# remove old logs\n",
    "!rm -rf $LOGS_PATH"
   ]
  },
  {
   "cell_type": "code",
   "execution_count": 10,
   "metadata": {},
   "outputs": [],
   "source": [
    "writer = tf.summary.FileWriter(LOGS_PATH)\n",
    "tf.summary.scalar('loss', dqn.loss)\n",
    "write_summaries = tf.summary.merge_all()"
   ]
  },
  {
   "cell_type": "markdown",
   "metadata": {},
   "source": [
    "### DQN (training algorithm)"
   ]
  },
  {
   "cell_type": "code",
   "execution_count": 11,
   "metadata": {},
   "outputs": [],
   "source": [
    "def eps_greedy(sess, state, eps_decay_step):\n",
    "    # eps: exploration probability\n",
    "    eps = EPS_END + (EPS_START - EPS_END) * np.exp(-EPS_DECAY_RATE * eps_decay_step)\n",
    "    \n",
    "    if np.random.rand() < eps:\n",
    "        # exploration with eps probability\n",
    "        action = env.action_space.sample()\n",
    "    else:\n",
    "        # exploitation with (1 - eps) probability\n",
    "        Q = sess.run(dqn.output,\n",
    "                     feed_dict={\n",
    "                         dqn.input_ph: state.reshape(1, *STATE_SHAPE)\n",
    "                     })\n",
    "        \n",
    "        action_idx = np.argmax(Q)\n",
    "        action = POSSIBLE_ACTIONS[action_idx]\n",
    "\n",
    "    return action, eps"
   ]
  },
  {
   "cell_type": "code",
   "execution_count": 12,
   "metadata": {},
   "outputs": [],
   "source": [
    "def dqn_training(dqn, num_episodes=NUM_EPISODES, \n",
    "                 max_steps_per_episode=MAX_STEPS_PER_EPISODE, \n",
    "                 batch_size=BATCH_SIZE,\n",
    "                 learning_rate=LEARNING_RATE):\n",
    "    \n",
    "    # memory for experience replay\n",
    "    memory = get_pre_populated_memory(env)\n",
    "    \n",
    "    # to save some ckpts\n",
    "    saver = tf.train.Saver()\n",
    "    \n",
    "    with tf.Session() as sess:\n",
    "        # init tf variables\n",
    "        sess.run(tf.global_variables_initializer())\n",
    "        \n",
    "        # for exploration-exploitation tradeoff\n",
    "        eps_decay_step = 0\n",
    "        iters_per_episode = []\n",
    "        reward_per_episode = []\n",
    "        loss_per_iter = []\n",
    "        \n",
    "        for episode in range(1, num_episodes + 1):\n",
    "            step = 0\n",
    "            done = False\n",
    "            stacked_frames = []\n",
    "            episode_rewards = []\n",
    "            \n",
    "            # new episode\n",
    "            state = env.reset()\n",
    "            state, stacked_frames = stack_frames(stacked_frames, state, is_new_episode=True)\n",
    "            \n",
    "            while (not done) and (step < max_steps_per_episode):\n",
    "                step += 1\n",
    "                eps_decay_step += 1\n",
    "                \n",
    "                action, eps = eps_greedy(sess, state, eps_decay_step)\n",
    "                next_state, reward, done, _ = env.step(action)\n",
    "                episode_rewards.append(reward)\n",
    "                \n",
    "                if done:\n",
    "                    # the end of episode (next_state = 0)\n",
    "                    next_state = np.zeros(STATE_SHAPE)\n",
    "                    nest_state, stacked_frames = stack_frames(stacked_frames, next_state,\n",
    "                                                              is_new_episode=False)\n",
    "                    # add experience to memory\n",
    "                    memory.add((state, action, reward, next_state, done))\n",
    "                    \n",
    "                    total_reward = np.sum(episode_rewards)\n",
    "                    reward_per_episode.append(total_reward)\n",
    "                    iters_per_episode.append(step)\n",
    "                    \n",
    "                    print(f'Episode: {episode}, '\n",
    "                          f'Total reward: {total_reward}, '\n",
    "                          f'Epsilon: {eps}')\n",
    "                else:\n",
    "                    next_state, stacked_frames = stack_frames(stacked_frames, state,\n",
    "                                                              is_new_episode=False)\n",
    "                    # add experience to memory\n",
    "                    memory.add((state, action, reward, next_state, done))\n",
    "                    \n",
    "                    state = next_state\n",
    "                    \n",
    "                ### learning part ###\n",
    "                # sample a random batch of experiences from memory\n",
    "                batch = memory.sample(batch_size)\n",
    "                batch_states = np.array([experience[0] for experience in batch], ndmin=3)\n",
    "                batch_actions = np.array([experience[1] for experience in batch])\n",
    "                batch_rewards = np.array([experience[2] for experience in batch])\n",
    "                batch_next_states = np.array([experience[3] for experience in batch], ndmin=3)\n",
    "                batch_dones = np.array([experience[4] for experience in batch])\n",
    "\n",
    "                # if the episode ends at next_state:\n",
    "                #     Q_target(state) = reward\n",
    "                # else:\n",
    "                #     Q_target(state) = reward + gamma * argmax(a){Q_next_state}\n",
    "                Q_batch_next_state = sess.run(dqn.output,\n",
    "                                        feed_dict={\n",
    "                                            dqn.input_ph: batch_next_states\n",
    "                                        })\n",
    "                \n",
    "                Q_target = np.zeros(batch_size)\n",
    "                for i in range(batch_size):\n",
    "                    if batch_dones[i]:\n",
    "                        Q_target[i] = batch_rewards[i]\n",
    "                    else:\n",
    "                        Q_target[i] = batch_rewards[i] + GAMMA * np.max(Q_batch_next_state[i])\n",
    "                \n",
    "                loss, _, summary = sess.run([dqn.loss, dqn.optimization_step, write_summaries],\n",
    "                                      feed_dict={\n",
    "                                          dqn.input_ph: batch_states,\n",
    "                                          dqn.action_ph: batch_actions,\n",
    "                                          dqn.Q_target_ph: Q_target,\n",
    "                                          dqn.learning_rate_ph: learning_rate\n",
    "                                      })\n",
    "                \n",
    "                loss_per_iter.append(loss)\n",
    "                writer.add_summary(summary, eps_decay_step)\n",
    "                writer.flush()\n",
    "                \n",
    "            if (episode == 1) or (episode % SAVE_EVERY == 0):\n",
    "                saver.save(sess, f'{SAVE_PATH}/model_episode_{episode}.ckpt')\n",
    "                print('Model saved')\n",
    "        \n",
    "        # close summary writer\n",
    "        writer.close()\n",
    "        \n",
    "    return iters_per_episode, reward_per_episode, loss_per_iter"
   ]
  },
  {
   "cell_type": "code",
   "execution_count": 13,
   "metadata": {},
   "outputs": [
    {
     "name": "stdout",
     "output_type": "stream",
     "text": [
      "Episode: 1, Total reward: 490.0, Epsilon: 0.7582259040411682\n",
      "Model saved\n",
      "Episode: 2, Total reward: 260.0, Epsilon: 0.5845027839417248\n",
      "Model saved\n",
      "Episode: 3, Total reward: 565.0, Epsilon: 0.39788346366451016\n",
      "Episode: 4, Total reward: 210.0, Epsilon: 0.31481497193526337\n",
      "Model saved\n",
      "Episode: 5, Total reward: 165.0, Epsilon: 0.26964230742142176\n",
      "Episode: 6, Total reward: 285.0, Epsilon: 0.1983129003976408\n",
      "Model saved\n",
      "CPU times: user 12min 53s, sys: 13min 34s, total: 26min 27s\n",
      "Wall time: 8min 51s\n"
     ]
    }
   ],
   "source": [
    "%%time\n",
    "!rm -rf $SAVE_PATH\n",
    "train_stats = dqn_training(dqn, num_episodes=NUM_EPISODES)"
   ]
  },
  {
   "cell_type": "markdown",
   "metadata": {},
   "source": [
    "#### Some plots"
   ]
  },
  {
   "cell_type": "code",
   "execution_count": 14,
   "metadata": {},
   "outputs": [
    {
     "data": {
      "image/png": "[encoded data removed]",
      "text/plain": [
       "<Figure size 1296x288 with 3 Axes>"
      ]
     },
     "metadata": {
      "needs_background": "light"
     },
     "output_type": "display_data"
    }
   ],
   "source": [
    "iters_per_episode, reward_per_episode, loss_per_iter = train_stats\n",
    "episode_range = np.arange(len(iters_per_episode)) + 1\n",
    "iter_range = np.arange(len(loss_per_iter)) + 1\n",
    "\n",
    "plt.figure(figsize=(18, 4))\n",
    "plt.subplot(1, 3, 1)\n",
    "plt.title('Iterations per episode')\n",
    "plt.plot(episode_range, iters_per_episode)\n",
    "plt.ylabel('iterations')\n",
    "plt.xlabel('episode')\n",
    "\n",
    "plt.subplot(1, 3, 2)\n",
    "plt.title('Reward per episode')\n",
    "plt.plot(episode_range, reward_per_episode)\n",
    "plt.ylabel('reward')\n",
    "plt.xlabel('episode')\n",
    "\n",
    "plt.subplot(1, 3, 3)\n",
    "plt.title('Loss')\n",
    "plt.plot(iter_range, loss_per_iter)\n",
    "plt.ylabel('loss')\n",
    "plt.xlabel('iteration')\n",
    "plt.show()"
   ]
  },
  {
   "cell_type": "markdown",
   "metadata": {},
   "source": [
    "### Test and watch how the agent plays SpaceInvaders-Atari2600"
   ]
  },
  {
   "cell_type": "code",
   "execution_count": 21,
   "metadata": {},
   "outputs": [],
   "source": [
    "def test(dqn, env):\n",
    "    with tf.Session() as sess:\n",
    "        # load the model\n",
    "        tf.train.Saver().restore(sess, SAVE_PATH + '/model_episode_6.ckpt')\n",
    "        \n",
    "        step = 0\n",
    "        total_reward = 0\n",
    "        done = False\n",
    "        stacked_frames = []\n",
    "        \n",
    "        state = env.reset()\n",
    "        state, stacked_frames = stack_frames(stacked_frames, state, \n",
    "                                             is_new_episode=True)\n",
    "        env.render()\n",
    "        \n",
    "        while not done:\n",
    "            state = state.reshape([1, *STATE_SHAPE])\n",
    "            Q = sess.run(dqn.output,\n",
    "                         feed_dict={\n",
    "                             dqn.input_ph: state\n",
    "                         })\n",
    "            action_idx = np.argmax(Q)\n",
    "            action = POSSIBLE_ACTIONS[action_idx]\n",
    "            \n",
    "            next_state, reward, done, _ = env.step(action)\n",
    "            next_state, stacked_frames = stack_frames(stacked_frames, next_state,\n",
    "                                                      is_new_episode=False)\n",
    "            state = next_state\n",
    "            env.render()\n",
    "            \n",
    "            step += 1\n",
    "            total_reward += reward\n",
    "        \n",
    "        print(f'Steps: {step}, total_reward: {total_reward}')"
   ]
  },
  {
   "cell_type": "code",
   "execution_count": 22,
   "metadata": {},
   "outputs": [
    {
     "name": "stdout",
     "output_type": "stream",
     "text": [
      "INFO:tensorflow:Restoring parameters from ./checkpoints/model_episode_6.ckpt\n",
      "Steps: 3012, total_reward: 465.0\n"
     ]
    }
   ],
   "source": [
    "test(dqn, env)"
   ]
  }
 ],
 "metadata": {
  "kernelspec": {
   "display_name": "Python 3",
   "language": "python",
   "name": "python3"
  },
  "language_info": {
   "codemirror_mode": {
    "name": "ipython",
    "version": 3
   },
   "file_extension": ".py",
   "mimetype": "text/x-python",
   "name": "python",
   "nbconvert_exporter": "python",
   "pygments_lexer": "ipython3",
   "version": "3.6.7"
  }
 },
 "nbformat": 4,
 "nbformat_minor": 2
}

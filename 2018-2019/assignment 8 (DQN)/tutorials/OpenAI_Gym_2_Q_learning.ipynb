{
 "cells": [
  {
   "cell_type": "markdown",
   "metadata": {},
   "source": [
    "# OpenAI Gym (Q-learning algorithm)\n",
    "https://www.kaggle.com/charel/learn-by-example-reinforcement-learning-with-gym"
   ]
  },
  {
   "cell_type": "markdown",
   "metadata": {},
   "source": [
    "## Setup"
   ]
  },
  {
   "cell_type": "code",
   "execution_count": 1,
   "metadata": {},
   "outputs": [],
   "source": [
    "import gym\n",
    "import matplotlib.pyplot as plt\n",
    "import numpy as np\n",
    "\n",
    "%matplotlib inline"
   ]
  },
  {
   "cell_type": "markdown",
   "metadata": {},
   "source": [
    "## Look at the Taxi-v2 env"
   ]
  },
  {
   "cell_type": "code",
   "execution_count": 2,
   "metadata": {},
   "outputs": [
    {
     "name": "stdout",
     "output_type": "stream",
     "text": [
      "+---------+\n",
      "|R:\u001b[43m \u001b[0m| : :\u001b[34;1mG\u001b[0m|\n",
      "| : : : : |\n",
      "| : : : : |\n",
      "| | : | : |\n",
      "|\u001b[35mY\u001b[0m| : |B: |\n",
      "+---------+\n",
      "\n"
     ]
    }
   ],
   "source": [
    "env = gym.make('Taxi-v2')\n",
    "env.env.s = 26\n",
    "env.render()\n",
    "env.close()"
   ]
  },
  {
   "cell_type": "markdown",
   "metadata": {},
   "source": [
    "__Actions__:\n",
    "- 0: move south\n",
    "- 1: move north\n",
    "- 2: move east \n",
    "- 3: move west \n",
    "- 4: pick up passenger\n",
    "- 5: drop off passenger\n",
    "\n",
    "__Rendering__:\n",
    "- blue: passenger\n",
    "- magenta: destination\n",
    "- yellow: empty taxi\n",
    "- green: full taxi\n",
    "- |: wall\n",
    "- other letters: locations"
   ]
  },
  {
   "cell_type": "markdown",
   "metadata": {},
   "source": [
    "## Q-learning algorithm\n",
    "* The Q-learning algorithm is centered around the actor (in our case the Taxi);\n",
    "* It does not require a model of the environment (__model-free__ method);\n",
    "* It is an __off-policy__ RL algorithm: a different policy is used for value evaluation than what is used to select the next action;  \n",
    "https://stats.stackexchange.com/questions/184657/what-is-the-difference-between-off-policy-and-on-policy-learning\n",
    "* It learns by trail and error and updates Q-matrix based on reward."
   ]
  },
  {
   "cell_type": "markdown",
   "metadata": {},
   "source": [
    "### Bellman Equation (extended with a learning rate)\n",
    "https://en.wikipedia.org/wiki/Q-learning\n",
    "\n",
    "$Q^{new}(s_{t}, a_{t}) = (1 - \\alpha) Q(s_{t}, a_{t}) + \\alpha (R_{t+1} + \\gamma \\max \\limits_{a} Q(s_{t+1}, a))$  \n",
    "\n",
    "- $Q$: Function that calculates the quality of a state-action combination.\n",
    "- $R_{t+1}$: Reward received when moving from the state $s_{t}$ to the state $s_{t+1}$.\n",
    "- $\\alpha$: Learning rate, where $0 < \\alpha \\leq 1$. It determines to what extent newly acquired information overrides old information.\n",
    "- $\\gamma$: Discount factor between 0 and 1. Higher $\\gamma$ means a higher focus on long term rewards."
   ]
  },
  {
   "cell_type": "code",
   "execution_count": 3,
   "metadata": {},
   "outputs": [],
   "source": [
    "env = gym.make('Taxi-v2')"
   ]
  },
  {
   "cell_type": "code",
   "execution_count": 4,
   "metadata": {},
   "outputs": [
    {
     "name": "stdout",
     "output_type": "stream",
     "text": [
      "NUM_ACTIONS: 6\n",
      "NUM_STATES: 500\n"
     ]
    }
   ],
   "source": [
    "NUM_ACTIONS = env.action_space.n\n",
    "NUM_STATES = env.observation_space.n\n",
    "print(f'NUM_ACTIONS: {NUM_ACTIONS}')\n",
    "print(f'NUM_STATES: {NUM_STATES}')"
   ]
  },
  {
   "cell_type": "code",
   "execution_count": 5,
   "metadata": {},
   "outputs": [],
   "source": [
    "Q = np.zeros([NUM_STATES, NUM_ACTIONS])\n",
    "gamma = 0.9\n",
    "lr = 0.9"
   ]
  },
  {
   "cell_type": "code",
   "execution_count": 6,
   "metadata": {},
   "outputs": [],
   "source": [
    "def Q_learning(env, num_episodes=1000):\n",
    "    stats = {}\n",
    "    for episode in range(1, num_episodes + 1):\n",
    "        iteration = 0\n",
    "        total_reward = 0\n",
    "        done = False\n",
    "        s = env.reset()\n",
    "        \n",
    "        while not done:\n",
    "            a = np.argmax(Q[s, :])\n",
    "            s_next, reward, done, _ = env.step(a)\n",
    "            Q[s, a] = (1 - lr) * Q[s, a] + lr * (reward + gamma * np.max(Q[s_next, :]))\n",
    "            s = s_next\n",
    "            \n",
    "            iteration += 1\n",
    "            total_reward += reward\n",
    "        \n",
    "        stats[episode] = (iteration, total_reward)\n",
    "        if (episode == 1) or (episode % 100 == 0):\n",
    "            print(f'Episode: {episode}, iterations: {iteration}, reward: {total_reward}')\n",
    "            \n",
    "    return stats\n",
    "            \n",
    "def solve_game(env, Q, s=404):\n",
    "    total_reward = 0\n",
    "    done = False\n",
    "    \n",
    "    env.reset()\n",
    "    env.env.s = s\n",
    "    env.render()\n",
    "    \n",
    "    while not done:\n",
    "        a = np.argmax(Q[s, :])\n",
    "        s_next, reward, done, _ = env.step(a)\n",
    "        s = s_next\n",
    "        env.render()\n",
    "        print(f'reward: {reward}')\n",
    "        total_reward += reward\n",
    "        \n",
    "    print(f'total reward: {total_reward}')"
   ]
  },
  {
   "cell_type": "code",
   "execution_count": 7,
   "metadata": {},
   "outputs": [
    {
     "name": "stdout",
     "output_type": "stream",
     "text": [
      "Episode: 1, iterations: 200, reward: -632\n",
      "Episode: 100, iterations: 52, reward: -31\n",
      "Episode: 200, iterations: 78, reward: -57\n",
      "Episode: 300, iterations: 12, reward: 9\n",
      "Episode: 400, iterations: 16, reward: 5\n",
      "Episode: 500, iterations: 14, reward: 7\n",
      "Episode: 600, iterations: 12, reward: 9\n",
      "Episode: 700, iterations: 14, reward: 7\n",
      "Episode: 800, iterations: 13, reward: 8\n",
      "Episode: 900, iterations: 13, reward: 8\n",
      "Episode: 1000, iterations: 10, reward: 11\n"
     ]
    },
    {
     "data": {
      "image/png": "[encoded data removed]",
      "text/plain": [
       "<Figure size 1080x360 with 2 Axes>"
      ]
     },
     "metadata": {
      "needs_background": "light"
     },
     "output_type": "display_data"
    }
   ],
   "source": [
    "stats = Q_learning(env)\n",
    "\n",
    "iterations_per_episode = np.array([stats[episode][0] for episode in sorted(stats.keys())])\n",
    "total_reward_per_episode = np.array([stats[episode][1] for episode in sorted(stats.keys())])\n",
    "\n",
    "plt.figure(figsize=(15, 5))\n",
    "plt.subplot(1, 2, 1)\n",
    "plt.title('Iterations per episode')\n",
    "plt.plot(np.arange(len(iterations_per_episode)) + 1, iterations_per_episode)\n",
    "plt.xlabel('episode')\n",
    "plt.ylabel('iterations')\n",
    "\n",
    "plt.subplot(1, 2, 2)\n",
    "plt.title('Total reward per episode')\n",
    "plt.plot(np.arange(len(total_reward_per_episode)) + 1, total_reward_per_episode)\n",
    "plt.xlabel('episode')\n",
    "plt.ylabel('total reward')\n",
    "plt.show()"
   ]
  },
  {
   "cell_type": "code",
   "execution_count": 8,
   "metadata": {
    "scrolled": false
   },
   "outputs": [
    {
     "name": "stdout",
     "output_type": "stream",
     "text": [
      "+---------+\n",
      "|\u001b[35mR\u001b[0m: | : :\u001b[34;1mG\u001b[0m|\n",
      "| : : : : |\n",
      "| : : : : |\n",
      "| | : | : |\n",
      "|\u001b[43mY\u001b[0m| : |B: |\n",
      "+---------+\n",
      "\n",
      "+---------+\n",
      "|\u001b[35mR\u001b[0m: | : :\u001b[34;1mG\u001b[0m|\n",
      "| : : : : |\n",
      "| : : : : |\n",
      "|\u001b[43m \u001b[0m| : | : |\n",
      "|Y| : |B: |\n",
      "+---------+\n",
      "  (North)\n",
      "reward: -1\n",
      "+---------+\n",
      "|\u001b[35mR\u001b[0m: | : :\u001b[34;1mG\u001b[0m|\n",
      "| : : : : |\n",
      "|\u001b[43m \u001b[0m: : : : |\n",
      "| | : | : |\n",
      "|Y| : |B: |\n",
      "+---------+\n",
      "  (North)\n",
      "reward: -1\n",
      "+---------+\n",
      "|\u001b[35mR\u001b[0m: | : :\u001b[34;1mG\u001b[0m|\n",
      "| : : : : |\n",
      "| :\u001b[43m \u001b[0m: : : |\n",
      "| | : | : |\n",
      "|Y| : |B: |\n",
      "+---------+\n",
      "  (East)\n",
      "reward: -1\n",
      "+---------+\n",
      "|\u001b[35mR\u001b[0m: | : :\u001b[34;1mG\u001b[0m|\n",
      "| :\u001b[43m \u001b[0m: : : |\n",
      "| : : : : |\n",
      "| | : | : |\n",
      "|Y| : |B: |\n",
      "+---------+\n",
      "  (North)\n",
      "reward: -1\n",
      "+---------+\n",
      "|\u001b[35mR\u001b[0m: | : :\u001b[34;1mG\u001b[0m|\n",
      "| : :\u001b[43m \u001b[0m: : |\n",
      "| : : : : |\n",
      "| | : | : |\n",
      "|Y| : |B: |\n",
      "+---------+\n",
      "  (East)\n",
      "reward: -1\n",
      "+---------+\n",
      "|\u001b[35mR\u001b[0m: | : :\u001b[34;1mG\u001b[0m|\n",
      "| : : :\u001b[43m \u001b[0m: |\n",
      "| : : : : |\n",
      "| | : | : |\n",
      "|Y| : |B: |\n",
      "+---------+\n",
      "  (East)\n",
      "reward: -1\n",
      "+---------+\n",
      "|\u001b[35mR\u001b[0m: | : :\u001b[34;1mG\u001b[0m|\n",
      "| : : : :\u001b[43m \u001b[0m|\n",
      "| : : : : |\n",
      "| | : | : |\n",
      "|Y| : |B: |\n",
      "+---------+\n",
      "  (East)\n",
      "reward: -1\n",
      "+---------+\n",
      "|\u001b[35mR\u001b[0m: | : :\u001b[34;1m\u001b[43mG\u001b[0m\u001b[0m|\n",
      "| : : : : |\n",
      "| : : : : |\n",
      "| | : | : |\n",
      "|Y| : |B: |\n",
      "+---------+\n",
      "  (North)\n",
      "reward: -1\n",
      "+---------+\n",
      "|\u001b[35mR\u001b[0m: | : :\u001b[42mG\u001b[0m|\n",
      "| : : : : |\n",
      "| : : : : |\n",
      "| | : | : |\n",
      "|Y| : |B: |\n",
      "+---------+\n",
      "  (Pickup)\n",
      "reward: -1\n",
      "+---------+\n",
      "|\u001b[35mR\u001b[0m: | : :G|\n",
      "| : : : :\u001b[42m_\u001b[0m|\n",
      "| : : : : |\n",
      "| | : | : |\n",
      "|Y| : |B: |\n",
      "+---------+\n",
      "  (South)\n",
      "reward: -1\n",
      "+---------+\n",
      "|\u001b[35mR\u001b[0m: | : :G|\n",
      "| : : :\u001b[42m_\u001b[0m: |\n",
      "| : : : : |\n",
      "| | : | : |\n",
      "|Y| : |B: |\n",
      "+---------+\n",
      "  (West)\n",
      "reward: -1\n",
      "+---------+\n",
      "|\u001b[35mR\u001b[0m: | : :G|\n",
      "| : :\u001b[42m_\u001b[0m: : |\n",
      "| : : : : |\n",
      "| | : | : |\n",
      "|Y| : |B: |\n",
      "+---------+\n",
      "  (West)\n",
      "reward: -1\n",
      "+---------+\n",
      "|\u001b[35mR\u001b[0m: | : :G|\n",
      "| :\u001b[42m_\u001b[0m: : : |\n",
      "| : : : : |\n",
      "| | : | : |\n",
      "|Y| : |B: |\n",
      "+---------+\n",
      "  (West)\n",
      "reward: -1\n",
      "+---------+\n",
      "|\u001b[35mR\u001b[0m:\u001b[42m_\u001b[0m| : :G|\n",
      "| : : : : |\n",
      "| : : : : |\n",
      "| | : | : |\n",
      "|Y| : |B: |\n",
      "+---------+\n",
      "  (North)\n",
      "reward: -1\n",
      "+---------+\n",
      "|\u001b[35m\u001b[42mR\u001b[0m\u001b[0m: | : :G|\n",
      "| : : : : |\n",
      "| : : : : |\n",
      "| | : | : |\n",
      "|Y| : |B: |\n",
      "+---------+\n",
      "  (West)\n",
      "reward: -1\n",
      "+---------+\n",
      "|\u001b[35m\u001b[34;1m\u001b[43mR\u001b[0m\u001b[0m\u001b[0m: | : :G|\n",
      "| : : : : |\n",
      "| : : : : |\n",
      "| | : | : |\n",
      "|Y| : |B: |\n",
      "+---------+\n",
      "  (Dropoff)\n",
      "reward: 20\n",
      "total reward: 5\n"
     ]
    }
   ],
   "source": [
    "solve_game(env, Q)"
   ]
  }
 ],
 "metadata": {
  "kernelspec": {
   "display_name": "Python 3",
   "language": "python",
   "name": "python3"
  },
  "language_info": {
   "codemirror_mode": {
    "name": "ipython",
    "version": 3
   },
   "file_extension": ".py",
   "mimetype": "text/x-python",
   "name": "python",
   "nbconvert_exporter": "python",
   "pygments_lexer": "ipython3",
   "version": "3.6.7"
  }
 },
 "nbformat": 4,
 "nbformat_minor": 2
}

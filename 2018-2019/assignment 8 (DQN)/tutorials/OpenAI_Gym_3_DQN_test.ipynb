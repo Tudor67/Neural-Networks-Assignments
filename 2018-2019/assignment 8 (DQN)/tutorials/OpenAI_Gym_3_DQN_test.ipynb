{
 "cells": [
  {
   "cell_type": "markdown",
   "metadata": {},
   "source": [
    "# OpenAI Gym (DQN_test)\n",
    "https://medium.freecodecamp.org/an-introduction-to-deep-q-learning-lets-play-doom-54d02d8017d8"
   ]
  },
  {
   "cell_type": "markdown",
   "metadata": {},
   "source": [
    "## Setup"
   ]
  },
  {
   "cell_type": "code",
   "execution_count": 1,
   "metadata": {},
   "outputs": [
    {
     "name": "stdout",
     "output_type": "stream",
     "text": [
      "sys.version: 3.6.7 |Anaconda, Inc.| (default, Oct 23 2018, 19:16:44) \n",
      "[GCC 7.3.0]\n",
      "skimage.version: 0.14.1\n",
      "tf.version: 1.11.0\n",
      "retro.version: 0.6.1.dev25+g9ec2e44\n"
     ]
    }
   ],
   "source": [
    "import matplotlib.animation as animation\n",
    "import matplotlib.pyplot as plt\n",
    "import numpy as np\n",
    "import skimage\n",
    "import retro\n",
    "import sys\n",
    "import tensorflow as tf\n",
    "\n",
    "from animations import *\n",
    "from dqn import DQN\n",
    "from params import *\n",
    "from preprocessing import *\n",
    "\n",
    "%matplotlib inline\n",
    "%load_ext autoreload\n",
    "%autoreload 2\n",
    "\n",
    "print(f'sys.version: {sys.version}')\n",
    "print(f'skimage.version: {skimage.__version__}')\n",
    "print(f'tf.version: {tf.__version__}')\n",
    "print(f'retro.version: {retro.__version__}')"
   ]
  },
  {
   "cell_type": "markdown",
   "metadata": {},
   "source": [
    "## Look at the SpaceInvaders-Atari2600 env\n",
    "Steps to follow:\n",
    "1. Download zip file from http://www.atarimania.com/rom_collection_archive_atari_2600_roms.html\n",
    "2. Open Roms.rar > ROMS.rar and find Space Invaders (1980) XXXXXX\n",
    "3. Extract all matches (there are 5 of them) into your destin folder\n",
    "4. python -m retro.import . (don't forget the point)"
   ]
  },
  {
   "cell_type": "code",
   "execution_count": 2,
   "metadata": {},
   "outputs": [
    {
     "name": "stdout",
     "output_type": "stream",
     "text": [
      "action_size: 8\n"
     ]
    }
   ],
   "source": [
    "env = retro.make('SpaceInvaders-Atari2600')\n",
    "env.reset()\n",
    "env.render()\n",
    "print(f'action_size: {env.action_space.n}')"
   ]
  },
  {
   "cell_type": "markdown",
   "metadata": {},
   "source": [
    "### Instantiate DQN"
   ]
  },
  {
   "cell_type": "code",
   "execution_count": 3,
   "metadata": {},
   "outputs": [],
   "source": [
    "tf.reset_default_graph()\n",
    "\n",
    "dqn = DQN(state_shape=STATE_SHAPE, action_size=ACTION_SIZE, dqn_name='DQN')"
   ]
  },
  {
   "cell_type": "markdown",
   "metadata": {},
   "source": [
    "### Test and watch how the agent plays SpaceInvaders-Atari2600"
   ]
  },
  {
   "cell_type": "code",
   "execution_count": 4,
   "metadata": {},
   "outputs": [],
   "source": [
    "def test(dqn, env, episode=NUM_EPISODES):\n",
    "    frames = []\n",
    "    with tf.Session() as sess:\n",
    "        # load the model\n",
    "        tf.train.Saver().restore(sess, SAVE_PATH + f'/model_episode_{episode}.ckpt')\n",
    "        \n",
    "        step = 0\n",
    "        total_reward = 0\n",
    "        done = False\n",
    "        stacked_frames = []\n",
    "        \n",
    "        state = env.reset()\n",
    "        frames.append(state)\n",
    "        state, stacked_frames = stack_frames(stacked_frames, state, \n",
    "                                             is_new_episode=True)\n",
    "        env.render()\n",
    "        \n",
    "        while not done:\n",
    "            state = state.reshape([1, *STATE_SHAPE])\n",
    "            Q = sess.run(dqn.output,\n",
    "                         feed_dict={\n",
    "                             dqn.input_ph: state\n",
    "                         })\n",
    "            action_idx = np.argmax(Q)\n",
    "            action = POSSIBLE_ACTIONS[action_idx]\n",
    "            \n",
    "            next_state, reward, done, _ = env.step(action)\n",
    "            frames.append(next_state.copy())\n",
    "            next_state, stacked_frames = stack_frames(stacked_frames, next_state,\n",
    "                                                      is_new_episode=False)\n",
    "            state = next_state\n",
    "            env.render()\n",
    "            \n",
    "            step += 1\n",
    "            total_reward += reward\n",
    "        \n",
    "        print(f'Steps: {step}, total_reward: {total_reward}')\n",
    "    return episode, total_reward, frames"
   ]
  },
  {
   "cell_type": "code",
   "execution_count": 5,
   "metadata": {},
   "outputs": [
    {
     "name": "stdout",
     "output_type": "stream",
     "text": [
      "INFO:tensorflow:Restoring parameters from ./checkpoints/model_episode_300.ckpt\n",
      "Steps: 1716, total_reward: 80.0\n"
     ]
    }
   ],
   "source": [
    "episode, reward, frames = test(dqn, env)\n",
    "frames = np.array(frames)"
   ]
  },
  {
   "cell_type": "code",
   "execution_count": 6,
   "metadata": {},
   "outputs": [
    {
     "name": "stdout",
     "output_type": "stream",
     "text": [
      "CPU times: user 1.96 s, sys: 152 ms, total: 2.11 s\n",
      "Wall time: 14.7 s\n"
     ]
    },
    {
     "data": {
      "image/png": "[encoded data removed]",
      "text/plain": [
       "<Figure size 432x288 with 1 Axes>"
      ]
     },
     "metadata": {
      "needs_background": "light"
     },
     "output_type": "display_data"
    }
   ],
   "source": [
    "%%time\n",
    "save_ani(episode, int(reward), frames, out_path='./results/', mode='test')"
   ]
  },
  {
   "cell_type": "code",
   "execution_count": 7,
   "metadata": {},
   "outputs": [],
   "source": [
    "#env.close()"
   ]
  }
 ],
 "metadata": {
  "kernelspec": {
   "display_name": "Python 3",
   "language": "python",
   "name": "python3"
  },
  "language_info": {
   "codemirror_mode": {
    "name": "ipython",
    "version": 3
   },
   "file_extension": ".py",
   "mimetype": "text/x-python",
   "name": "python",
   "nbconvert_exporter": "python",
   "pygments_lexer": "ipython3",
   "version": "3.6.7"
  }
 },
 "nbformat": 4,
 "nbformat_minor": 2
}

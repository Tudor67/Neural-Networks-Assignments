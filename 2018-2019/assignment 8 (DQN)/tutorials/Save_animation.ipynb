{
 "cells": [
  {
   "cell_type": "code",
   "execution_count": 1,
   "metadata": {},
   "outputs": [
    {
     "name": "stdout",
     "output_type": "stream",
     "text": [
      "sys.version: 3.6.7 |Anaconda, Inc.| (default, Oct 23 2018, 19:16:44) \n",
      "[GCC 7.3.0]\n"
     ]
    }
   ],
   "source": [
    "import matplotlib.animation as animation\n",
    "import matplotlib.pyplot as plt\n",
    "import numpy as np\n",
    "import os\n",
    "import sys\n",
    "\n",
    "%matplotlib inline\n",
    "\n",
    "print(f'sys.version: {sys.version}')"
   ]
  },
  {
   "cell_type": "code",
   "execution_count": 2,
   "metadata": {},
   "outputs": [],
   "source": [
    "def save_ani(episode, reward, frames, out_path='./results/'):\n",
    "    if not os.path.exists(out_path):\n",
    "        os.mkdir(out_path)\n",
    "    \n",
    "    fig = plt.figure()\n",
    "    plt.title(f'train episode: {episode}, reward: {reward}')\n",
    "    plt.axis('off')\n",
    "\n",
    "    im = plt.imshow(frames[0], animated=True)\n",
    "\n",
    "    def update_fig(frame, *args):\n",
    "        im.set_array(frame)\n",
    "        return im,\n",
    "\n",
    "    ani = animation.FuncAnimation(fig, update_fig, frames=frames[::5])\n",
    "    ani.save(f'{out_path}train_episode_{episode}_reward_{reward}.gif', \n",
    "             writer='imagemagick',\n",
    "             fps=50)"
   ]
  },
  {
   "cell_type": "code",
   "execution_count": 3,
   "metadata": {},
   "outputs": [
    {
     "name": "stdout",
     "output_type": "stream",
     "text": [
      "['train_episode_3_reward_805.npy', 'train_episode_95_reward_660.npy']\n"
     ]
    },
    {
     "data": {
      "image/png": "[encoded data removed]",
      "text/plain": [
       "<Figure size 432x288 with 1 Axes>"
      ]
     },
     "metadata": {
      "needs_background": "light"
     },
     "output_type": "display_data"
    },
    {
     "data": {
      "image/png": "[encoded data removed]",
      "text/plain": [
       "<Figure size 432x288 with 1 Axes>"
      ]
     },
     "metadata": {
      "needs_background": "light"
     },
     "output_type": "display_data"
    }
   ],
   "source": [
    "filenames = os.listdir('./train_stats')\n",
    "print(filenames)\n",
    "\n",
    "for filename in filenames:\n",
    "    frames = np.load(f'./train_stats/{filename}')\n",
    "    episode = int(filename.split('_')[2].split('.')[0])\n",
    "    reward = int(filename.split('_')[4].split('.')[0])\n",
    "    save_ani(episode, reward, frames)"
   ]
  }
 ],
 "metadata": {
  "kernelspec": {
   "display_name": "Python 3",
   "language": "python",
   "name": "python3"
  },
  "language_info": {
   "codemirror_mode": {
    "name": "ipython",
    "version": 3
   },
   "file_extension": ".py",
   "mimetype": "text/x-python",
   "name": "python",
   "nbconvert_exporter": "python",
   "pygments_lexer": "ipython3",
   "version": "3.6.7"
  }
 },
 "nbformat": 4,
 "nbformat_minor": 2
}

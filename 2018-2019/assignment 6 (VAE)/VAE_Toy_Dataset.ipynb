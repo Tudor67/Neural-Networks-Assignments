{
 "cells": [
  {
   "cell_type": "markdown",
   "metadata": {
    "colab_type": "text",
    "id": "fe9J5R8u8hxM"
   },
   "source": [
    "# Variational Autoencoders (Toy dataset)\n",
    "Skeleton code from https://github.com/tudor-berariu/ann2018"
   ]
  },
  {
   "cell_type": "markdown",
   "metadata": {},
   "source": [
    "## 1. Miscellaneous"
   ]
  },
  {
   "cell_type": "code",
   "execution_count": 1,
   "metadata": {
    "colab": {},
    "colab_type": "code",
    "id": "c_XBQqbs-OpT"
   },
   "outputs": [],
   "source": [
    "import torch\n",
    "from torch import Tensor\n",
    "assert torch.cuda.is_available()"
   ]
  },
  {
   "cell_type": "code",
   "execution_count": 2,
   "metadata": {
    "colab": {},
    "colab_type": "code",
    "id": "jczhbJUtBfLq"
   },
   "outputs": [],
   "source": [
    "import matplotlib.pyplot as plt\n",
    "from math import ceil\n",
    "\n",
    "def show_images(X: torch.Tensor, nrows=3):\n",
    "    ncols = int(ceil(len(X) / nrows))\n",
    "    ratio = nrows / ncols\n",
    "    fig, axs = plt.subplots(nrows=nrows, ncols=ncols, figsize=(10, 10 * ratio))\n",
    "    for idx, img in enumerate(X):\n",
    "        r, c = idx // ncols, idx % ncols\n",
    "        axs[r][c].imshow(img[0].numpy(), aspect='equal', vmin=0, vmax=1, cmap='binary')\n",
    "    \n",
    "    for row_axs in axs:\n",
    "        for ax in row_axs:\n",
    "            ax.set_aspect('equal', 'box')\n",
    "            ax.set_yticklabels([])\n",
    "            ax.set_xticklabels([])\n",
    "    fig.tight_layout()"
   ]
  },
  {
   "cell_type": "markdown",
   "metadata": {
    "colab_type": "text",
    "id": "YXigSpNFb2CL"
   },
   "source": [
    "## 2. Our dataset"
   ]
  },
  {
   "cell_type": "code",
   "execution_count": 3,
   "metadata": {
    "colab": {
     "base_uri": "https://localhost:8080/",
     "height": 437
    },
    "colab_type": "code",
    "id": "kzGfg9kjetc2",
    "outputId": "5be8178e-fe9a-452c-c80c-d02678da93a6"
   },
   "outputs": [
    {
     "name": "stdout",
     "output_type": "stream",
     "text": [
      "torch.Size([15, 1, 4, 4])\n"
     ]
    },
    {
     "data": {
      "image/png": "[encoded data removed]",
      "text/plain": [
       "<Figure size 720x432 with 15 Axes>"
      ]
     },
     "metadata": {},
     "output_type": "display_data"
    }
   ],
   "source": [
    "def get_dataset(n, idxs):\n",
    "    X = torch.randn(n * 16) * .1\n",
    "    X[idxs] += 1\n",
    "    X = (X - X.min()) / (X.max() - X.min())\n",
    "    X.clamp_(0, 1)\n",
    "    X = X.reshape(n, 1, 4, 4)\n",
    "    return X\n",
    "\n",
    "\n",
    "n = 15\n",
    "idxs = [2, 6, 8, 9, 10, 11, 14, 17, 21, 24, 25, 26, 27, 29, 35, 39, 43, 44, 45,\n",
    "        46, 47, 48, 49, 50, 51, 52, 56, 60, 64, 68, 69, 70, 71, 72, 76, 80, 81,\n",
    "        82, 83, 84, 88, 92, 98, 102, 104, 105, 106, 107, 110, 112, 113, 114,\n",
    "        115, 116, 120, 124, 131, 135, 139, 140, 141, 142, 143, 147, 151, 155,\n",
    "        156, 157, 158, 159, 162, 166, 168, 169, 170, 171, 174, 178, 182, 186,\n",
    "        188, 189, 190, 191, 193, 196, 197, 198, 199, 201, 205, 209, 212, 213,\n",
    "        214, 215, 217, 221, 225, 228, 229, 230, 231, 233, 237]\n",
    "\n",
    "\n",
    "X = get_dataset(n, idxs)\n",
    "show_images(X)\n",
    "\n",
    "\n",
    "print(X.shape)"
   ]
  },
  {
   "cell_type": "markdown",
   "metadata": {
    "colab_type": "text",
    "id": "WXzgBOLTUiAm"
   },
   "source": [
    "## 3. The Variational Auto-encoder\n",
    "\n",
    "\n",
    "The encoder computes $q_{\\phi}\\left(z \\mid x\\right)$ predicting:\n",
    "\n",
    " - $\\mu_{\\phi}\\left(x\\right)$ and\n",
    " - $\\log \\sigma_{\\phi}^2\\left(x\\right)$.\n",
    " \n",
    " \n",
    " The decoder computes $p_{\\theta}\\left(x \\mid z\\right)$."
   ]
  },
  {
   "cell_type": "code",
   "execution_count": 4,
   "metadata": {
    "colab": {},
    "colab_type": "code",
    "id": "PdgjduyHk7NH"
   },
   "outputs": [],
   "source": [
    "import torch.nn as nn\n",
    "import torch.nn.functional as F\n",
    "\n",
    "class VAE(nn.Module):\n",
    "    def __init__(self, nz: int = 1) -> None:\n",
    "        super(VAE, self).__init__()\n",
    "        self.nz = nz  # The number of dimensions in the latent space\n",
    "        self.encoder = nn.Sequential(nn.Linear(16, 64), nn.ReLU())\n",
    "        self.mean = nn.Linear(64, nz)  # predicts the mean of p(z|x)\n",
    "        self.log_var = nn.Linear(64, nz)  # predicts the log-variance of p(z|x)\n",
    "        self.decoder = nn.Sequential(nn.Linear(nz, 64), nn.ReLU(),\n",
    "                                     nn.Linear(64, 16))\n",
    "    \n",
    "    def forward(self, x):\n",
    "        x = x.view(-1, 16) # Drop this if you use convolutional encoders\n",
    "\n",
    "        # Encoding x into mu, and log-var of p(z|x)\n",
    "        x = self.encoder(x)\n",
    "        mean = self.mean(x)\n",
    "        log_var = self.log_var(x)\n",
    "    \n",
    "        # ----------------------------------------------------------------\n",
    "        # TODO 1: compute z = (eps * std) + mean (reparametrization trick)\n",
    "        std = torch.exp(log_var / 2)\n",
    "        eps = torch.randn_like(std)\n",
    "        noise = eps * std + mean\n",
    "        # ----------------------------------------------------------------\n",
    "\n",
    "        # Decoding z into p(x|z)\n",
    "        x = self.decoder(noise)\n",
    "        x = torch.sigmoid(x)\n",
    "\n",
    "        return x.view(-1, 1, 4, 4), mean, log_var\n",
    "  \n",
    "    def generate(self, nsamples: int = None, noise: Tensor = None) -> Tensor:\n",
    "        # Generate some data\n",
    "        with torch.no_grad():\n",
    "            if noise is None:\n",
    "                noise = torch.randn(nsamples, self.nz)      \n",
    "            x = self.decoder(noise)\n",
    "            x = torch.sigmoid(x)\n",
    "            return x.view(-1, 1, 4, 4)"
   ]
  },
  {
   "cell_type": "markdown",
   "metadata": {
    "colab_type": "text",
    "id": "_77yv2p0ZkM5"
   },
   "source": [
    "## 4. Training the model\n",
    "\n",
    "The optimization criterion has two components.\n",
    "\n",
    " - the KL divergence between $q_{\\phi}\\left(z \\mid x\\right)$ and $p\\left(z\\right)$\n",
    "   * both are diagonal gaussians, therefore we have a simple formula for the KL divergence: [wiki](https://en.wikipedia.org/wiki/Kullback%E2%80%93Leibler_divergence#Examples)\n",
    "   \n",
    " - the reconstruction loss computed using the [binary cross entropy](https://pytorch.org/docs/stable/nn.html#binary-cross-entropy)\n",
    "   "
   ]
  },
  {
   "cell_type": "code",
   "execution_count": 5,
   "metadata": {
    "colab": {},
    "colab_type": "code",
    "id": "aFf2ZKtSqPVF"
   },
   "outputs": [],
   "source": [
    "import torch.optim as optim\n",
    "import numpy as np\n",
    "\n",
    "def train(vae: VAE, X: torch.Tensor, nsteps: int = 200000):\n",
    "    bce_trace, kl_trace = [], []\n",
    "    optimizer = optim.Adam(vae.parameters(), lr=.001)\n",
    "  \n",
    "    for step in range(nsteps):\n",
    "        optimizer.zero_grad()\n",
    "        rec, mean, log_var = vae(X + torch.randn_like(X) * .05)\n",
    "\n",
    "        # -----------------------------------------------\n",
    "        # TODO 2: compute the two losses (do not average)\n",
    "        std = torch.exp(log_var / 2)\n",
    "        bce = F.binary_cross_entropy(rec, X, reduction='sum')\n",
    "        kl = 0.5 * torch.sum(std ** 2 + mean ** 2 - log_var - 1)\n",
    "        # -----------------------------------------------\n",
    "\n",
    "        (bce + kl).backward()\n",
    "        optimizer.step()\n",
    "\n",
    "        # Chestiuni pentru afișare\n",
    "        bce_trace.append(bce.item())\n",
    "        kl_trace.append(kl.item())\n",
    "        \n",
    "        if (step + 1) % 100 == 0:\n",
    "            print(f\"\\rStep {step + 1:d}: BCE={np.mean(bce_trace):7.5f}  \"\n",
    "                  f\"KL={np.mean(kl_trace):7.5f}\", end=\"\")\n",
    "            bce_trace.clear()\n",
    "            kl_trace.clear()\n",
    "            if (step + 1) % 2500 == 0:\n",
    "                print(\"\")"
   ]
  },
  {
   "cell_type": "code",
   "execution_count": 6,
   "metadata": {
    "colab": {
     "base_uri": "https://localhost:8080/",
     "height": 1207
    },
    "colab_type": "code",
    "id": "zUNvzoi8sdFo",
    "outputId": "d1341f25-dc8c-462a-9384-94f5dd270fd5"
   },
   "outputs": [
    {
     "name": "stdout",
     "output_type": "stream",
     "text": [
      "Step 2500: BCE=124.08627  KL=21.40327\n",
      "Step 5000: BCE=121.51171  KL=22.73478\n",
      "Step 7500: BCE=118.72833  KL=23.95096\n",
      "Step 10000: BCE=116.03406  KL=25.23266\n",
      "Step 12500: BCE=114.52011  KL=25.78964\n",
      "Step 15000: BCE=113.27066  KL=26.21569\n",
      "Step 17500: BCE=113.04031  KL=26.38341\n",
      "Step 20000: BCE=112.53327  KL=26.08687\n",
      "Step 22500: BCE=112.09835  KL=26.53603\n",
      "Step 25000: BCE=111.80955  KL=27.05710\n",
      "Step 27500: BCE=111.38995  KL=27.29390\n",
      "Step 30000: BCE=111.39255  KL=26.35909\n",
      "Step 32500: BCE=110.91012  KL=27.30216\n",
      "Step 35000: BCE=110.99902  KL=27.11818\n",
      "Step 37500: BCE=111.01553  KL=26.88746\n",
      "Step 40000: BCE=110.35143  KL=27.28258\n",
      "Step 42500: BCE=110.58733  KL=27.05585\n",
      "Step 45000: BCE=110.33013  KL=27.25576\n",
      "Step 47500: BCE=110.24042  KL=27.01841\n",
      "Step 50000: BCE=110.44379  KL=27.61993\n",
      "Step 52500: BCE=110.90212  KL=27.00687\n",
      "Step 55000: BCE=110.07556  KL=27.86644\n",
      "Step 57500: BCE=110.43340  KL=27.52413\n",
      "Step 60000: BCE=110.03051  KL=27.28146\n",
      "Step 62500: BCE=109.90407  KL=26.81705\n",
      "Step 65000: BCE=109.87070  KL=27.51446\n",
      "Step 67500: BCE=109.95827  KL=27.93731\n",
      "Step 70000: BCE=110.08737  KL=27.70076\n",
      "Step 72500: BCE=109.79326  KL=27.56118\n",
      "Step 75000: BCE=110.00367  KL=27.20992\n",
      "Step 77500: BCE=110.46362  KL=27.01450\n",
      "Step 80000: BCE=109.26049  KL=27.93689\n",
      "Step 82500: BCE=109.90259  KL=27.31611\n",
      "Step 85000: BCE=109.75075  KL=27.47810\n",
      "Step 87500: BCE=109.51105  KL=27.94054\n",
      "Step 90000: BCE=110.18476  KL=27.49732\n",
      "Step 92500: BCE=109.46164  KL=27.56707\n",
      "Step 95000: BCE=109.36076  KL=27.93134\n",
      "Step 97500: BCE=109.25126  KL=27.53956\n",
      "Step 100000: BCE=109.61463  KL=27.86349\n",
      "Step 102500: BCE=109.71135  KL=27.50679\n",
      "Step 105000: BCE=109.45155  KL=27.57617\n",
      "Step 107500: BCE=109.89920  KL=27.94318\n",
      "Step 110000: BCE=109.82205  KL=27.78237\n",
      "Step 112500: BCE=109.60374  KL=28.37775\n",
      "Step 115000: BCE=109.60186  KL=27.50387\n",
      "Step 117500: BCE=109.21853  KL=27.84297\n",
      "Step 120000: BCE=109.43723  KL=27.97813\n",
      "Step 122500: BCE=109.35838  KL=27.22437\n",
      "Step 125000: BCE=110.14330  KL=27.36789\n",
      "Step 127500: BCE=109.57189  KL=28.21403\n",
      "Step 130000: BCE=109.93507  KL=27.91152\n",
      "Step 132500: BCE=109.06009  KL=27.91721\n",
      "Step 135000: BCE=109.37779  KL=27.78536\n",
      "Step 137500: BCE=109.69968  KL=27.87922\n",
      "Step 140000: BCE=109.00553  KL=27.65940\n",
      "Step 142500: BCE=109.30359  KL=28.00105\n",
      "Step 145000: BCE=109.58160  KL=28.22211\n",
      "Step 147500: BCE=109.41012  KL=28.00669\n",
      "Step 150000: BCE=108.90445  KL=27.75417\n",
      "Step 152500: BCE=109.06663  KL=27.81458\n",
      "Step 155000: BCE=109.87956  KL=27.07044\n",
      "Step 157500: BCE=110.06372  KL=27.91314\n",
      "Step 160000: BCE=109.47842  KL=27.67087\n",
      "Step 162500: BCE=109.33568  KL=27.53336\n",
      "Step 165000: BCE=108.89237  KL=27.65263\n",
      "Step 167500: BCE=109.82531  KL=27.76033\n",
      "Step 170000: BCE=109.74407  KL=27.39008\n",
      "Step 172500: BCE=109.12641  KL=27.24444\n",
      "Step 175000: BCE=109.49760  KL=27.66085\n",
      "Step 177500: BCE=108.95157  KL=27.73946\n",
      "Step 180000: BCE=109.28451  KL=27.67727\n",
      "Step 182500: BCE=109.19811  KL=27.29111\n",
      "Step 185000: BCE=109.12543  KL=28.20673\n",
      "Step 187500: BCE=109.39921  KL=27.78472\n",
      "Step 190000: BCE=108.93891  KL=27.52975\n",
      "Step 192500: BCE=109.47471  KL=28.15572\n",
      "Step 195000: BCE=109.63515  KL=27.02628\n",
      "Step 197500: BCE=108.91029  KL=27.89915\n",
      "Step 200000: BCE=109.12434  KL=27.48106\n",
      "CPU times: user 11min 7s, sys: 8min 34s, total: 19min 41s\n",
      "Wall time: 2min 51s\n"
     ]
    }
   ],
   "source": [
    "%%time\n",
    "vae = VAE()\n",
    "train(vae, X)"
   ]
  },
  {
   "cell_type": "markdown",
   "metadata": {
    "colab_type": "text",
    "id": "LQZU8-1dUvUM"
   },
   "source": [
    "## 5. Evaluating the model\n",
    "\n",
    "### 5.1 Reconstructions"
   ]
  },
  {
   "cell_type": "code",
   "execution_count": 7,
   "metadata": {
    "colab": {
     "base_uri": "https://localhost:8080/",
     "height": 437
    },
    "colab_type": "code",
    "id": "a6gvi7HyU3Ik",
    "outputId": "1a17667f-c775-4caf-9553-f5c91783ebfb"
   },
   "outputs": [
    {
     "data": {
      "image/png": "[encoded data removed]",
      "text/plain": [
       "<Figure size 720x432 with 15 Axes>"
      ]
     },
     "metadata": {},
     "output_type": "display_data"
    }
   ],
   "source": [
    "with torch.no_grad():\n",
    "    recon, _, _ = vae(X)\n",
    "\n",
    "show_images(recon)"
   ]
  },
  {
   "cell_type": "markdown",
   "metadata": {
    "colab_type": "text",
    "id": "9mLJhHIi0WkF"
   },
   "source": [
    "### 5.2 Samples from the model"
   ]
  },
  {
   "cell_type": "code",
   "execution_count": 8,
   "metadata": {
    "colab": {
     "base_uri": "https://localhost:8080/",
     "height": 437
    },
    "colab_type": "code",
    "id": "giGVCtlsudmp",
    "outputId": "1de3f065-194d-4c08-b5ac-62928599a586"
   },
   "outputs": [
    {
     "data": {
      "image/png": "[encoded data removed]",
      "text/plain": [
       "<Figure size 720x432 with 15 Axes>"
      ]
     },
     "metadata": {},
     "output_type": "display_data"
    }
   ],
   "source": [
    "X_gen = vae.generate(nsamples=15)\n",
    "show_images(X_gen)"
   ]
  },
  {
   "cell_type": "markdown",
   "metadata": {
    "colab_type": "text",
    "id": "aFusc5NL0nhb"
   },
   "source": [
    "### 5.3 Walk the latent space :)"
   ]
  },
  {
   "cell_type": "code",
   "execution_count": 9,
   "metadata": {
    "colab": {
     "base_uri": "https://localhost:8080/",
     "height": 725
    },
    "colab_type": "code",
    "id": "dCYXuGTBwd-b",
    "outputId": "027af256-1db1-4670-81b3-f1e9f17e08ee"
   },
   "outputs": [
    {
     "data": {
      "image/png": "[encoded data removed]",
      "text/plain": [
       "<Figure size 720x720 with 36 Axes>"
      ]
     },
     "metadata": {},
     "output_type": "display_data"
    }
   ],
   "source": [
    "N = 36\n",
    "noise = torch.linspace(-2, 2, N).unsqueeze(1)\n",
    "X_gen = vae.generate(noise=noise)\n",
    "show_images(X_gen, nrows=6)"
   ]
  }
 ],
 "metadata": {
  "accelerator": "GPU",
  "colab": {
   "collapsed_sections": [],
   "include_colab_link": true,
   "name": "Variational Autoencoders.ipynb",
   "provenance": [],
   "version": "0.3.2"
  },
  "kernelspec": {
   "display_name": "Python 3",
   "language": "python",
   "name": "python3"
  },
  "language_info": {
   "codemirror_mode": {
    "name": "ipython",
    "version": 3
   },
   "file_extension": ".py",
   "mimetype": "text/x-python",
   "name": "python",
   "nbconvert_exporter": "python",
   "pygments_lexer": "ipython3",
   "version": "3.6.7"
  }
 },
 "nbformat": 4,
 "nbformat_minor": 1
}

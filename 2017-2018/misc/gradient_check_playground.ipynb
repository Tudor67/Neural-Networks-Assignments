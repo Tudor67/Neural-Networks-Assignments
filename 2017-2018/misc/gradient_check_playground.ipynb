{
 "cells": [
  {
   "cell_type": "code",
   "execution_count": 1,
   "metadata": {},
   "outputs": [],
   "source": [
    "import numpy as np\n",
    "from gradient_check import eval_numerical_gradient_array\n",
    "\n",
    "%load_ext autoreload\n",
    "%autoreload 2\n",
    "\n",
    "def rel_error(x, y):\n",
    "    \"\"\" returns relative error \"\"\"\n",
    "    return np.max(np.abs(x - y) / (np.maximum(1e-8, np.abs(x) + np.abs(y))))"
   ]
  },
  {
   "cell_type": "code",
   "execution_count": 2,
   "metadata": {},
   "outputs": [],
   "source": [
    "def __tanh_forward__(x):\n",
    "    \"\"\"\n",
    "    Computes the forward pass for a layer of rectified linear units (ReLUs).\n",
    "\n",
    "    Input:\n",
    "    - x: Inputs, of any shape\n",
    "\n",
    "    Returns a tuple of:\n",
    "    - out: Output, of the same shape as x\n",
    "    - cache: x\n",
    "    \"\"\"\n",
    "    out = np.tanh(x)\n",
    "    cache = x\n",
    "    return out, cache\n",
    "\n",
    "\n",
    "def __tanh_backward__(dout, cache):\n",
    "    \"\"\"\n",
    "    Computes the backward pass for a layer of tanh units.\n",
    "\n",
    "    Input:\n",
    "    - dout: Upstream derivatives, of any shape\n",
    "    - cache: Input x, of same shape as dout\n",
    "\n",
    "    Returns:\n",
    "    - dx: Gradient with respect to x\n",
    "    \"\"\"\n",
    "    x = cache\n",
    "    dx = (1 - np.tanh(x) ** 2) * dout\n",
    "    return dx"
   ]
  },
  {
   "cell_type": "code",
   "execution_count": 3,
   "metadata": {},
   "outputs": [
    {
     "name": "stdout",
     "output_type": "stream",
     "text": [
      "7.947477070541923e-10\n"
     ]
    }
   ],
   "source": [
    "x = np.random.randn(30, 50)\n",
    "f = lambda x: __tanh_forward__(x)[0]\n",
    "\n",
    "dout = np.random.randn(*x.shape)\n",
    "\n",
    "loss, cache = __tanh_forward__(x)\n",
    "dx_analytic = __tanh_backward__(dout, cache)\n",
    "\n",
    "dx_num = eval_numerical_gradient_array(f, x, dout)\n",
    "\n",
    "print(rel_error(dx_analytic, dx_num))"
   ]
  }
 ],
 "metadata": {
  "kernelspec": {
   "display_name": "Python 3",
   "language": "python",
   "name": "python3"
  },
  "language_info": {
   "codemirror_mode": {
    "name": "ipython",
    "version": 3
   },
   "file_extension": ".py",
   "mimetype": "text/x-python",
   "name": "python",
   "nbconvert_exporter": "python",
   "pygments_lexer": "ipython3",
   "version": "3.6.6"
  }
 },
 "nbformat": 4,
 "nbformat_minor": 2
}

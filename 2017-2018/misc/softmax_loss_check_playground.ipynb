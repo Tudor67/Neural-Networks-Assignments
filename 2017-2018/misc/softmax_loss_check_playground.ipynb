{
 "cells": [
  {
   "cell_type": "code",
   "execution_count": 1,
   "metadata": {},
   "outputs": [],
   "source": [
    "import numpy as np"
   ]
  },
  {
   "cell_type": "code",
   "execution_count": 2,
   "metadata": {},
   "outputs": [],
   "source": [
    "def softmax_loss(x, y):\n",
    "    N = x.shape[0]\n",
    "    print('logits:\\n', x, '\\n')\n",
    "    \n",
    "    shifted_logits = x - np.max(x, axis=1, keepdims=True)\n",
    "    print('logits (shifted):\\n', shifted_logits, '\\n')\n",
    "    \n",
    "    Z = np.sum(np.exp(shifted_logits), axis=1, keepdims=True)\n",
    "    print('Z:\\n', Z, '\\n')\n",
    "    \n",
    "    log_probs = shifted_logits - np.log(Z)\n",
    "    print('log_probs:\\n', log_probs, '\\n')\n",
    "    \n",
    "    probs = np.exp(log_probs)\n",
    "    print('probs:\\n', probs, '\\n')\n",
    "    \n",
    "    expected_probs = np.exp(x) / np.sum(np.exp(x), axis=1, keepdims=True)\n",
    "    print('expected_probs:\\n', expected_probs, '\\n')\n",
    "    \n",
    "    loss = -np.sum(log_probs[np.arange(N), y]) / N\n",
    "    print('loss:\\n', loss, '\\n')\n",
    "    \n",
    "    return loss"
   ]
  },
  {
   "cell_type": "code",
   "execution_count": 3,
   "metadata": {},
   "outputs": [
    {
     "name": "stdout",
     "output_type": "stream",
     "text": [
      "logits:\n",
      " [[3 7 2]\n",
      " [6 5 0]] \n",
      "\n",
      "logits (shifted):\n",
      " [[-4  0 -5]\n",
      " [ 0 -1 -6]] \n",
      "\n",
      "Z:\n",
      " [[1.02505359]\n",
      " [1.37035819]] \n",
      "\n",
      "log_probs:\n",
      " [[-4.02474489 -0.02474489 -5.02474489]\n",
      " [-0.31507216 -1.31507216 -6.31507216]] \n",
      "\n",
      "probs:\n",
      " [[0.01786798 0.97555875 0.00657326]\n",
      " [0.72973621 0.26845495 0.00180884]] \n",
      "\n",
      "expected_probs:\n",
      " [[0.01786798 0.97555875 0.00657326]\n",
      " [0.72973621 0.26845495 0.00180884]] \n",
      "\n",
      "loss:\n",
      " 3.169908525402037 \n",
      "\n"
     ]
    },
    {
     "data": {
      "text/plain": [
       "3.169908525402037"
      ]
     },
     "execution_count": 3,
     "metadata": {},
     "output_type": "execute_result"
    }
   ],
   "source": [
    "x = np.array([[3, 7, 2], [6, 5, 0]])\n",
    "y = np.array([2, 1])\n",
    "softmax_loss(x, y)"
   ]
  }
 ],
 "metadata": {
  "kernelspec": {
   "display_name": "Python 3",
   "language": "python",
   "name": "python3"
  },
  "language_info": {
   "codemirror_mode": {
    "name": "ipython",
    "version": 3
   },
   "file_extension": ".py",
   "mimetype": "text/x-python",
   "name": "python",
   "nbconvert_exporter": "python",
   "pygments_lexer": "ipython3",
   "version": "3.6.6"
  }
 },
 "nbformat": 4,
 "nbformat_minor": 2
}
